{
  "cells": [
    {
      "cell_type": "markdown",
      "id": "013b3c3a",
      "metadata": {
        "id": "013b3c3a"
      },
      "source": [
        "# GAN - BREATHING WAVE\n",
        "## Generative Adversarial Networks\n",
        "### 05 May 2023\n",
        "***"
      ]
    },
    {
      "cell_type": "code",
      "source": [
        "!pip install sdv"
      ],
      "metadata": {
        "colab": {
          "base_uri": "https://localhost:8080/"
        },
        "id": "gtE94LaXxlaj",
        "outputId": "13a870c8-49e8-48ad-cca2-480f9f61091b"
      },
      "id": "gtE94LaXxlaj",
      "execution_count": 1,
      "outputs": [
        {
          "output_type": "stream",
          "name": "stdout",
          "text": [
            "Looking in indexes: https://pypi.org/simple, https://us-python.pkg.dev/colab-wheels/public/simple/\n",
            "Requirement already satisfied: sdv in /usr/local/lib/python3.10/dist-packages (1.1.0)\n",
            "Requirement already satisfied: Faker<15,>=10 in /usr/local/lib/python3.10/dist-packages (from sdv) (14.2.1)\n",
            "Requirement already satisfied: graphviz<1,>=0.13.2 in /usr/local/lib/python3.10/dist-packages (from sdv) (0.20.1)\n",
            "Requirement already satisfied: tqdm<5,>=4.15 in /usr/local/lib/python3.10/dist-packages (from sdv) (4.65.0)\n",
            "Requirement already satisfied: copulas<0.10,>=0.9.0 in /usr/local/lib/python3.10/dist-packages (from sdv) (0.9.0)\n",
            "Requirement already satisfied: ctgan<0.8,>=0.7.2 in /usr/local/lib/python3.10/dist-packages (from sdv) (0.7.3)\n",
            "Requirement already satisfied: deepecho<0.5,>=0.4.1 in /usr/local/lib/python3.10/dist-packages (from sdv) (0.4.1)\n",
            "Requirement already satisfied: rdt<2,>=1.4.2 in /usr/local/lib/python3.10/dist-packages (from sdv) (1.5.0)\n",
            "Requirement already satisfied: sdmetrics<0.11,>=0.10.0 in /usr/local/lib/python3.10/dist-packages (from sdv) (0.10.1)\n",
            "Requirement already satisfied: cloudpickle<3.0,>=2.1.0 in /usr/local/lib/python3.10/dist-packages (from sdv) (2.2.1)\n",
            "Requirement already satisfied: boto3<2,>=1.15.0 in /usr/local/lib/python3.10/dist-packages (from sdv) (1.26.148)\n",
            "Requirement already satisfied: botocore<2,>=1.18 in /usr/local/lib/python3.10/dist-packages (from sdv) (1.29.148)\n",
            "Requirement already satisfied: numpy<2,>=1.23.3 in /usr/local/lib/python3.10/dist-packages (from sdv) (1.24.3)\n",
            "Requirement already satisfied: pandas>=1.5.0 in /usr/local/lib/python3.10/dist-packages (from sdv) (1.5.3)\n",
            "Requirement already satisfied: jmespath<2.0.0,>=0.7.1 in /usr/local/lib/python3.10/dist-packages (from boto3<2,>=1.15.0->sdv) (1.0.1)\n",
            "Requirement already satisfied: s3transfer<0.7.0,>=0.6.0 in /usr/local/lib/python3.10/dist-packages (from boto3<2,>=1.15.0->sdv) (0.6.1)\n",
            "Requirement already satisfied: python-dateutil<3.0.0,>=2.1 in /usr/local/lib/python3.10/dist-packages (from botocore<2,>=1.18->sdv) (2.8.2)\n",
            "Requirement already satisfied: urllib3<1.27,>=1.25.4 in /usr/local/lib/python3.10/dist-packages (from botocore<2,>=1.18->sdv) (1.26.15)\n",
            "Requirement already satisfied: matplotlib<4,>=3.6.0 in /usr/local/lib/python3.10/dist-packages (from copulas<0.10,>=0.9.0->sdv) (3.7.1)\n",
            "Requirement already satisfied: scipy<2,>=1.9.2 in /usr/local/lib/python3.10/dist-packages (from copulas<0.10,>=0.9.0->sdv) (1.10.1)\n",
            "Requirement already satisfied: packaging<22,>=20 in /usr/local/lib/python3.10/dist-packages (from ctgan<0.8,>=0.7.2->sdv) (21.3)\n",
            "Requirement already satisfied: scikit-learn<2,>=1.1.3 in /usr/local/lib/python3.10/dist-packages (from ctgan<0.8,>=0.7.2->sdv) (1.2.2)\n",
            "Requirement already satisfied: torch>=1.11.0 in /usr/local/lib/python3.10/dist-packages (from ctgan<0.8,>=0.7.2->sdv) (2.0.1+cu118)\n",
            "Requirement already satisfied: pytz>=2020.1 in /usr/local/lib/python3.10/dist-packages (from pandas>=1.5.0->sdv) (2022.7.1)\n",
            "Requirement already satisfied: psutil<6,>=5.7 in /usr/local/lib/python3.10/dist-packages (from rdt<2,>=1.4.2->sdv) (5.9.5)\n",
            "Requirement already satisfied: plotly<6,>=5.10.0 in /usr/local/lib/python3.10/dist-packages (from sdmetrics<0.11,>=0.10.0->sdv) (5.13.1)\n",
            "Requirement already satisfied: contourpy>=1.0.1 in /usr/local/lib/python3.10/dist-packages (from matplotlib<4,>=3.6.0->copulas<0.10,>=0.9.0->sdv) (1.0.7)\n",
            "Requirement already satisfied: cycler>=0.10 in /usr/local/lib/python3.10/dist-packages (from matplotlib<4,>=3.6.0->copulas<0.10,>=0.9.0->sdv) (0.11.0)\n",
            "Requirement already satisfied: fonttools>=4.22.0 in /usr/local/lib/python3.10/dist-packages (from matplotlib<4,>=3.6.0->copulas<0.10,>=0.9.0->sdv) (4.39.3)\n",
            "Requirement already satisfied: kiwisolver>=1.0.1 in /usr/local/lib/python3.10/dist-packages (from matplotlib<4,>=3.6.0->copulas<0.10,>=0.9.0->sdv) (1.4.4)\n",
            "Requirement already satisfied: pillow>=6.2.0 in /usr/local/lib/python3.10/dist-packages (from matplotlib<4,>=3.6.0->copulas<0.10,>=0.9.0->sdv) (8.4.0)\n",
            "Requirement already satisfied: pyparsing>=2.3.1 in /usr/local/lib/python3.10/dist-packages (from matplotlib<4,>=3.6.0->copulas<0.10,>=0.9.0->sdv) (3.0.9)\n",
            "Requirement already satisfied: tenacity>=6.2.0 in /usr/local/lib/python3.10/dist-packages (from plotly<6,>=5.10.0->sdmetrics<0.11,>=0.10.0->sdv) (8.2.2)\n",
            "Requirement already satisfied: six>=1.5 in /usr/local/lib/python3.10/dist-packages (from python-dateutil<3.0.0,>=2.1->botocore<2,>=1.18->sdv) (1.16.0)\n",
            "Requirement already satisfied: joblib>=1.1.1 in /usr/local/lib/python3.10/dist-packages (from scikit-learn<2,>=1.1.3->ctgan<0.8,>=0.7.2->sdv) (1.2.0)\n",
            "Requirement already satisfied: threadpoolctl>=2.0.0 in /usr/local/lib/python3.10/dist-packages (from scikit-learn<2,>=1.1.3->ctgan<0.8,>=0.7.2->sdv) (3.1.0)\n",
            "Requirement already satisfied: filelock in /usr/local/lib/python3.10/dist-packages (from torch>=1.11.0->ctgan<0.8,>=0.7.2->sdv) (3.12.0)\n",
            "Requirement already satisfied: typing-extensions in /usr/local/lib/python3.10/dist-packages (from torch>=1.11.0->ctgan<0.8,>=0.7.2->sdv) (4.5.0)\n",
            "Requirement already satisfied: sympy in /usr/local/lib/python3.10/dist-packages (from torch>=1.11.0->ctgan<0.8,>=0.7.2->sdv) (1.11.1)\n",
            "Requirement already satisfied: networkx in /usr/local/lib/python3.10/dist-packages (from torch>=1.11.0->ctgan<0.8,>=0.7.2->sdv) (3.1)\n",
            "Requirement already satisfied: jinja2 in /usr/local/lib/python3.10/dist-packages (from torch>=1.11.0->ctgan<0.8,>=0.7.2->sdv) (3.1.2)\n",
            "Requirement already satisfied: triton==2.0.0 in /usr/local/lib/python3.10/dist-packages (from torch>=1.11.0->ctgan<0.8,>=0.7.2->sdv) (2.0.0)\n",
            "Requirement already satisfied: cmake in /usr/local/lib/python3.10/dist-packages (from triton==2.0.0->torch>=1.11.0->ctgan<0.8,>=0.7.2->sdv) (3.25.2)\n",
            "Requirement already satisfied: lit in /usr/local/lib/python3.10/dist-packages (from triton==2.0.0->torch>=1.11.0->ctgan<0.8,>=0.7.2->sdv) (16.0.5)\n",
            "Requirement already satisfied: MarkupSafe>=2.0 in /usr/local/lib/python3.10/dist-packages (from jinja2->torch>=1.11.0->ctgan<0.8,>=0.7.2->sdv) (2.1.2)\n",
            "Requirement already satisfied: mpmath>=0.19 in /usr/local/lib/python3.10/dist-packages (from sympy->torch>=1.11.0->ctgan<0.8,>=0.7.2->sdv) (1.3.0)\n"
          ]
        }
      ]
    },
    {
      "cell_type": "markdown",
      "id": "68fdb416",
      "metadata": {
        "id": "68fdb416"
      },
      "source": [
        "## PART 1 : Data Preprocessing"
      ]
    },
    {
      "cell_type": "markdown",
      "id": "ec8ffb1c",
      "metadata": {
        "id": "ec8ffb1c"
      },
      "source": [
        "### Importing Library"
      ]
    },
    {
      "cell_type": "code",
      "execution_count": 2,
      "id": "a98a04f8",
      "metadata": {
        "id": "a98a04f8"
      },
      "outputs": [],
      "source": [
        "import pandas as pd\n",
        "import numpy as np"
      ]
    },
    {
      "cell_type": "markdown",
      "id": "11d91f1b",
      "metadata": {
        "id": "11d91f1b"
      },
      "source": [
        "### Import Dataset"
      ]
    },
    {
      "cell_type": "code",
      "execution_count": 3,
      "id": "e0fbe09c",
      "metadata": {
        "id": "e0fbe09c"
      },
      "outputs": [],
      "source": [
        "df = pd.read_csv(\"https://raw.githubusercontent.com/yokahealthcare/Anasa-GAN/master/dataset/breathing_waveform_data.csv\").iloc[:, :-1] # get rid of last column (\"notes\")"
      ]
    },
    {
      "cell_type": "markdown",
      "id": "6fbd1908",
      "metadata": {
        "id": "6fbd1908"
      },
      "source": [
        "### Filter the zeros values\n",
        "> This will filtered the zeros value from all column (except first column)\n",
        ">\n",
        "> CAUSE : I think is natural for the first column to be 0.0 (because the time(X) still on 0 second)"
      ]
    },
    {
      "cell_type": "code",
      "execution_count": 4,
      "id": "35bc6bd7",
      "metadata": {
        "id": "35bc6bd7"
      },
      "outputs": [],
      "source": [
        "zeros_val = df[df.iloc[:, 1:].eq(0).any(axis=1)]"
      ]
    },
    {
      "cell_type": "code",
      "execution_count": 5,
      "id": "9fc73db1",
      "metadata": {
        "colab": {
          "base_uri": "https://localhost:8080/",
          "height": 423
        },
        "id": "9fc73db1",
        "outputId": "59e6ce36-384b-4027-faf1-ae782fcce976"
      },
      "outputs": [
        {
          "output_type": "execute_result",
          "data": {
            "text/plain": [
              "        0    1    2    3    4    5    6    7    8    9  ...   76   77   78  \\\n",
              "5473  0.0  0.0  0.0  0.0  0.0  0.0  0.0  0.0  0.0  0.0  ...  0.0  0.0  0.0   \n",
              "5474  0.0  0.0  0.0  0.0  0.0  0.0  0.0  0.0  0.0  0.0  ...  0.0  0.0  0.0   \n",
              "5475  0.0  0.0  0.0  0.0  0.0  0.0  0.0  0.0  0.0  0.0  ...  0.0  0.0  0.0   \n",
              "5476  0.0  0.0  0.0  0.0  0.0  0.0  0.0  0.0  0.0  0.0  ...  0.0  0.0  0.0   \n",
              "5477  0.0  0.0  0.0  0.0  0.0  0.0  0.0  0.0  0.0  0.0  ...  0.0  0.0  0.0   \n",
              "...   ...  ...  ...  ...  ...  ...  ...  ...  ...  ...  ...  ...  ...  ...   \n",
              "6142  0.0  0.0  0.0  0.0  0.0  0.0  0.0  0.0  0.0  0.0  ...  0.0  0.0  0.0   \n",
              "6143  0.0  0.0  0.0  0.0  0.0  0.0  0.0  0.0  0.0  0.0  ...  0.0  0.0  0.0   \n",
              "6144  0.0  0.0  0.0  0.0  0.0  0.0  0.0  0.0  0.0  0.0  ...  0.0  0.0  0.0   \n",
              "6145  0.0  0.0  0.0  0.0  0.0  0.0  0.0  0.0  0.0  0.0  ...  0.0  0.0  0.0   \n",
              "6146  0.0  0.0  0.0  0.0  0.0  0.0  0.0  0.0  0.0  0.0  ...  0.0  0.0  0.0   \n",
              "\n",
              "       79   80   81   82   83   84  labels  \n",
              "5473  0.0  0.0  0.0  0.0  0.0  0.0  normal  \n",
              "5474  0.0  0.0  0.0  0.0  0.0  0.0  normal  \n",
              "5475  0.0  0.0  0.0  0.0  0.0  0.0  normal  \n",
              "5476  0.0  0.0  0.0  0.0  0.0  0.0  normal  \n",
              "5477  0.0  0.0  0.0  0.0  0.0  0.0  normal  \n",
              "...   ...  ...  ...  ...  ...  ...     ...  \n",
              "6142  0.0  0.0  0.0  0.0  0.0  0.0  normal  \n",
              "6143  0.0  0.0  0.0  0.0  0.0  0.0  normal  \n",
              "6144  0.0  0.0  0.0  0.0  0.0  0.0  normal  \n",
              "6145  0.0  0.0  0.0  0.0  0.0  0.0  normal  \n",
              "6146  0.0  0.0  0.0  0.0  0.0  0.0  normal  \n",
              "\n",
              "[674 rows x 86 columns]"
            ],
            "text/html": [
              "\n",
              "  <div id=\"df-90934d35-8b2c-4e1d-90cb-ef7d5136ef2b\">\n",
              "    <div class=\"colab-df-container\">\n",
              "      <div>\n",
              "<style scoped>\n",
              "    .dataframe tbody tr th:only-of-type {\n",
              "        vertical-align: middle;\n",
              "    }\n",
              "\n",
              "    .dataframe tbody tr th {\n",
              "        vertical-align: top;\n",
              "    }\n",
              "\n",
              "    .dataframe thead th {\n",
              "        text-align: right;\n",
              "    }\n",
              "</style>\n",
              "<table border=\"1\" class=\"dataframe\">\n",
              "  <thead>\n",
              "    <tr style=\"text-align: right;\">\n",
              "      <th></th>\n",
              "      <th>0</th>\n",
              "      <th>1</th>\n",
              "      <th>2</th>\n",
              "      <th>3</th>\n",
              "      <th>4</th>\n",
              "      <th>5</th>\n",
              "      <th>6</th>\n",
              "      <th>7</th>\n",
              "      <th>8</th>\n",
              "      <th>9</th>\n",
              "      <th>...</th>\n",
              "      <th>76</th>\n",
              "      <th>77</th>\n",
              "      <th>78</th>\n",
              "      <th>79</th>\n",
              "      <th>80</th>\n",
              "      <th>81</th>\n",
              "      <th>82</th>\n",
              "      <th>83</th>\n",
              "      <th>84</th>\n",
              "      <th>labels</th>\n",
              "    </tr>\n",
              "  </thead>\n",
              "  <tbody>\n",
              "    <tr>\n",
              "      <th>5473</th>\n",
              "      <td>0.0</td>\n",
              "      <td>0.0</td>\n",
              "      <td>0.0</td>\n",
              "      <td>0.0</td>\n",
              "      <td>0.0</td>\n",
              "      <td>0.0</td>\n",
              "      <td>0.0</td>\n",
              "      <td>0.0</td>\n",
              "      <td>0.0</td>\n",
              "      <td>0.0</td>\n",
              "      <td>...</td>\n",
              "      <td>0.0</td>\n",
              "      <td>0.0</td>\n",
              "      <td>0.0</td>\n",
              "      <td>0.0</td>\n",
              "      <td>0.0</td>\n",
              "      <td>0.0</td>\n",
              "      <td>0.0</td>\n",
              "      <td>0.0</td>\n",
              "      <td>0.0</td>\n",
              "      <td>normal</td>\n",
              "    </tr>\n",
              "    <tr>\n",
              "      <th>5474</th>\n",
              "      <td>0.0</td>\n",
              "      <td>0.0</td>\n",
              "      <td>0.0</td>\n",
              "      <td>0.0</td>\n",
              "      <td>0.0</td>\n",
              "      <td>0.0</td>\n",
              "      <td>0.0</td>\n",
              "      <td>0.0</td>\n",
              "      <td>0.0</td>\n",
              "      <td>0.0</td>\n",
              "      <td>...</td>\n",
              "      <td>0.0</td>\n",
              "      <td>0.0</td>\n",
              "      <td>0.0</td>\n",
              "      <td>0.0</td>\n",
              "      <td>0.0</td>\n",
              "      <td>0.0</td>\n",
              "      <td>0.0</td>\n",
              "      <td>0.0</td>\n",
              "      <td>0.0</td>\n",
              "      <td>normal</td>\n",
              "    </tr>\n",
              "    <tr>\n",
              "      <th>5475</th>\n",
              "      <td>0.0</td>\n",
              "      <td>0.0</td>\n",
              "      <td>0.0</td>\n",
              "      <td>0.0</td>\n",
              "      <td>0.0</td>\n",
              "      <td>0.0</td>\n",
              "      <td>0.0</td>\n",
              "      <td>0.0</td>\n",
              "      <td>0.0</td>\n",
              "      <td>0.0</td>\n",
              "      <td>...</td>\n",
              "      <td>0.0</td>\n",
              "      <td>0.0</td>\n",
              "      <td>0.0</td>\n",
              "      <td>0.0</td>\n",
              "      <td>0.0</td>\n",
              "      <td>0.0</td>\n",
              "      <td>0.0</td>\n",
              "      <td>0.0</td>\n",
              "      <td>0.0</td>\n",
              "      <td>normal</td>\n",
              "    </tr>\n",
              "    <tr>\n",
              "      <th>5476</th>\n",
              "      <td>0.0</td>\n",
              "      <td>0.0</td>\n",
              "      <td>0.0</td>\n",
              "      <td>0.0</td>\n",
              "      <td>0.0</td>\n",
              "      <td>0.0</td>\n",
              "      <td>0.0</td>\n",
              "      <td>0.0</td>\n",
              "      <td>0.0</td>\n",
              "      <td>0.0</td>\n",
              "      <td>...</td>\n",
              "      <td>0.0</td>\n",
              "      <td>0.0</td>\n",
              "      <td>0.0</td>\n",
              "      <td>0.0</td>\n",
              "      <td>0.0</td>\n",
              "      <td>0.0</td>\n",
              "      <td>0.0</td>\n",
              "      <td>0.0</td>\n",
              "      <td>0.0</td>\n",
              "      <td>normal</td>\n",
              "    </tr>\n",
              "    <tr>\n",
              "      <th>5477</th>\n",
              "      <td>0.0</td>\n",
              "      <td>0.0</td>\n",
              "      <td>0.0</td>\n",
              "      <td>0.0</td>\n",
              "      <td>0.0</td>\n",
              "      <td>0.0</td>\n",
              "      <td>0.0</td>\n",
              "      <td>0.0</td>\n",
              "      <td>0.0</td>\n",
              "      <td>0.0</td>\n",
              "      <td>...</td>\n",
              "      <td>0.0</td>\n",
              "      <td>0.0</td>\n",
              "      <td>0.0</td>\n",
              "      <td>0.0</td>\n",
              "      <td>0.0</td>\n",
              "      <td>0.0</td>\n",
              "      <td>0.0</td>\n",
              "      <td>0.0</td>\n",
              "      <td>0.0</td>\n",
              "      <td>normal</td>\n",
              "    </tr>\n",
              "    <tr>\n",
              "      <th>...</th>\n",
              "      <td>...</td>\n",
              "      <td>...</td>\n",
              "      <td>...</td>\n",
              "      <td>...</td>\n",
              "      <td>...</td>\n",
              "      <td>...</td>\n",
              "      <td>...</td>\n",
              "      <td>...</td>\n",
              "      <td>...</td>\n",
              "      <td>...</td>\n",
              "      <td>...</td>\n",
              "      <td>...</td>\n",
              "      <td>...</td>\n",
              "      <td>...</td>\n",
              "      <td>...</td>\n",
              "      <td>...</td>\n",
              "      <td>...</td>\n",
              "      <td>...</td>\n",
              "      <td>...</td>\n",
              "      <td>...</td>\n",
              "      <td>...</td>\n",
              "    </tr>\n",
              "    <tr>\n",
              "      <th>6142</th>\n",
              "      <td>0.0</td>\n",
              "      <td>0.0</td>\n",
              "      <td>0.0</td>\n",
              "      <td>0.0</td>\n",
              "      <td>0.0</td>\n",
              "      <td>0.0</td>\n",
              "      <td>0.0</td>\n",
              "      <td>0.0</td>\n",
              "      <td>0.0</td>\n",
              "      <td>0.0</td>\n",
              "      <td>...</td>\n",
              "      <td>0.0</td>\n",
              "      <td>0.0</td>\n",
              "      <td>0.0</td>\n",
              "      <td>0.0</td>\n",
              "      <td>0.0</td>\n",
              "      <td>0.0</td>\n",
              "      <td>0.0</td>\n",
              "      <td>0.0</td>\n",
              "      <td>0.0</td>\n",
              "      <td>normal</td>\n",
              "    </tr>\n",
              "    <tr>\n",
              "      <th>6143</th>\n",
              "      <td>0.0</td>\n",
              "      <td>0.0</td>\n",
              "      <td>0.0</td>\n",
              "      <td>0.0</td>\n",
              "      <td>0.0</td>\n",
              "      <td>0.0</td>\n",
              "      <td>0.0</td>\n",
              "      <td>0.0</td>\n",
              "      <td>0.0</td>\n",
              "      <td>0.0</td>\n",
              "      <td>...</td>\n",
              "      <td>0.0</td>\n",
              "      <td>0.0</td>\n",
              "      <td>0.0</td>\n",
              "      <td>0.0</td>\n",
              "      <td>0.0</td>\n",
              "      <td>0.0</td>\n",
              "      <td>0.0</td>\n",
              "      <td>0.0</td>\n",
              "      <td>0.0</td>\n",
              "      <td>normal</td>\n",
              "    </tr>\n",
              "    <tr>\n",
              "      <th>6144</th>\n",
              "      <td>0.0</td>\n",
              "      <td>0.0</td>\n",
              "      <td>0.0</td>\n",
              "      <td>0.0</td>\n",
              "      <td>0.0</td>\n",
              "      <td>0.0</td>\n",
              "      <td>0.0</td>\n",
              "      <td>0.0</td>\n",
              "      <td>0.0</td>\n",
              "      <td>0.0</td>\n",
              "      <td>...</td>\n",
              "      <td>0.0</td>\n",
              "      <td>0.0</td>\n",
              "      <td>0.0</td>\n",
              "      <td>0.0</td>\n",
              "      <td>0.0</td>\n",
              "      <td>0.0</td>\n",
              "      <td>0.0</td>\n",
              "      <td>0.0</td>\n",
              "      <td>0.0</td>\n",
              "      <td>normal</td>\n",
              "    </tr>\n",
              "    <tr>\n",
              "      <th>6145</th>\n",
              "      <td>0.0</td>\n",
              "      <td>0.0</td>\n",
              "      <td>0.0</td>\n",
              "      <td>0.0</td>\n",
              "      <td>0.0</td>\n",
              "      <td>0.0</td>\n",
              "      <td>0.0</td>\n",
              "      <td>0.0</td>\n",
              "      <td>0.0</td>\n",
              "      <td>0.0</td>\n",
              "      <td>...</td>\n",
              "      <td>0.0</td>\n",
              "      <td>0.0</td>\n",
              "      <td>0.0</td>\n",
              "      <td>0.0</td>\n",
              "      <td>0.0</td>\n",
              "      <td>0.0</td>\n",
              "      <td>0.0</td>\n",
              "      <td>0.0</td>\n",
              "      <td>0.0</td>\n",
              "      <td>normal</td>\n",
              "    </tr>\n",
              "    <tr>\n",
              "      <th>6146</th>\n",
              "      <td>0.0</td>\n",
              "      <td>0.0</td>\n",
              "      <td>0.0</td>\n",
              "      <td>0.0</td>\n",
              "      <td>0.0</td>\n",
              "      <td>0.0</td>\n",
              "      <td>0.0</td>\n",
              "      <td>0.0</td>\n",
              "      <td>0.0</td>\n",
              "      <td>0.0</td>\n",
              "      <td>...</td>\n",
              "      <td>0.0</td>\n",
              "      <td>0.0</td>\n",
              "      <td>0.0</td>\n",
              "      <td>0.0</td>\n",
              "      <td>0.0</td>\n",
              "      <td>0.0</td>\n",
              "      <td>0.0</td>\n",
              "      <td>0.0</td>\n",
              "      <td>0.0</td>\n",
              "      <td>normal</td>\n",
              "    </tr>\n",
              "  </tbody>\n",
              "</table>\n",
              "<p>674 rows × 86 columns</p>\n",
              "</div>\n",
              "      <button class=\"colab-df-convert\" onclick=\"convertToInteractive('df-90934d35-8b2c-4e1d-90cb-ef7d5136ef2b')\"\n",
              "              title=\"Convert this dataframe to an interactive table.\"\n",
              "              style=\"display:none;\">\n",
              "        \n",
              "  <svg xmlns=\"http://www.w3.org/2000/svg\" height=\"24px\"viewBox=\"0 0 24 24\"\n",
              "       width=\"24px\">\n",
              "    <path d=\"M0 0h24v24H0V0z\" fill=\"none\"/>\n",
              "    <path d=\"M18.56 5.44l.94 2.06.94-2.06 2.06-.94-2.06-.94-.94-2.06-.94 2.06-2.06.94zm-11 1L8.5 8.5l.94-2.06 2.06-.94-2.06-.94L8.5 2.5l-.94 2.06-2.06.94zm10 10l.94 2.06.94-2.06 2.06-.94-2.06-.94-.94-2.06-.94 2.06-2.06.94z\"/><path d=\"M17.41 7.96l-1.37-1.37c-.4-.4-.92-.59-1.43-.59-.52 0-1.04.2-1.43.59L10.3 9.45l-7.72 7.72c-.78.78-.78 2.05 0 2.83L4 21.41c.39.39.9.59 1.41.59.51 0 1.02-.2 1.41-.59l7.78-7.78 2.81-2.81c.8-.78.8-2.07 0-2.86zM5.41 20L4 18.59l7.72-7.72 1.47 1.35L5.41 20z\"/>\n",
              "  </svg>\n",
              "      </button>\n",
              "      \n",
              "  <style>\n",
              "    .colab-df-container {\n",
              "      display:flex;\n",
              "      flex-wrap:wrap;\n",
              "      gap: 12px;\n",
              "    }\n",
              "\n",
              "    .colab-df-convert {\n",
              "      background-color: #E8F0FE;\n",
              "      border: none;\n",
              "      border-radius: 50%;\n",
              "      cursor: pointer;\n",
              "      display: none;\n",
              "      fill: #1967D2;\n",
              "      height: 32px;\n",
              "      padding: 0 0 0 0;\n",
              "      width: 32px;\n",
              "    }\n",
              "\n",
              "    .colab-df-convert:hover {\n",
              "      background-color: #E2EBFA;\n",
              "      box-shadow: 0px 1px 2px rgba(60, 64, 67, 0.3), 0px 1px 3px 1px rgba(60, 64, 67, 0.15);\n",
              "      fill: #174EA6;\n",
              "    }\n",
              "\n",
              "    [theme=dark] .colab-df-convert {\n",
              "      background-color: #3B4455;\n",
              "      fill: #D2E3FC;\n",
              "    }\n",
              "\n",
              "    [theme=dark] .colab-df-convert:hover {\n",
              "      background-color: #434B5C;\n",
              "      box-shadow: 0px 1px 3px 1px rgba(0, 0, 0, 0.15);\n",
              "      filter: drop-shadow(0px 1px 2px rgba(0, 0, 0, 0.3));\n",
              "      fill: #FFFFFF;\n",
              "    }\n",
              "  </style>\n",
              "\n",
              "      <script>\n",
              "        const buttonEl =\n",
              "          document.querySelector('#df-90934d35-8b2c-4e1d-90cb-ef7d5136ef2b button.colab-df-convert');\n",
              "        buttonEl.style.display =\n",
              "          google.colab.kernel.accessAllowed ? 'block' : 'none';\n",
              "\n",
              "        async function convertToInteractive(key) {\n",
              "          const element = document.querySelector('#df-90934d35-8b2c-4e1d-90cb-ef7d5136ef2b');\n",
              "          const dataTable =\n",
              "            await google.colab.kernel.invokeFunction('convertToInteractive',\n",
              "                                                     [key], {});\n",
              "          if (!dataTable) return;\n",
              "\n",
              "          const docLinkHtml = 'Like what you see? Visit the ' +\n",
              "            '<a target=\"_blank\" href=https://colab.research.google.com/notebooks/data_table.ipynb>data table notebook</a>'\n",
              "            + ' to learn more about interactive tables.';\n",
              "          element.innerHTML = '';\n",
              "          dataTable['output_type'] = 'display_data';\n",
              "          await google.colab.output.renderOutput(dataTable, element);\n",
              "          const docLink = document.createElement('div');\n",
              "          docLink.innerHTML = docLinkHtml;\n",
              "          element.appendChild(docLink);\n",
              "        }\n",
              "      </script>\n",
              "    </div>\n",
              "  </div>\n",
              "  "
            ]
          },
          "metadata": {},
          "execution_count": 5
        }
      ],
      "source": [
        "zeros_val"
      ]
    },
    {
      "cell_type": "markdown",
      "id": "09697c50",
      "metadata": {
        "id": "09697c50"
      },
      "source": [
        "### Drop the table that has value zeros on it"
      ]
    },
    {
      "cell_type": "code",
      "execution_count": 6,
      "id": "97b4115d",
      "metadata": {
        "id": "97b4115d"
      },
      "outputs": [],
      "source": [
        "df_formatted = df[~df.isin(zeros_val)].dropna()"
      ]
    },
    {
      "cell_type": "code",
      "execution_count": 7,
      "id": "034c4bd4",
      "metadata": {
        "colab": {
          "base_uri": "https://localhost:8080/",
          "height": 487
        },
        "id": "034c4bd4",
        "outputId": "301c5ae3-8e8b-44a5-f7fb-dc1da5389e7f"
      },
      "outputs": [
        {
          "output_type": "execute_result",
          "data": {
            "text/plain": [
              "              0         1         2         3         4         5         6  \\\n",
              "0      0.483309  0.459790  0.431024  0.376565  0.295734  0.193290  0.066060   \n",
              "1     -2.044518 -1.935588 -1.808629 -1.667919 -1.513497 -1.348760 -1.171044   \n",
              "2     -1.213535 -1.269056 -1.323306 -1.375251 -1.430062 -1.485479 -1.529200   \n",
              "3     -0.914806 -0.887726 -0.856065 -0.823527 -0.794551 -0.768074 -0.740895   \n",
              "4     -1.547469 -1.458818 -1.362120 -1.264829 -1.164948 -1.060064 -0.954496   \n",
              "...         ...       ...       ...       ...       ...       ...       ...   \n",
              "26395 -0.152463 -0.164723 -0.165409 -0.152623 -0.118115 -0.066218 -0.010253   \n",
              "26396 -0.164723 -0.165409 -0.152623 -0.118115 -0.066218 -0.010253  0.041637   \n",
              "26397 -0.165409 -0.152623 -0.118115 -0.066218 -0.010253  0.041637  0.092217   \n",
              "26398 -0.152623 -0.118115 -0.066218 -0.010253  0.041637  0.092217  0.140510   \n",
              "26399 -0.118115 -0.066218 -0.010253  0.041637  0.092217  0.140510  0.188025   \n",
              "\n",
              "              7         8         9  ...        76        77        78  \\\n",
              "0     -0.083445 -0.247221 -0.409374  ...  0.391514  0.452677  0.521407   \n",
              "1     -0.972509 -0.759554 -0.547793  ...  0.138731 -0.053860 -0.241691   \n",
              "2     -1.557172 -1.574662 -1.575457  ...  0.947940  0.996154  1.035743   \n",
              "3     -0.713364 -0.685445 -0.652020  ... -0.478218 -0.571465 -0.684115   \n",
              "4     -0.849448 -0.742812 -0.636614  ...  0.227050  0.130983  0.041438   \n",
              "...         ...       ...       ...  ...       ...       ...       ...   \n",
              "26395  0.041637  0.092217  0.140510  ... -0.336787 -0.306774 -0.280607   \n",
              "26396  0.092217  0.140510  0.188025  ... -0.306774 -0.280607 -0.269843   \n",
              "26397  0.140510  0.188025  0.240939  ... -0.280607 -0.269843 -0.260062   \n",
              "26398  0.188025  0.240939  0.294399  ... -0.269843 -0.260062 -0.229981   \n",
              "26399  0.240939  0.294399  0.340346  ... -0.260062 -0.229981 -0.167654   \n",
              "\n",
              "             79        80        81        82        83        84  labels  \n",
              "0      0.595845  0.661691  0.702932  0.708613  0.682564  0.637765    deep  \n",
              "1     -0.417603 -0.582320 -0.738485 -0.889731 -1.037066 -1.174654    deep  \n",
              "2      1.049543  1.024204  0.954716  0.844505  0.702445  0.541555    deep  \n",
              "3     -0.817078 -0.966231 -1.122537 -1.264759 -1.376908 -1.461059    deep  \n",
              "4     -0.038034 -0.106152 -0.163048 -0.210926 -0.253102 -0.290270    deep  \n",
              "...         ...       ...       ...       ...       ...       ...     ...  \n",
              "26395 -0.269843 -0.260062 -0.229981 -0.167654 -0.082300  0.004372   quick  \n",
              "26396 -0.260062 -0.229981 -0.167654 -0.082300  0.004372  0.089958   quick  \n",
              "26397 -0.229981 -0.167654 -0.082300  0.004372  0.089958  0.179209   quick  \n",
              "26398 -0.167654 -0.082300  0.004372  0.089958  0.179209  0.264014   quick  \n",
              "26399 -0.082300  0.004372  0.089958  0.179209  0.264014  0.343418   quick  \n",
              "\n",
              "[25726 rows x 86 columns]"
            ],
            "text/html": [
              "\n",
              "  <div id=\"df-e04cca5f-1097-4182-9f5c-40e7326527f0\">\n",
              "    <div class=\"colab-df-container\">\n",
              "      <div>\n",
              "<style scoped>\n",
              "    .dataframe tbody tr th:only-of-type {\n",
              "        vertical-align: middle;\n",
              "    }\n",
              "\n",
              "    .dataframe tbody tr th {\n",
              "        vertical-align: top;\n",
              "    }\n",
              "\n",
              "    .dataframe thead th {\n",
              "        text-align: right;\n",
              "    }\n",
              "</style>\n",
              "<table border=\"1\" class=\"dataframe\">\n",
              "  <thead>\n",
              "    <tr style=\"text-align: right;\">\n",
              "      <th></th>\n",
              "      <th>0</th>\n",
              "      <th>1</th>\n",
              "      <th>2</th>\n",
              "      <th>3</th>\n",
              "      <th>4</th>\n",
              "      <th>5</th>\n",
              "      <th>6</th>\n",
              "      <th>7</th>\n",
              "      <th>8</th>\n",
              "      <th>9</th>\n",
              "      <th>...</th>\n",
              "      <th>76</th>\n",
              "      <th>77</th>\n",
              "      <th>78</th>\n",
              "      <th>79</th>\n",
              "      <th>80</th>\n",
              "      <th>81</th>\n",
              "      <th>82</th>\n",
              "      <th>83</th>\n",
              "      <th>84</th>\n",
              "      <th>labels</th>\n",
              "    </tr>\n",
              "  </thead>\n",
              "  <tbody>\n",
              "    <tr>\n",
              "      <th>0</th>\n",
              "      <td>0.483309</td>\n",
              "      <td>0.459790</td>\n",
              "      <td>0.431024</td>\n",
              "      <td>0.376565</td>\n",
              "      <td>0.295734</td>\n",
              "      <td>0.193290</td>\n",
              "      <td>0.066060</td>\n",
              "      <td>-0.083445</td>\n",
              "      <td>-0.247221</td>\n",
              "      <td>-0.409374</td>\n",
              "      <td>...</td>\n",
              "      <td>0.391514</td>\n",
              "      <td>0.452677</td>\n",
              "      <td>0.521407</td>\n",
              "      <td>0.595845</td>\n",
              "      <td>0.661691</td>\n",
              "      <td>0.702932</td>\n",
              "      <td>0.708613</td>\n",
              "      <td>0.682564</td>\n",
              "      <td>0.637765</td>\n",
              "      <td>deep</td>\n",
              "    </tr>\n",
              "    <tr>\n",
              "      <th>1</th>\n",
              "      <td>-2.044518</td>\n",
              "      <td>-1.935588</td>\n",
              "      <td>-1.808629</td>\n",
              "      <td>-1.667919</td>\n",
              "      <td>-1.513497</td>\n",
              "      <td>-1.348760</td>\n",
              "      <td>-1.171044</td>\n",
              "      <td>-0.972509</td>\n",
              "      <td>-0.759554</td>\n",
              "      <td>-0.547793</td>\n",
              "      <td>...</td>\n",
              "      <td>0.138731</td>\n",
              "      <td>-0.053860</td>\n",
              "      <td>-0.241691</td>\n",
              "      <td>-0.417603</td>\n",
              "      <td>-0.582320</td>\n",
              "      <td>-0.738485</td>\n",
              "      <td>-0.889731</td>\n",
              "      <td>-1.037066</td>\n",
              "      <td>-1.174654</td>\n",
              "      <td>deep</td>\n",
              "    </tr>\n",
              "    <tr>\n",
              "      <th>2</th>\n",
              "      <td>-1.213535</td>\n",
              "      <td>-1.269056</td>\n",
              "      <td>-1.323306</td>\n",
              "      <td>-1.375251</td>\n",
              "      <td>-1.430062</td>\n",
              "      <td>-1.485479</td>\n",
              "      <td>-1.529200</td>\n",
              "      <td>-1.557172</td>\n",
              "      <td>-1.574662</td>\n",
              "      <td>-1.575457</td>\n",
              "      <td>...</td>\n",
              "      <td>0.947940</td>\n",
              "      <td>0.996154</td>\n",
              "      <td>1.035743</td>\n",
              "      <td>1.049543</td>\n",
              "      <td>1.024204</td>\n",
              "      <td>0.954716</td>\n",
              "      <td>0.844505</td>\n",
              "      <td>0.702445</td>\n",
              "      <td>0.541555</td>\n",
              "      <td>deep</td>\n",
              "    </tr>\n",
              "    <tr>\n",
              "      <th>3</th>\n",
              "      <td>-0.914806</td>\n",
              "      <td>-0.887726</td>\n",
              "      <td>-0.856065</td>\n",
              "      <td>-0.823527</td>\n",
              "      <td>-0.794551</td>\n",
              "      <td>-0.768074</td>\n",
              "      <td>-0.740895</td>\n",
              "      <td>-0.713364</td>\n",
              "      <td>-0.685445</td>\n",
              "      <td>-0.652020</td>\n",
              "      <td>...</td>\n",
              "      <td>-0.478218</td>\n",
              "      <td>-0.571465</td>\n",
              "      <td>-0.684115</td>\n",
              "      <td>-0.817078</td>\n",
              "      <td>-0.966231</td>\n",
              "      <td>-1.122537</td>\n",
              "      <td>-1.264759</td>\n",
              "      <td>-1.376908</td>\n",
              "      <td>-1.461059</td>\n",
              "      <td>deep</td>\n",
              "    </tr>\n",
              "    <tr>\n",
              "      <th>4</th>\n",
              "      <td>-1.547469</td>\n",
              "      <td>-1.458818</td>\n",
              "      <td>-1.362120</td>\n",
              "      <td>-1.264829</td>\n",
              "      <td>-1.164948</td>\n",
              "      <td>-1.060064</td>\n",
              "      <td>-0.954496</td>\n",
              "      <td>-0.849448</td>\n",
              "      <td>-0.742812</td>\n",
              "      <td>-0.636614</td>\n",
              "      <td>...</td>\n",
              "      <td>0.227050</td>\n",
              "      <td>0.130983</td>\n",
              "      <td>0.041438</td>\n",
              "      <td>-0.038034</td>\n",
              "      <td>-0.106152</td>\n",
              "      <td>-0.163048</td>\n",
              "      <td>-0.210926</td>\n",
              "      <td>-0.253102</td>\n",
              "      <td>-0.290270</td>\n",
              "      <td>deep</td>\n",
              "    </tr>\n",
              "    <tr>\n",
              "      <th>...</th>\n",
              "      <td>...</td>\n",
              "      <td>...</td>\n",
              "      <td>...</td>\n",
              "      <td>...</td>\n",
              "      <td>...</td>\n",
              "      <td>...</td>\n",
              "      <td>...</td>\n",
              "      <td>...</td>\n",
              "      <td>...</td>\n",
              "      <td>...</td>\n",
              "      <td>...</td>\n",
              "      <td>...</td>\n",
              "      <td>...</td>\n",
              "      <td>...</td>\n",
              "      <td>...</td>\n",
              "      <td>...</td>\n",
              "      <td>...</td>\n",
              "      <td>...</td>\n",
              "      <td>...</td>\n",
              "      <td>...</td>\n",
              "      <td>...</td>\n",
              "    </tr>\n",
              "    <tr>\n",
              "      <th>26395</th>\n",
              "      <td>-0.152463</td>\n",
              "      <td>-0.164723</td>\n",
              "      <td>-0.165409</td>\n",
              "      <td>-0.152623</td>\n",
              "      <td>-0.118115</td>\n",
              "      <td>-0.066218</td>\n",
              "      <td>-0.010253</td>\n",
              "      <td>0.041637</td>\n",
              "      <td>0.092217</td>\n",
              "      <td>0.140510</td>\n",
              "      <td>...</td>\n",
              "      <td>-0.336787</td>\n",
              "      <td>-0.306774</td>\n",
              "      <td>-0.280607</td>\n",
              "      <td>-0.269843</td>\n",
              "      <td>-0.260062</td>\n",
              "      <td>-0.229981</td>\n",
              "      <td>-0.167654</td>\n",
              "      <td>-0.082300</td>\n",
              "      <td>0.004372</td>\n",
              "      <td>quick</td>\n",
              "    </tr>\n",
              "    <tr>\n",
              "      <th>26396</th>\n",
              "      <td>-0.164723</td>\n",
              "      <td>-0.165409</td>\n",
              "      <td>-0.152623</td>\n",
              "      <td>-0.118115</td>\n",
              "      <td>-0.066218</td>\n",
              "      <td>-0.010253</td>\n",
              "      <td>0.041637</td>\n",
              "      <td>0.092217</td>\n",
              "      <td>0.140510</td>\n",
              "      <td>0.188025</td>\n",
              "      <td>...</td>\n",
              "      <td>-0.306774</td>\n",
              "      <td>-0.280607</td>\n",
              "      <td>-0.269843</td>\n",
              "      <td>-0.260062</td>\n",
              "      <td>-0.229981</td>\n",
              "      <td>-0.167654</td>\n",
              "      <td>-0.082300</td>\n",
              "      <td>0.004372</td>\n",
              "      <td>0.089958</td>\n",
              "      <td>quick</td>\n",
              "    </tr>\n",
              "    <tr>\n",
              "      <th>26397</th>\n",
              "      <td>-0.165409</td>\n",
              "      <td>-0.152623</td>\n",
              "      <td>-0.118115</td>\n",
              "      <td>-0.066218</td>\n",
              "      <td>-0.010253</td>\n",
              "      <td>0.041637</td>\n",
              "      <td>0.092217</td>\n",
              "      <td>0.140510</td>\n",
              "      <td>0.188025</td>\n",
              "      <td>0.240939</td>\n",
              "      <td>...</td>\n",
              "      <td>-0.280607</td>\n",
              "      <td>-0.269843</td>\n",
              "      <td>-0.260062</td>\n",
              "      <td>-0.229981</td>\n",
              "      <td>-0.167654</td>\n",
              "      <td>-0.082300</td>\n",
              "      <td>0.004372</td>\n",
              "      <td>0.089958</td>\n",
              "      <td>0.179209</td>\n",
              "      <td>quick</td>\n",
              "    </tr>\n",
              "    <tr>\n",
              "      <th>26398</th>\n",
              "      <td>-0.152623</td>\n",
              "      <td>-0.118115</td>\n",
              "      <td>-0.066218</td>\n",
              "      <td>-0.010253</td>\n",
              "      <td>0.041637</td>\n",
              "      <td>0.092217</td>\n",
              "      <td>0.140510</td>\n",
              "      <td>0.188025</td>\n",
              "      <td>0.240939</td>\n",
              "      <td>0.294399</td>\n",
              "      <td>...</td>\n",
              "      <td>-0.269843</td>\n",
              "      <td>-0.260062</td>\n",
              "      <td>-0.229981</td>\n",
              "      <td>-0.167654</td>\n",
              "      <td>-0.082300</td>\n",
              "      <td>0.004372</td>\n",
              "      <td>0.089958</td>\n",
              "      <td>0.179209</td>\n",
              "      <td>0.264014</td>\n",
              "      <td>quick</td>\n",
              "    </tr>\n",
              "    <tr>\n",
              "      <th>26399</th>\n",
              "      <td>-0.118115</td>\n",
              "      <td>-0.066218</td>\n",
              "      <td>-0.010253</td>\n",
              "      <td>0.041637</td>\n",
              "      <td>0.092217</td>\n",
              "      <td>0.140510</td>\n",
              "      <td>0.188025</td>\n",
              "      <td>0.240939</td>\n",
              "      <td>0.294399</td>\n",
              "      <td>0.340346</td>\n",
              "      <td>...</td>\n",
              "      <td>-0.260062</td>\n",
              "      <td>-0.229981</td>\n",
              "      <td>-0.167654</td>\n",
              "      <td>-0.082300</td>\n",
              "      <td>0.004372</td>\n",
              "      <td>0.089958</td>\n",
              "      <td>0.179209</td>\n",
              "      <td>0.264014</td>\n",
              "      <td>0.343418</td>\n",
              "      <td>quick</td>\n",
              "    </tr>\n",
              "  </tbody>\n",
              "</table>\n",
              "<p>25726 rows × 86 columns</p>\n",
              "</div>\n",
              "      <button class=\"colab-df-convert\" onclick=\"convertToInteractive('df-e04cca5f-1097-4182-9f5c-40e7326527f0')\"\n",
              "              title=\"Convert this dataframe to an interactive table.\"\n",
              "              style=\"display:none;\">\n",
              "        \n",
              "  <svg xmlns=\"http://www.w3.org/2000/svg\" height=\"24px\"viewBox=\"0 0 24 24\"\n",
              "       width=\"24px\">\n",
              "    <path d=\"M0 0h24v24H0V0z\" fill=\"none\"/>\n",
              "    <path d=\"M18.56 5.44l.94 2.06.94-2.06 2.06-.94-2.06-.94-.94-2.06-.94 2.06-2.06.94zm-11 1L8.5 8.5l.94-2.06 2.06-.94-2.06-.94L8.5 2.5l-.94 2.06-2.06.94zm10 10l.94 2.06.94-2.06 2.06-.94-2.06-.94-.94-2.06-.94 2.06-2.06.94z\"/><path d=\"M17.41 7.96l-1.37-1.37c-.4-.4-.92-.59-1.43-.59-.52 0-1.04.2-1.43.59L10.3 9.45l-7.72 7.72c-.78.78-.78 2.05 0 2.83L4 21.41c.39.39.9.59 1.41.59.51 0 1.02-.2 1.41-.59l7.78-7.78 2.81-2.81c.8-.78.8-2.07 0-2.86zM5.41 20L4 18.59l7.72-7.72 1.47 1.35L5.41 20z\"/>\n",
              "  </svg>\n",
              "      </button>\n",
              "      \n",
              "  <style>\n",
              "    .colab-df-container {\n",
              "      display:flex;\n",
              "      flex-wrap:wrap;\n",
              "      gap: 12px;\n",
              "    }\n",
              "\n",
              "    .colab-df-convert {\n",
              "      background-color: #E8F0FE;\n",
              "      border: none;\n",
              "      border-radius: 50%;\n",
              "      cursor: pointer;\n",
              "      display: none;\n",
              "      fill: #1967D2;\n",
              "      height: 32px;\n",
              "      padding: 0 0 0 0;\n",
              "      width: 32px;\n",
              "    }\n",
              "\n",
              "    .colab-df-convert:hover {\n",
              "      background-color: #E2EBFA;\n",
              "      box-shadow: 0px 1px 2px rgba(60, 64, 67, 0.3), 0px 1px 3px 1px rgba(60, 64, 67, 0.15);\n",
              "      fill: #174EA6;\n",
              "    }\n",
              "\n",
              "    [theme=dark] .colab-df-convert {\n",
              "      background-color: #3B4455;\n",
              "      fill: #D2E3FC;\n",
              "    }\n",
              "\n",
              "    [theme=dark] .colab-df-convert:hover {\n",
              "      background-color: #434B5C;\n",
              "      box-shadow: 0px 1px 3px 1px rgba(0, 0, 0, 0.15);\n",
              "      filter: drop-shadow(0px 1px 2px rgba(0, 0, 0, 0.3));\n",
              "      fill: #FFFFFF;\n",
              "    }\n",
              "  </style>\n",
              "\n",
              "      <script>\n",
              "        const buttonEl =\n",
              "          document.querySelector('#df-e04cca5f-1097-4182-9f5c-40e7326527f0 button.colab-df-convert');\n",
              "        buttonEl.style.display =\n",
              "          google.colab.kernel.accessAllowed ? 'block' : 'none';\n",
              "\n",
              "        async function convertToInteractive(key) {\n",
              "          const element = document.querySelector('#df-e04cca5f-1097-4182-9f5c-40e7326527f0');\n",
              "          const dataTable =\n",
              "            await google.colab.kernel.invokeFunction('convertToInteractive',\n",
              "                                                     [key], {});\n",
              "          if (!dataTable) return;\n",
              "\n",
              "          const docLinkHtml = 'Like what you see? Visit the ' +\n",
              "            '<a target=\"_blank\" href=https://colab.research.google.com/notebooks/data_table.ipynb>data table notebook</a>'\n",
              "            + ' to learn more about interactive tables.';\n",
              "          element.innerHTML = '';\n",
              "          dataTable['output_type'] = 'display_data';\n",
              "          await google.colab.output.renderOutput(dataTable, element);\n",
              "          const docLink = document.createElement('div');\n",
              "          docLink.innerHTML = docLinkHtml;\n",
              "          element.appendChild(docLink);\n",
              "        }\n",
              "      </script>\n",
              "    </div>\n",
              "  </div>\n",
              "  "
            ]
          },
          "metadata": {},
          "execution_count": 7
        }
      ],
      "source": [
        "df_formatted"
      ]
    },
    {
      "cell_type": "markdown",
      "source": [
        "### Separate the X and Y"
      ],
      "metadata": {
        "id": "iotx6eXEacfv"
      },
      "id": "iotx6eXEacfv"
    },
    {
      "cell_type": "code",
      "source": [
        "X = df_formatted.iloc[:, :-1]\n",
        "Y = df_formatted.iloc[:, -1]"
      ],
      "metadata": {
        "id": "DdppVzJfabn8"
      },
      "id": "DdppVzJfabn8",
      "execution_count": 8,
      "outputs": []
    },
    {
      "cell_type": "markdown",
      "source": [
        "### Undersampling"
      ],
      "metadata": {
        "id": "2z4K8q6oaB54"
      },
      "id": "2z4K8q6oaB54"
    },
    {
      "cell_type": "code",
      "source": [
        "!pip install imblearn"
      ],
      "metadata": {
        "colab": {
          "base_uri": "https://localhost:8080/"
        },
        "id": "sr79NtuTbTVH",
        "outputId": "dfe4e31b-941f-498b-d989-1aec547fd68e"
      },
      "id": "sr79NtuTbTVH",
      "execution_count": 9,
      "outputs": [
        {
          "output_type": "stream",
          "name": "stdout",
          "text": [
            "Looking in indexes: https://pypi.org/simple, https://us-python.pkg.dev/colab-wheels/public/simple/\n",
            "Requirement already satisfied: imblearn in /usr/local/lib/python3.10/dist-packages (0.0)\n",
            "Requirement already satisfied: imbalanced-learn in /usr/local/lib/python3.10/dist-packages (from imblearn) (0.10.1)\n",
            "Requirement already satisfied: numpy>=1.17.3 in /usr/local/lib/python3.10/dist-packages (from imbalanced-learn->imblearn) (1.24.3)\n",
            "Requirement already satisfied: scipy>=1.3.2 in /usr/local/lib/python3.10/dist-packages (from imbalanced-learn->imblearn) (1.10.1)\n",
            "Requirement already satisfied: scikit-learn>=1.0.2 in /usr/local/lib/python3.10/dist-packages (from imbalanced-learn->imblearn) (1.2.2)\n",
            "Requirement already satisfied: joblib>=1.1.1 in /usr/local/lib/python3.10/dist-packages (from imbalanced-learn->imblearn) (1.2.0)\n",
            "Requirement already satisfied: threadpoolctl>=2.0.0 in /usr/local/lib/python3.10/dist-packages (from imbalanced-learn->imblearn) (3.1.0)\n"
          ]
        }
      ]
    },
    {
      "cell_type": "code",
      "source": [
        "import imblearn\n",
        "print(imblearn.__version__)"
      ],
      "metadata": {
        "colab": {
          "base_uri": "https://localhost:8080/"
        },
        "id": "MomrAzVeaCY5",
        "outputId": "adadb885-e158-4ee5-9685-ad44b252d440"
      },
      "id": "MomrAzVeaCY5",
      "execution_count": 10,
      "outputs": [
        {
          "output_type": "stream",
          "name": "stdout",
          "text": [
            "0.10.1\n"
          ]
        }
      ]
    },
    {
      "cell_type": "code",
      "source": [
        "# NearMiss\n",
        "def near_miss(X, Y, version, neighbors=3):\n",
        "    # define the undersampling method\n",
        "    undersample = imblearn.under_sampling.NearMiss(version=version, n_neighbors=3)\n",
        "    # transform the dataset\n",
        "    return undersample.fit_resample(X, Y)\n",
        "\n",
        "# RandomUnderSample\n",
        "labels = {\n",
        "    \"normal\" : 800,\n",
        "    \"quick\" : 800,\n",
        "    \"hold\" : 800,\n",
        "    \"deep\" : 800,\n",
        "    \"deep_quick\" : 800\n",
        "}\n",
        "\n",
        "def rus(X, Y, strategy=labels):\n",
        "    # define the undersampling method\n",
        "    undersample = imblearn.under_sampling.RandomUnderSampler(sampling_strategy=strategy)\n",
        "    # transform the dataset\n",
        "    return undersample.fit_resample(X, Y)\n",
        "\n",
        "## CNN (CondensedNearestNeighbour) error"
      ],
      "metadata": {
        "id": "XAWpJUjRaP-j"
      },
      "id": "XAWpJUjRaP-j",
      "execution_count": 11,
      "outputs": []
    },
    {
      "cell_type": "code",
      "source": [
        "X, Y = rus(X, Y)\n",
        "Y.value_counts()"
      ],
      "metadata": {
        "colab": {
          "base_uri": "https://localhost:8080/"
        },
        "id": "mZs2uSzuaaC-",
        "outputId": "2d62d8c9-e1ee-470e-c5e8-a52d23545ddf"
      },
      "id": "mZs2uSzuaaC-",
      "execution_count": 12,
      "outputs": [
        {
          "output_type": "execute_result",
          "data": {
            "text/plain": [
              "deep          800\n",
              "deep_quick    800\n",
              "hold          800\n",
              "normal        800\n",
              "quick         800\n",
              "Name: labels, dtype: int64"
            ]
          },
          "metadata": {},
          "execution_count": 12
        }
      ]
    },
    {
      "cell_type": "code",
      "source": [
        "df_formatted = pd.concat([X, Y], axis=1)"
      ],
      "metadata": {
        "id": "OJLdUBMCbcov"
      },
      "id": "OJLdUBMCbcov",
      "execution_count": 13,
      "outputs": []
    },
    {
      "cell_type": "markdown",
      "id": "58387c66",
      "metadata": {
        "id": "58387c66"
      },
      "source": [
        "### Adding person_id"
      ]
    },
    {
      "cell_type": "code",
      "execution_count": 14,
      "id": "23ec6127",
      "metadata": {
        "id": "23ec6127"
      },
      "outputs": [],
      "source": [
        "# library and function to create person ID\n",
        "import uuid\n",
        "def generate_id():\n",
        "    # generate a new UUID\n",
        "    new_id = str(uuid.uuid4())\n",
        "    \n",
        "    return new_id"
      ]
    },
    {
      "cell_type": "code",
      "execution_count": 15,
      "id": "19a95e8e",
      "metadata": {
        "id": "19a95e8e"
      },
      "outputs": [],
      "source": [
        "# create a list of generated person id\n",
        "temp_id = []\n",
        "length = df_formatted.shape[0]\n",
        "for i in range(length):\n",
        "    new_id = generate_id()\n",
        "    if new_id in temp_id:\n",
        "        length += 1\n",
        "    else:\n",
        "        temp_id.append(new_id)"
      ]
    },
    {
      "cell_type": "code",
      "execution_count": 16,
      "id": "828bddb9",
      "metadata": {
        "id": "828bddb9"
      },
      "outputs": [],
      "source": [
        "# convert temp_id to dataframe type\n",
        "temp_id = pd.DataFrame(np.array(temp_id), columns=['person_id'])"
      ]
    },
    {
      "cell_type": "code",
      "execution_count": 17,
      "id": "e4a34675",
      "metadata": {
        "id": "e4a34675"
      },
      "outputs": [],
      "source": [
        "# Reset indices if necessary\n",
        "temp_id = temp_id.reset_index(drop=True)\n",
        "df_formatted = df_formatted.reset_index(drop=True)\n",
        "\n",
        "df = pd.concat([temp_id, df_formatted], axis=1)"
      ]
    },
    {
      "cell_type": "markdown",
      "id": "3c7563cc",
      "metadata": {
        "id": "3c7563cc"
      },
      "source": [
        "### Metadata Creation"
      ]
    },
    {
      "cell_type": "code",
      "execution_count": 18,
      "id": "92e704c8",
      "metadata": {
        "id": "92e704c8"
      },
      "outputs": [],
      "source": [
        "# importing libraries\n",
        "from sdv.metadata import SingleTableMetadata\n",
        "metadata = SingleTableMetadata()"
      ]
    },
    {
      "cell_type": "code",
      "execution_count": 19,
      "id": "d506c299",
      "metadata": {
        "id": "d506c299"
      },
      "outputs": [],
      "source": [
        "# auto-detect the type of data in the columns dataset\n",
        "metadata.detect_from_dataframe(data=df)"
      ]
    },
    {
      "cell_type": "code",
      "execution_count": 20,
      "id": "0cd1f64e",
      "metadata": {
        "id": "0cd1f64e"
      },
      "outputs": [],
      "source": [
        "# update person_id type to 'ID' type\n",
        "metadata.update_column(\n",
        "    column_name='person_id',\n",
        "    sdtype='id')"
      ]
    },
    {
      "cell_type": "code",
      "execution_count": 21,
      "id": "4f69cf7f",
      "metadata": {
        "id": "4f69cf7f"
      },
      "outputs": [],
      "source": [
        "# ABANDONED - because this caused an error of runtime\n",
        "\n",
        "# set 'person_id' as primary key\n",
        "# metadata.set_primary_key(column_name='person_id')"
      ]
    },
    {
      "cell_type": "code",
      "source": [
        "# set sequence key\n",
        "metadata.set_sequence_key(column_name='person_id')"
      ],
      "metadata": {
        "id": "4I5N6p200eLr"
      },
      "id": "4I5N6p200eLr",
      "execution_count": 22,
      "outputs": []
    },
    {
      "cell_type": "markdown",
      "id": "5aefe261",
      "metadata": {
        "id": "5aefe261"
      },
      "source": [
        "## PART 2 : Generating Synthetic Data"
      ]
    },
    {
      "cell_type": "markdown",
      "id": "57aa8ebd",
      "metadata": {
        "id": "57aa8ebd"
      },
      "source": [
        "### Importing DeepEcho (using PARSynthesizer) Library"
      ]
    },
    {
      "cell_type": "code",
      "execution_count": 23,
      "id": "c945c96f",
      "metadata": {
        "colab": {
          "base_uri": "https://localhost:8080/"
        },
        "id": "c945c96f",
        "outputId": "4938d93f-c0fa-455f-d404-7c64901e58ac"
      },
      "outputs": [
        {
          "output_type": "stream",
          "name": "stderr",
          "text": [
            "/usr/local/lib/python3.10/dist-packages/rdt/transformers/base.py:132: FutureWarning: Future versions of RDT will not support the 'model_missing_values' parameter. Please switch to using the 'missing_value_generation' parameter to select your strategy.\n",
            "  warnings.warn(\n"
          ]
        }
      ],
      "source": [
        "from sdv.sequential import PARSynthesizer"
      ]
    },
    {
      "cell_type": "markdown",
      "id": "a60a5d66",
      "metadata": {
        "id": "a60a5d66"
      },
      "source": [
        "### define PARSynthesizer"
      ]
    },
    {
      "cell_type": "code",
      "execution_count": 24,
      "id": "27cf5227",
      "metadata": {
        "colab": {
          "base_uri": "https://localhost:8080/"
        },
        "id": "27cf5227",
        "outputId": "fac96f82-38c5-425f-d28d-7ac684c773b3"
      },
      "outputs": [
        {
          "output_type": "execute_result",
          "data": {
            "text/plain": [
              "pandas.core.frame.DataFrame"
            ]
          },
          "metadata": {},
          "execution_count": 24
        }
      ],
      "source": [
        "type(df)"
      ]
    },
    {
      "cell_type": "code",
      "execution_count": null,
      "id": "37a81baa",
      "metadata": {
        "colab": {
          "base_uri": "https://localhost:8080/"
        },
        "id": "37a81baa",
        "outputId": "c77fca52-273d-4df6-84bb-98a4d73e392a"
      },
      "outputs": [
        {
          "metadata": {
            "tags": null
          },
          "name": "stderr",
          "output_type": "stream",
          "text": [
            "<frozen importlib._bootstrap>:914: ImportWarning: APICoreClientInfoImportHook.find_spec() not found; falling back to find_module()\n",
            "<frozen importlib._bootstrap>:914: ImportWarning: _PyDriveImportHook.find_spec() not found; falling back to find_module()\n",
            "<frozen importlib._bootstrap>:914: ImportWarning: _OpenCVImportHook.find_spec() not found; falling back to find_module()\n",
            "<frozen importlib._bootstrap>:914: ImportWarning: _BokehImportHook.find_spec() not found; falling back to find_module()\n",
            "<frozen importlib._bootstrap>:914: ImportWarning: _AltairImportHook.find_spec() not found; falling back to find_module()\n",
            "Epoch 1 | Loss 0.0008876821957528591:   1%|          | 1/128 [10:56<23:09:45, 656.58s/it]"
          ]
        }
      ],
      "source": [
        "# Step 1: Create the synthesizer\n",
        "synthesizer = PARSynthesizer(\n",
        "    metadata, verbose=True)\n",
        "\n",
        "# Step 2: Train the synthesizer\n",
        "synthesizer.fit(df)\n",
        "\n",
        "# Step 3: Generate synthetic data\n",
        "synthetic_data = synthesizer.sample(num_rows=100)"
      ]
    },
    {
      "cell_type": "markdown",
      "id": "0561fcc7",
      "metadata": {
        "id": "0561fcc7"
      },
      "source": [
        "### Evaluate Data"
      ]
    },
    {
      "cell_type": "code",
      "execution_count": null,
      "id": "3f323703",
      "metadata": {
        "id": "3f323703"
      },
      "outputs": [],
      "source": [
        "from table_evaluator import TableEvaluator\n",
        "\n",
        "print(df.shape, synthetic_data.shape)\n",
        "table_evaluator = TableEvaluator(df, synthetic_data, cat_cols=['person_id','labels'])\n",
        "\n",
        "table_evaluator.visual_evaluation()"
      ]
    },
    {
      "cell_type": "code",
      "execution_count": null,
      "id": "eeb2d261",
      "metadata": {
        "id": "eeb2d261"
      },
      "outputs": [],
      "source": [
        "samples"
      ]
    },
    {
      "cell_type": "markdown",
      "id": "787c08eb",
      "metadata": {
        "id": "787c08eb"
      },
      "source": [
        "## PART 3 : Data Preprocessing"
      ]
    },
    {
      "cell_type": "markdown",
      "id": "e585248b",
      "metadata": {
        "id": "e585248b"
      },
      "source": [
        "### Preprocess the generated data"
      ]
    },
    {
      "cell_type": "code",
      "execution_count": null,
      "id": "9f7c0b0e",
      "metadata": {
        "id": "9f7c0b0e"
      },
      "outputs": [],
      "source": [
        "from sklearn.preprocessing import StandardScaler\n",
        "from sklearn.preprocessing import LabelEncoder\n",
        "from keras.utils import np_utils\n",
        "\n",
        "encoder = LabelEncoder()\n",
        "    \n",
        "def data_preprocessing(X, Y):\n",
        "    ## DATA\n",
        "    sc = StandardScaler()\n",
        "    X = sc.fit_transform(X)\n",
        "    # reshaping the training data to 3-Dimensional Numpy Array\n",
        "    feature = 5\n",
        "    X = np.reshape(X, (X.shape[0], int(85/feature), feature))\n",
        "    # (26400, 17, 5)\n",
        "    # 5 indicator will be used per sequence/timestep per sample/row\n",
        "    \n",
        "    ## LABEL\n",
        "    # encode class values as integers [0,0,0,0,0,0,0,1,1,1,1,1,2,2,2,2]\n",
        "    encoder.fit(Y)\n",
        "    encoded_Y = encoder.transform(Y)\n",
        "\n",
        "    # convert integers to dummy variables (i.e. one hot encoded)\n",
        "    hot_y = np_utils.to_categorical(encoded_Y)\n",
        "    \n",
        "    return X, hot_y"
      ]
    },
    {
      "cell_type": "code",
      "execution_count": null,
      "id": "681522c3",
      "metadata": {
        "id": "681522c3"
      },
      "outputs": [],
      "source": [
        "X = samples.iloc[:, :-1]\n",
        "Y = samples.iloc[:, -1]"
      ]
    },
    {
      "cell_type": "code",
      "execution_count": null,
      "id": "ce9a30ef",
      "metadata": {
        "id": "ce9a30ef"
      },
      "outputs": [],
      "source": [
        "X_test, Y_test = data_preprocessing(X, Y)"
      ]
    },
    {
      "cell_type": "markdown",
      "id": "15766804",
      "metadata": {
        "id": "15766804"
      },
      "source": [
        "## PART 4 : Predict the generated data using pre-trained model"
      ]
    },
    {
      "cell_type": "markdown",
      "id": "5112b302",
      "metadata": {
        "id": "5112b302"
      },
      "source": [
        "### Import pre-trained model"
      ]
    },
    {
      "cell_type": "code",
      "execution_count": null,
      "id": "c9908968",
      "metadata": {
        "id": "c9908968"
      },
      "outputs": [],
      "source": [
        "from tensorflow.keras.models import load_model\n",
        "filename = \"C:\\\\Users\\\\IoT-Lab\\\\Documents\\\\!Erwin Yonata\\\\Anasa\\\\MODELS\\\\[3-layer] - 3L1\\\\CV\\\\GridSearchCV\\\\best_param_model.h5\"\n",
        "\n",
        "# load model\n",
        "loaded_model = load_model(filename)"
      ]
    },
    {
      "cell_type": "markdown",
      "id": "a2628991",
      "metadata": {
        "id": "a2628991"
      },
      "source": [
        "### Make prediction using generated data"
      ]
    },
    {
      "cell_type": "code",
      "execution_count": null,
      "id": "37d911c6",
      "metadata": {
        "id": "37d911c6"
      },
      "outputs": [],
      "source": [
        "pred = loaded_model.predict(X_test)"
      ]
    },
    {
      "cell_type": "markdown",
      "id": "3d59e780",
      "metadata": {
        "id": "3d59e780"
      },
      "source": [
        "## PART 5 : Evaluate"
      ]
    },
    {
      "cell_type": "markdown",
      "id": "41f3a1e1",
      "metadata": {
        "id": "41f3a1e1"
      },
      "source": [
        "### Plot confusion matrix"
      ]
    },
    {
      "cell_type": "code",
      "execution_count": null,
      "id": "54f85817",
      "metadata": {
        "id": "54f85817"
      },
      "outputs": [],
      "source": [
        "y_true = np.argmax(Y_test, axis=1)\n",
        "y_pred = np.argmax(pred, axis=1)"
      ]
    },
    {
      "cell_type": "code",
      "execution_count": null,
      "id": "2326b638",
      "metadata": {
        "id": "2326b638"
      },
      "outputs": [],
      "source": [
        "from sklearn.metrics import confusion_matrix\n",
        "import matplotlib.pyplot as plt\n",
        "\n",
        "# Define the confusion matrix\n",
        "conf_matrix = confusion_matrix(y_true, y_pred)\n",
        "\n",
        "# Plot the confusion matrix\n",
        "plt.imshow(conf_matrix, cmap=plt.cm.Greens)\n",
        "\n",
        "# Add labels to the plot\n",
        "tick_marks = np.arange(len(conf_matrix))\n",
        "plt.xlabel('Predicted label')\n",
        "plt.ylabel('True label')\n",
        "\n",
        "# Add values to the plot\n",
        "for i in range(len(conf_matrix)):\n",
        "    for j in range(len(conf_matrix)):\n",
        "        plt.text(j, i, conf_matrix[i, j], ha='center', va='center')\n",
        "\n",
        "# Show the plot\n",
        "plt.show()"
      ]
    },
    {
      "cell_type": "markdown",
      "id": "d30a7f82",
      "metadata": {
        "id": "d30a7f82"
      },
      "source": [
        "### Create Data Frame for generated result vs prediction result"
      ]
    },
    {
      "cell_type": "code",
      "execution_count": null,
      "id": "679f704c",
      "metadata": {
        "id": "679f704c"
      },
      "outputs": [],
      "source": [
        "def revert_back(hot_y):\n",
        "    # Revert one-hot encoded representation to original labels\n",
        "    reversed_labels = np.argmax(hot_y, axis=1)\n",
        "\n",
        "    # Transform the reversed labels back to the original integer labels\n",
        "    original_labels = encoder.inverse_transform(reversed_labels)\n",
        "    \n",
        "    return original_labels"
      ]
    },
    {
      "cell_type": "code",
      "execution_count": null,
      "id": "4f839a66",
      "metadata": {
        "id": "4f839a66"
      },
      "outputs": [],
      "source": [
        "rb_pred = revert_back(pred)\n",
        "rb_Y_test = revert_back(Y_test)"
      ]
    },
    {
      "cell_type": "code",
      "execution_count": null,
      "id": "0b172db3",
      "metadata": {
        "id": "0b172db3"
      },
      "outputs": [],
      "source": [
        "df_pred = pd.DataFrame(np.array(list(zip(rb_Y_test, rb_pred))), columns=[[\"generated\", \"prediction\"]])"
      ]
    },
    {
      "cell_type": "code",
      "execution_count": null,
      "id": "71d68f78",
      "metadata": {
        "id": "71d68f78"
      },
      "outputs": [],
      "source": [
        "df_pred['generated'].value_counts()"
      ]
    },
    {
      "cell_type": "code",
      "execution_count": null,
      "id": "5b601e29",
      "metadata": {
        "id": "5b601e29"
      },
      "outputs": [],
      "source": [
        "df_pred['prediction'].value_counts()"
      ]
    },
    {
      "cell_type": "markdown",
      "id": "1a1f80d2",
      "metadata": {
        "id": "1a1f80d2"
      },
      "source": [
        "### Evaluate the predicted label with the generated label"
      ]
    },
    {
      "cell_type": "code",
      "execution_count": null,
      "id": "87cb4ec0",
      "metadata": {
        "id": "87cb4ec0"
      },
      "outputs": [],
      "source": [
        "score = loaded_model.evaluate(X_test, Y_test)\n",
        "print(\"Accuracy \\t: {:.2f}\".format(score[1]*100))\n",
        "print(\"Loss \\t\\t: {:.2f}\".format(score[0]*100))"
      ]
    }
  ],
  "metadata": {
    "kernelspec": {
      "display_name": "Python 3",
      "name": "python3"
    },
    "language_info": {
      "codemirror_mode": {
        "name": "ipython",
        "version": 3
      },
      "file_extension": ".py",
      "mimetype": "text/x-python",
      "name": "python",
      "nbconvert_exporter": "python",
      "pygments_lexer": "ipython3",
      "version": "3.9.16"
    },
    "colab": {
      "provenance": [],
      "gpuType": "T4"
    }
  },
  "nbformat": 4,
  "nbformat_minor": 5
}