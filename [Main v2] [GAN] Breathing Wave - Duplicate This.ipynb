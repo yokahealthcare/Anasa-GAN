{
 "cells": [
  {
   "cell_type": "markdown",
   "id": "013b3c3a",
   "metadata": {},
   "source": [
    "# GAN - BREATHING WAVE\n",
    "## Generative Adversarial Networks\n",
    "### 05 May 2023\n",
    "***"
   ]
  },
  {
   "cell_type": "markdown",
   "id": "68fdb416",
   "metadata": {},
   "source": [
    "## PART 1 : Data Preprocessing"
   ]
  },
  {
   "cell_type": "markdown",
   "id": "ec8ffb1c",
   "metadata": {},
   "source": [
    "### Importing Library"
   ]
  },
  {
   "cell_type": "code",
   "execution_count": null,
   "id": "a98a04f8",
   "metadata": {},
   "outputs": [],
   "source": [
    "import pandas as pd\n",
    "import numpy as np"
   ]
  },
  {
   "cell_type": "markdown",
   "id": "11d91f1b",
   "metadata": {},
   "source": [
    "### Import Dataset"
   ]
  },
  {
   "cell_type": "code",
   "execution_count": null,
   "id": "e0fbe09c",
   "metadata": {},
   "outputs": [],
   "source": [
    "df = pd.read_csv(\"dataset/breathing_waveform_data.csv\").iloc[:, :-1] # get rid of last column (\"notes\")"
   ]
  },
  {
   "cell_type": "markdown",
   "id": "6fbd1908",
   "metadata": {},
   "source": [
    "### Filter the zeros values\n",
    "> This will filtered the zeros value from all column (except first column)\n",
    ">\n",
    "> CAUSE : I think is natural for the first column to be 0.0 (because the time(X) still on 0 second)"
   ]
  },
  {
   "cell_type": "code",
   "execution_count": null,
   "id": "35bc6bd7",
   "metadata": {},
   "outputs": [],
   "source": [
    "zeros_val = df[df.iloc[:, 1:].eq(0).any(axis=1)]"
   ]
  },
  {
   "cell_type": "code",
   "execution_count": null,
   "id": "9fc73db1",
   "metadata": {},
   "outputs": [],
   "source": [
    "zeros_val"
   ]
  },
  {
   "cell_type": "markdown",
   "id": "09697c50",
   "metadata": {},
   "source": [
    "### Drop the table that has value zeros on it"
   ]
  },
  {
   "cell_type": "code",
   "execution_count": null,
   "id": "97b4115d",
   "metadata": {},
   "outputs": [],
   "source": [
    "df = df[~df.isin(zeros_val)].dropna()"
   ]
  },
  {
   "cell_type": "code",
   "execution_count": null,
   "id": "034c4bd4",
   "metadata": {},
   "outputs": [],
   "source": [
    "df"
   ]
  },
  {
   "cell_type": "markdown",
   "id": "5aefe261",
   "metadata": {},
   "source": [
    "## PART 2 : Generating Synthetic Data"
   ]
  },
  {
   "cell_type": "markdown",
   "id": "57aa8ebd",
   "metadata": {},
   "source": [
    "### Importing CTGAN Library"
   ]
  },
  {
   "cell_type": "code",
   "execution_count": null,
   "id": "c945c96f",
   "metadata": {},
   "outputs": [],
   "source": [
    "from ctgan import CTGAN"
   ]
  },
  {
   "cell_type": "markdown",
   "id": "a60a5d66",
   "metadata": {},
   "source": [
    "### Define the discrete values inside the dataset"
   ]
  },
  {
   "cell_type": "code",
   "execution_count": null,
   "id": "37a81baa",
   "metadata": {},
   "outputs": [],
   "source": [
    "discrete_columns = [\n",
    "    'labels'\n",
    "]"
   ]
  },
  {
   "cell_type": "markdown",
   "id": "fa71c76b",
   "metadata": {},
   "source": [
    "### Setting the CTGAN and fit the GAN"
   ]
  },
  {
   "cell_type": "code",
   "execution_count": null,
   "id": "4fc5ecb5",
   "metadata": {},
   "outputs": [],
   "source": [
    "ctgan = CTGAN(epochs=10, verbose=True, generator_lr=0.00001, cuda=True)\n",
    "ctgan.fit(df, discrete_columns)"
   ]
  },
  {
   "cell_type": "markdown",
   "id": "e4361a41",
   "metadata": {},
   "source": [
    "### Generate synthetic data"
   ]
  },
  {
   "cell_type": "code",
   "execution_count": null,
   "id": "d4d4f2bd",
   "metadata": {},
   "outputs": [],
   "source": [
    "samples = ctgan.sample(1000)"
   ]
  },
  {
   "cell_type": "markdown",
   "id": "0561fcc7",
   "metadata": {},
   "source": [
    "### Evaluate Data"
   ]
  },
  {
   "cell_type": "code",
   "execution_count": null,
   "id": "3f323703",
   "metadata": {},
   "outputs": [],
   "source": [
    "from table_evaluator import TableEvaluator\n",
    "\n",
    "print(df.shape, samples.shape)\n",
    "table_evaluator = TableEvaluator(df, samples, cat_cols=discrete_columns)\n",
    "\n",
    "table_evaluator.visual_evaluation()"
   ]
  },
  {
   "cell_type": "code",
   "execution_count": null,
   "id": "eeb2d261",
   "metadata": {},
   "outputs": [],
   "source": [
    "samples"
   ]
  },
  {
   "cell_type": "markdown",
   "id": "787c08eb",
   "metadata": {},
   "source": [
    "## PART 3 : Data Preprocessing"
   ]
  },
  {
   "cell_type": "markdown",
   "id": "e585248b",
   "metadata": {},
   "source": [
    "### Preprocess the generated data"
   ]
  },
  {
   "cell_type": "code",
   "execution_count": null,
   "id": "9f7c0b0e",
   "metadata": {},
   "outputs": [],
   "source": [
    "from sklearn.preprocessing import StandardScaler\n",
    "from sklearn.preprocessing import LabelEncoder\n",
    "from keras.utils import np_utils\n",
    "\n",
    "encoder = LabelEncoder()\n",
    "    \n",
    "def data_preprocessing(X, Y):\n",
    "    ## DATA\n",
    "    sc = StandardScaler()\n",
    "    X = sc.fit_transform(X)\n",
    "    # reshaping the training data to 3-Dimensional Numpy Array\n",
    "    feature = 5\n",
    "    X = np.reshape(X, (X.shape[0], int(85/feature), feature))\n",
    "    # (26400, 17, 5)\n",
    "    # 5 indicator will be used per sequence/timestep per sample/row\n",
    "    \n",
    "    ## LABEL\n",
    "    # encode class values as integers [0,0,0,0,0,0,0,1,1,1,1,1,2,2,2,2]\n",
    "    encoder.fit(Y)\n",
    "    encoded_Y = encoder.transform(Y)\n",
    "\n",
    "    # convert integers to dummy variables (i.e. one hot encoded)\n",
    "    hot_y = np_utils.to_categorical(encoded_Y)\n",
    "    \n",
    "    return X, hot_y"
   ]
  },
  {
   "cell_type": "code",
   "execution_count": null,
   "id": "681522c3",
   "metadata": {},
   "outputs": [],
   "source": [
    "X = samples.iloc[:, :-1]\n",
    "Y = samples.iloc[:, -1]"
   ]
  },
  {
   "cell_type": "code",
   "execution_count": null,
   "id": "ce9a30ef",
   "metadata": {},
   "outputs": [],
   "source": [
    "X_test, Y_test = data_preprocessing(X, Y)"
   ]
  },
  {
   "cell_type": "markdown",
   "id": "15766804",
   "metadata": {},
   "source": [
    "## PART 4 : Predict the generated data using pre-trained model"
   ]
  },
  {
   "cell_type": "markdown",
   "id": "5112b302",
   "metadata": {},
   "source": [
    "### Import pre-trained model"
   ]
  },
  {
   "cell_type": "code",
   "execution_count": null,
   "id": "c9908968",
   "metadata": {},
   "outputs": [],
   "source": [
    "from tensorflow.keras.models import load_model\n",
    "filename = \"C:\\\\Users\\\\IoT-Lab\\\\Documents\\\\!Erwin Yonata\\\\Anasa\\\\MODELS\\\\[3-layer] - 3L1\\\\CV\\\\GridSearchCV\\\\best_param_model.h5\"\n",
    "\n",
    "# load model\n",
    "loaded_model = load_model(filename)"
   ]
  },
  {
   "cell_type": "markdown",
   "id": "a2628991",
   "metadata": {},
   "source": [
    "### Make prediction using generated data"
   ]
  },
  {
   "cell_type": "code",
   "execution_count": null,
   "id": "37d911c6",
   "metadata": {},
   "outputs": [],
   "source": [
    "pred = loaded_model.predict(X_test)"
   ]
  },
  {
   "cell_type": "markdown",
   "id": "3d59e780",
   "metadata": {},
   "source": [
    "## PART 5 : Evaluate"
   ]
  },
  {
   "cell_type": "markdown",
   "id": "41f3a1e1",
   "metadata": {},
   "source": [
    "### Plot confusion matrix"
   ]
  },
  {
   "cell_type": "code",
   "execution_count": null,
   "id": "54f85817",
   "metadata": {},
   "outputs": [],
   "source": [
    "y_true = np.argmax(Y_test, axis=1)\n",
    "y_pred = np.argmax(pred, axis=1)"
   ]
  },
  {
   "cell_type": "code",
   "execution_count": null,
   "id": "2326b638",
   "metadata": {},
   "outputs": [],
   "source": [
    "from sklearn.metrics import confusion_matrix\n",
    "import matplotlib.pyplot as plt\n",
    "\n",
    "# Define the confusion matrix\n",
    "conf_matrix = confusion_matrix(y_true, y_pred)\n",
    "\n",
    "# Plot the confusion matrix\n",
    "plt.imshow(conf_matrix, cmap=plt.cm.Greens)\n",
    "\n",
    "# Add labels to the plot\n",
    "tick_marks = np.arange(len(conf_matrix))\n",
    "plt.xlabel('Predicted label')\n",
    "plt.ylabel('True label')\n",
    "\n",
    "# Add values to the plot\n",
    "for i in range(len(conf_matrix)):\n",
    "    for j in range(len(conf_matrix)):\n",
    "        plt.text(j, i, conf_matrix[i, j], ha='center', va='center')\n",
    "\n",
    "# Show the plot\n",
    "plt.show()"
   ]
  },
  {
   "cell_type": "markdown",
   "id": "d30a7f82",
   "metadata": {},
   "source": [
    "### Create Data Frame for generated result vs prediction result"
   ]
  },
  {
   "cell_type": "code",
   "execution_count": null,
   "id": "679f704c",
   "metadata": {},
   "outputs": [],
   "source": [
    "def revert_back(hot_y):\n",
    "    # Revert one-hot encoded representation to original labels\n",
    "    reversed_labels = np.argmax(hot_y, axis=1)\n",
    "\n",
    "    # Transform the reversed labels back to the original integer labels\n",
    "    original_labels = encoder.inverse_transform(reversed_labels)\n",
    "    \n",
    "    return original_labels"
   ]
  },
  {
   "cell_type": "code",
   "execution_count": null,
   "id": "4f839a66",
   "metadata": {},
   "outputs": [],
   "source": [
    "rb_pred = revert_back(pred)\n",
    "rb_Y_test = revert_back(Y_test)"
   ]
  },
  {
   "cell_type": "code",
   "execution_count": null,
   "id": "0b172db3",
   "metadata": {},
   "outputs": [],
   "source": [
    "df_pred = pd.DataFrame(np.array(list(zip(rb_Y_test, rb_pred))), columns=[[\"generated\", \"prediction\"]])"
   ]
  },
  {
   "cell_type": "code",
   "execution_count": null,
   "id": "71d68f78",
   "metadata": {},
   "outputs": [],
   "source": [
    "df_pred['generated'].value_counts()"
   ]
  },
  {
   "cell_type": "code",
   "execution_count": null,
   "id": "5b601e29",
   "metadata": {},
   "outputs": [],
   "source": [
    "df_pred['prediction'].value_counts()"
   ]
  },
  {
   "cell_type": "markdown",
   "id": "1a1f80d2",
   "metadata": {},
   "source": [
    "### Evaluate the predicted label with the generated label"
   ]
  },
  {
   "cell_type": "code",
   "execution_count": null,
   "id": "87cb4ec0",
   "metadata": {},
   "outputs": [],
   "source": [
    "score = loaded_model.evaluate(X_test, Y_test)\n",
    "print(\"Accuracy \\t: {:.2f}\".format(score[1]*100))\n",
    "print(\"Loss \\t\\t: {:.2f}\".format(score[0]*100))"
   ]
  }
 ],
 "metadata": {
  "kernelspec": {
   "display_name": "Python 3 (ipykernel)",
   "language": "python",
   "name": "python3"
  },
  "language_info": {
   "codemirror_mode": {
    "name": "ipython",
    "version": 3
   },
   "file_extension": ".py",
   "mimetype": "text/x-python",
   "name": "python",
   "nbconvert_exporter": "python",
   "pygments_lexer": "ipython3",
   "version": "3.9.16"
  }
 },
 "nbformat": 4,
 "nbformat_minor": 5
}
