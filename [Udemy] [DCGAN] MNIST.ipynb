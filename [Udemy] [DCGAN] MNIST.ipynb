{
  "cells": [
    {
      "cell_type": "markdown",
      "metadata": {
        "id": "view-in-github",
        "colab_type": "text"
      },
      "source": [
        "<a href=\"https://colab.research.google.com/github/yokahealthcare/Anasa-GAN/blob/master/%5BUdemy%5D%20%5BDCGAN%5D%20MNIST.ipynb\" target=\"_parent\"><img src=\"https://colab.research.google.com/assets/colab-badge.svg\" alt=\"Open In Colab\"/></a>"
      ]
    },
    {
      "cell_type": "markdown",
      "source": [
        "# DCGAN - MNIST\n",
        "## Deep Convolutional Generative Adversial Network"
      ],
      "metadata": {
        "id": "qyGYPhHdfDbG"
      }
    },
    {
      "cell_type": "markdown",
      "source": [
        "## PART 1 : Data Preparation"
      ],
      "metadata": {
        "id": "kXcnh1rkfLYj"
      }
    },
    {
      "cell_type": "markdown",
      "source": [
        "### Importing libraries"
      ],
      "metadata": {
        "id": "4IIV0FB8fPYR"
      }
    },
    {
      "cell_type": "code",
      "execution_count": null,
      "metadata": {
        "colab": {
          "base_uri": "https://localhost:8080/",
          "height": 35
        },
        "id": "M9MuP7ppffIx",
        "outputId": "f85fd159-d60f-490a-8a9b-6a647c51da2f"
      },
      "outputs": [
        {
          "output_type": "execute_result",
          "data": {
            "text/plain": [
              "'2.12.0'"
            ],
            "application/vnd.google.colaboratory.intrinsic+json": {
              "type": "string"
            }
          },
          "metadata": {},
          "execution_count": 1
        }
      ],
      "source": [
        "import matplotlib.pyplot as plt\n",
        "import numpy as np\n",
        "import tensorflow as tf\n",
        "from tensorflow.keras import layers\n",
        "tf.__version__"
      ]
    },
    {
      "cell_type": "markdown",
      "source": [
        "### Loading dataset MNIST"
      ],
      "metadata": {
        "id": "Sh9pLZHafcnr"
      }
    },
    {
      "cell_type": "code",
      "execution_count": null,
      "metadata": {
        "id": "PsRbmjBibx7k",
        "colab": {
          "base_uri": "https://localhost:8080/"
        },
        "outputId": "cf6bdaca-3673-4eb5-a083-2b574e406182"
      },
      "outputs": [
        {
          "output_type": "stream",
          "name": "stdout",
          "text": [
            "Downloading data from https://storage.googleapis.com/tensorflow/tf-keras-datasets/mnist.npz\n",
            "11490434/11490434 [==============================] - 1s 0us/step\n"
          ]
        }
      ],
      "source": [
        "(X_train, Y_train), (_, _) = tf.keras.datasets.mnist.load_data()"
      ]
    },
    {
      "cell_type": "code",
      "execution_count": null,
      "metadata": {
        "id": "jmkd81FVby7Z",
        "colab": {
          "base_uri": "https://localhost:8080/"
        },
        "outputId": "0381a12d-7333-474f-e468-e747d9b92857"
      },
      "outputs": [
        {
          "output_type": "execute_result",
          "data": {
            "text/plain": [
              "(60000, 28, 28)"
            ]
          },
          "metadata": {},
          "execution_count": 3
        }
      ],
      "source": [
        "X_train.shape"
      ]
    },
    {
      "cell_type": "code",
      "source": [
        "X_train"
      ],
      "metadata": {
        "colab": {
          "base_uri": "https://localhost:8080/"
        },
        "id": "r1GA7MDmha4f",
        "outputId": "24977ee9-a26b-42da-e589-ffb63918df1f"
      },
      "execution_count": null,
      "outputs": [
        {
          "output_type": "execute_result",
          "data": {
            "text/plain": [
              "array([[[0, 0, 0, ..., 0, 0, 0],\n",
              "        [0, 0, 0, ..., 0, 0, 0],\n",
              "        [0, 0, 0, ..., 0, 0, 0],\n",
              "        ...,\n",
              "        [0, 0, 0, ..., 0, 0, 0],\n",
              "        [0, 0, 0, ..., 0, 0, 0],\n",
              "        [0, 0, 0, ..., 0, 0, 0]],\n",
              "\n",
              "       [[0, 0, 0, ..., 0, 0, 0],\n",
              "        [0, 0, 0, ..., 0, 0, 0],\n",
              "        [0, 0, 0, ..., 0, 0, 0],\n",
              "        ...,\n",
              "        [0, 0, 0, ..., 0, 0, 0],\n",
              "        [0, 0, 0, ..., 0, 0, 0],\n",
              "        [0, 0, 0, ..., 0, 0, 0]],\n",
              "\n",
              "       [[0, 0, 0, ..., 0, 0, 0],\n",
              "        [0, 0, 0, ..., 0, 0, 0],\n",
              "        [0, 0, 0, ..., 0, 0, 0],\n",
              "        ...,\n",
              "        [0, 0, 0, ..., 0, 0, 0],\n",
              "        [0, 0, 0, ..., 0, 0, 0],\n",
              "        [0, 0, 0, ..., 0, 0, 0]],\n",
              "\n",
              "       ...,\n",
              "\n",
              "       [[0, 0, 0, ..., 0, 0, 0],\n",
              "        [0, 0, 0, ..., 0, 0, 0],\n",
              "        [0, 0, 0, ..., 0, 0, 0],\n",
              "        ...,\n",
              "        [0, 0, 0, ..., 0, 0, 0],\n",
              "        [0, 0, 0, ..., 0, 0, 0],\n",
              "        [0, 0, 0, ..., 0, 0, 0]],\n",
              "\n",
              "       [[0, 0, 0, ..., 0, 0, 0],\n",
              "        [0, 0, 0, ..., 0, 0, 0],\n",
              "        [0, 0, 0, ..., 0, 0, 0],\n",
              "        ...,\n",
              "        [0, 0, 0, ..., 0, 0, 0],\n",
              "        [0, 0, 0, ..., 0, 0, 0],\n",
              "        [0, 0, 0, ..., 0, 0, 0]],\n",
              "\n",
              "       [[0, 0, 0, ..., 0, 0, 0],\n",
              "        [0, 0, 0, ..., 0, 0, 0],\n",
              "        [0, 0, 0, ..., 0, 0, 0],\n",
              "        ...,\n",
              "        [0, 0, 0, ..., 0, 0, 0],\n",
              "        [0, 0, 0, ..., 0, 0, 0],\n",
              "        [0, 0, 0, ..., 0, 0, 0]]], dtype=uint8)"
            ]
          },
          "metadata": {},
          "execution_count": 4
        }
      ]
    },
    {
      "cell_type": "code",
      "execution_count": null,
      "metadata": {
        "id": "aN-0IFTbbzEs",
        "colab": {
          "base_uri": "https://localhost:8080/"
        },
        "outputId": "f0e8ab1e-37dd-4c52-82dd-2031d932eac7"
      },
      "outputs": [
        {
          "output_type": "execute_result",
          "data": {
            "text/plain": [
              "784"
            ]
          },
          "metadata": {},
          "execution_count": 5
        }
      ],
      "source": [
        "28 * 28"
      ]
    },
    {
      "cell_type": "markdown",
      "source": [
        "### Reshaping the training data (X)\n",
        "> This must because CNN accept 4-Dimensional Numpy array as input\n",
        ">\n",
        "> **STRUCTURE** : (batch_size, height, width, channels)\n",
        ">\n",
        "> *Channels can RGB or GRAYSCALE*"
      ],
      "metadata": {
        "id": "s4Avz8v0g_UT"
      }
    },
    {
      "cell_type": "code",
      "execution_count": null,
      "metadata": {
        "id": "Dim5cxTIbzim"
      },
      "outputs": [],
      "source": [
        "X_train = np.reshape(X_train, (60000, 28, 28, 1)).astype(\"float\")"
      ]
    },
    {
      "cell_type": "markdown",
      "source": [
        "### Scaling the data into range -1 to 1"
      ],
      "metadata": {
        "id": "CHmG-5wvkSqx"
      }
    },
    {
      "cell_type": "code",
      "execution_count": null,
      "metadata": {
        "id": "4nb3VXKmfh6F",
        "colab": {
          "base_uri": "https://localhost:8080/"
        },
        "outputId": "e91c1830-411b-48f2-8051-20f3865ce477"
      },
      "outputs": [
        {
          "output_type": "stream",
          "name": "stdout",
          "text": [
            "max : 255.0 \t min : 0.0\n"
          ]
        }
      ],
      "source": [
        "print(\"max : {} \\t min : {}\".format(X_train[0].max(), X_train[0].min()))"
      ]
    },
    {
      "cell_type": "code",
      "source": [
        "min_value = X_train[0].min()\n",
        "max_value = X_train[0].max()\n",
        "# using MinMaxScaler formula and modified it (range : -1 to 1)\n",
        "X_train = 2 * ((X_train - min_value) / (max_value - min_value)) - 1"
      ],
      "metadata": {
        "id": "D3OpuvJfixkV"
      },
      "execution_count": null,
      "outputs": []
    },
    {
      "cell_type": "code",
      "source": [
        "print(\"max : {} \\t min : {}\".format(X_train[0].max(), X_train[0].min()))"
      ],
      "metadata": {
        "colab": {
          "base_uri": "https://localhost:8080/"
        },
        "id": "QAuoagUTjeIK",
        "outputId": "d048b4da-424a-41db-c72c-10102b484fb1"
      },
      "execution_count": null,
      "outputs": [
        {
          "output_type": "stream",
          "name": "stdout",
          "text": [
            "max : 1.0 \t min : -1.0\n"
          ]
        }
      ]
    },
    {
      "cell_type": "markdown",
      "source": [
        "### Change X_train to batch type variable"
      ],
      "metadata": {
        "id": "dC6yG3JSmduT"
      }
    },
    {
      "cell_type": "code",
      "source": [
        "buffer_size = X_train.shape[0]   # length of data 60.000 row\n",
        "batch_size = 256\n",
        "X_train = tf.data.Dataset.from_tensor_slices(X_train).shuffle(buffer_size).batch(batch_size)"
      ],
      "metadata": {
        "id": "aM2vCcHxjjbQ"
      },
      "execution_count": null,
      "outputs": []
    },
    {
      "cell_type": "code",
      "source": [
        "type(X_train)"
      ],
      "metadata": {
        "colab": {
          "base_uri": "https://localhost:8080/"
        },
        "id": "g_MfTdKBnA-k",
        "outputId": "a3a47dd1-c569-479b-9920-d4364f8de11f"
      },
      "execution_count": null,
      "outputs": [
        {
          "output_type": "execute_result",
          "data": {
            "text/plain": [
              "tensorflow.python.data.ops.batch_op._BatchDataset"
            ]
          },
          "metadata": {},
          "execution_count": 11
        }
      ]
    },
    {
      "cell_type": "markdown",
      "source": [
        "### Creating build_generator() functions"
      ],
      "metadata": {
        "id": "PqSj5g3zL5sB"
      }
    },
    {
      "cell_type": "code",
      "source": [
        "def build_generator():\n",
        "  net = tf.keras.Sequential()\n",
        "  net.add(layers.Dense(units = 7*7*256, use_bias = False, input_shape=(100,)))\n",
        "  net.add(layers.BatchNormalization())\n",
        "  net.add(layers.LeakyReLU())\n",
        "\n",
        "  net.add(layers.Reshape((7, 7, 256)))\n",
        "\n",
        "  # 7 x 7 x 128\n",
        "  net.add(layers.Conv2DTranspose(filters = 128, kernel_size = (5,5), padding = \"same\", use_bias = False))\n",
        "  net.add(layers.BatchNormalization())\n",
        "  net.add(layers.LeakyReLU())\n",
        "\n",
        "  # 14 x 14 x 64\n",
        "  net.add(layers.Conv2DTranspose(filters = 64, kernel_size = (5,5), strides = (2,2), padding = \"same\", use_bias = False))\n",
        "  net.add(layers.BatchNormalization())\n",
        "  net.add(layers.LeakyReLU())\n",
        "\n",
        "   # 28 x 28 x 1\n",
        "  net.add(layers.Conv2DTranspose(filters = 1, kernel_size = (5,5), strides = (2,2), padding = \"same\", use_bias = False, activation = \"tanh\"))\n",
        "\n",
        "  net.summary()\n",
        "  return net"
      ],
      "metadata": {
        "id": "D52lKuiAnDlX"
      },
      "execution_count": null,
      "outputs": []
    },
    {
      "cell_type": "code",
      "source": [
        "generator = build_generator()"
      ],
      "metadata": {
        "id": "DOOhmwXxnJm6",
        "colab": {
          "base_uri": "https://localhost:8080/"
        },
        "outputId": "e611d3b2-32c9-475f-aca3-f85f4ffcae91"
      },
      "execution_count": null,
      "outputs": [
        {
          "output_type": "stream",
          "name": "stdout",
          "text": [
            "Model: \"sequential\"\n",
            "_________________________________________________________________\n",
            " Layer (type)                Output Shape              Param #   \n",
            "=================================================================\n",
            " dense (Dense)               (None, 12544)             1254400   \n",
            "                                                                 \n",
            " batch_normalization (BatchN  (None, 12544)            50176     \n",
            " ormalization)                                                   \n",
            "                                                                 \n",
            " leaky_re_lu (LeakyReLU)     (None, 12544)             0         \n",
            "                                                                 \n",
            " reshape (Reshape)           (None, 7, 7, 256)         0         \n",
            "                                                                 \n",
            " conv2d_transpose (Conv2DTra  (None, 7, 7, 128)        819200    \n",
            " nspose)                                                         \n",
            "                                                                 \n",
            " batch_normalization_1 (Batc  (None, 7, 7, 128)        512       \n",
            " hNormalization)                                                 \n",
            "                                                                 \n",
            " leaky_re_lu_1 (LeakyReLU)   (None, 7, 7, 128)         0         \n",
            "                                                                 \n",
            " conv2d_transpose_1 (Conv2DT  (None, 14, 14, 64)       204800    \n",
            " ranspose)                                                       \n",
            "                                                                 \n",
            " batch_normalization_2 (Batc  (None, 14, 14, 64)       256       \n",
            " hNormalization)                                                 \n",
            "                                                                 \n",
            " leaky_re_lu_2 (LeakyReLU)   (None, 14, 14, 64)        0         \n",
            "                                                                 \n",
            " conv2d_transpose_2 (Conv2DT  (None, 28, 28, 1)        1600      \n",
            " ranspose)                                                       \n",
            "                                                                 \n",
            "=================================================================\n",
            "Total params: 2,330,944\n",
            "Trainable params: 2,305,472\n",
            "Non-trainable params: 25,472\n",
            "_________________________________________________________________\n"
          ]
        }
      ]
    },
    {
      "cell_type": "code",
      "source": [
        "noise = tf.random.normal([1, 100])\n",
        "noise"
      ],
      "metadata": {
        "id": "L-dF2r2KnRot",
        "colab": {
          "base_uri": "https://localhost:8080/"
        },
        "outputId": "53e218c6-65c2-47a7-8a6a-00846f0285d1"
      },
      "execution_count": null,
      "outputs": [
        {
          "output_type": "execute_result",
          "data": {
            "text/plain": [
              "<tf.Tensor: shape=(1, 100), dtype=float32, numpy=\n",
              "array([[-0.8319619 , -0.622317  ,  0.5765258 , -0.90336114, -0.76183885,\n",
              "        -1.2754107 ,  0.7047551 , -0.6690951 ,  0.18215777, -0.6015674 ,\n",
              "        -0.03676174,  0.49068627, -0.622307  ,  1.5561035 , -0.99464536,\n",
              "        -0.40775195,  1.3982586 ,  0.6975008 , -0.4005011 , -0.7756972 ,\n",
              "         1.6028887 ,  0.04161678, -0.8635968 , -0.776094  , -1.8251657 ,\n",
              "         0.40285254, -1.5470164 ,  1.6732163 ,  0.60290295,  1.0032225 ,\n",
              "        -1.5091627 ,  1.4851221 ,  0.80568504, -0.60398304, -0.03215862,\n",
              "         0.07744939,  0.45776087,  0.5197713 ,  0.434775  , -1.8904372 ,\n",
              "         0.76485074, -0.04845679,  0.40371224,  1.0606332 , -0.3809542 ,\n",
              "        -0.16038549,  0.90784633,  1.2926776 , -0.20593898, -0.26572952,\n",
              "         0.73903525,  1.4334614 , -0.15121566, -0.7913647 ,  0.4136308 ,\n",
              "        -0.10758805, -0.10496462, -1.4616283 ,  0.05893357, -0.6920678 ,\n",
              "        -0.204213  , -0.3795431 ,  0.8005878 , -1.2934746 ,  1.4100475 ,\n",
              "         0.65922797,  0.71150357,  1.4675231 ,  0.35611933,  0.4491123 ,\n",
              "        -2.1020465 ,  2.7318728 , -1.4277418 ,  0.3628543 ,  1.2240989 ,\n",
              "         0.7737757 , -1.8778594 , -0.23556516,  0.20527337, -0.5664087 ,\n",
              "        -1.6150821 , -0.96175325,  0.61718917,  0.51395464, -0.77375954,\n",
              "        -0.11251822, -0.18072124, -0.06387933, -0.21998227,  1.7677933 ,\n",
              "         0.13549244, -0.19128558,  0.38052917,  0.94759464,  0.01657719,\n",
              "        -0.04800916, -1.0305538 ,  0.7675917 ,  1.0217652 ,  0.40602338]],\n",
              "      dtype=float32)>"
            ]
          },
          "metadata": {},
          "execution_count": 14
        }
      ]
    },
    {
      "cell_type": "code",
      "source": [
        "generated_image = generator(noise, training = False)"
      ],
      "metadata": {
        "id": "vb_L3RM1nSlD"
      },
      "execution_count": null,
      "outputs": []
    },
    {
      "cell_type": "code",
      "source": [
        "plt.imshow(generated_image[0], cmap=\"gray\")"
      ],
      "metadata": {
        "id": "q-5y7CA1nSo6",
        "colab": {
          "base_uri": "https://localhost:8080/",
          "height": 447
        },
        "outputId": "279b2b09-62e4-4e6a-8b28-1acfb14cbbd2"
      },
      "execution_count": null,
      "outputs": [
        {
          "output_type": "execute_result",
          "data": {
            "text/plain": [
              "<matplotlib.image.AxesImage at 0x7f31205fab60>"
            ]
          },
          "metadata": {},
          "execution_count": 16
        },
        {
          "output_type": "display_data",
          "data": {
            "text/plain": [
              "<Figure size 640x480 with 1 Axes>"
            ],
            "image/png": "[encoded data removed]"
          },
          "metadata": {}
        }
      ]
    },
    {
      "cell_type": "code",
      "source": [],
      "metadata": {
        "id": "e01KkldmQjl6"
      },
      "execution_count": null,
      "outputs": []
    }
  ],
  "metadata": {
    "accelerator": "GPU",
    "colab": {
      "provenance": [],
      "gpuType": "T4",
      "authorship_tag": "ABX9TyPN4iXLaNo8jIIGNoYwLCyH",
      "include_colab_link": true
    },
    "kernelspec": {
      "display_name": "Python 3",
      "name": "python3"
    },
    "language_info": {
      "name": "python"
    }
  },
  "nbformat": 4,
  "nbformat_minor": 0
}