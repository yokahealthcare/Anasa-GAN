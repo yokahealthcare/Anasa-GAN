{
 "cells": [
  {
   "cell_type": "markdown",
   "metadata": {
    "colab_type": "text",
    "id": "view-in-github"
   },
   "source": [
    "<a href=\"https://colab.research.google.com/github/yokahealthcare/Anasa-GAN/blob/master/%5BUdemy%5D%20%5BDCGAN%5D%20MNIST.ipynb\" target=\"_parent\"><img src=\"https://colab.research.google.com/assets/colab-badge.svg\" alt=\"Open In Colab\"/></a>"
   ]
  },
  {
   "cell_type": "markdown",
   "metadata": {
    "id": "qyGYPhHdfDbG"
   },
   "source": [
    "# DCGAN - MNIST\n",
    "## Deep Convolutional Generative Adversial Network"
   ]
  },
  {
   "cell_type": "markdown",
   "metadata": {
    "id": "kXcnh1rkfLYj"
   },
   "source": [
    "## PART 1 : Data Preparation"
   ]
  },
  {
   "cell_type": "markdown",
   "metadata": {
    "id": "4IIV0FB8fPYR"
   },
   "source": [
    "### Importing libraries"
   ]
  },
  {
   "cell_type": "code",
   "execution_count": 1,
   "metadata": {
    "colab": {
     "base_uri": "https://localhost:8080/",
     "height": 35
    },
    "id": "M9MuP7ppffIx",
    "outputId": "f85fd159-d60f-490a-8a9b-6a647c51da2f"
   },
   "outputs": [
    {
     "data": {
      "text/plain": [
       "'2.11.0'"
      ]
     },
     "execution_count": 1,
     "metadata": {},
     "output_type": "execute_result"
    }
   ],
   "source": [
    "import matplotlib.pyplot as plt\n",
    "import numpy as np\n",
    "import tensorflow as tf\n",
    "from tensorflow.keras import layers\n",
    "tf.__version__"
   ]
  },
  {
   "cell_type": "markdown",
   "metadata": {
    "id": "Sh9pLZHafcnr"
   },
   "source": [
    "### Loading dataset MNIST"
   ]
  },
  {
   "cell_type": "code",
   "execution_count": 2,
   "metadata": {},
   "outputs": [],
   "source": [
    "path = \"dataset\\mnist.npz\"\n",
    "with np.load(path) as data:\n",
    "  X_train = data['x_train']\n",
    "  Y_train = data['y_train']\n",
    "  X_test = data['x_test']\n",
    "  Y_test = data['y_test']"
   ]
  },
  {
   "cell_type": "code",
   "execution_count": 3,
   "metadata": {
    "colab": {
     "base_uri": "https://localhost:8080/"
    },
    "id": "jmkd81FVby7Z",
    "outputId": "0381a12d-7333-474f-e468-e747d9b92857"
   },
   "outputs": [
    {
     "data": {
      "text/plain": [
       "(60000, 28, 28)"
      ]
     },
     "execution_count": 3,
     "metadata": {},
     "output_type": "execute_result"
    }
   ],
   "source": [
    "X_train.shape"
   ]
  },
  {
   "cell_type": "code",
   "execution_count": 4,
   "metadata": {
    "colab": {
     "base_uri": "https://localhost:8080/"
    },
    "id": "r1GA7MDmha4f",
    "outputId": "24977ee9-a26b-42da-e589-ffb63918df1f"
   },
   "outputs": [
    {
     "data": {
      "text/plain": [
       "array([[[0, 0, 0, ..., 0, 0, 0],\n",
       "        [0, 0, 0, ..., 0, 0, 0],\n",
       "        [0, 0, 0, ..., 0, 0, 0],\n",
       "        ...,\n",
       "        [0, 0, 0, ..., 0, 0, 0],\n",
       "        [0, 0, 0, ..., 0, 0, 0],\n",
       "        [0, 0, 0, ..., 0, 0, 0]],\n",
       "\n",
       "       [[0, 0, 0, ..., 0, 0, 0],\n",
       "        [0, 0, 0, ..., 0, 0, 0],\n",
       "        [0, 0, 0, ..., 0, 0, 0],\n",
       "        ...,\n",
       "        [0, 0, 0, ..., 0, 0, 0],\n",
       "        [0, 0, 0, ..., 0, 0, 0],\n",
       "        [0, 0, 0, ..., 0, 0, 0]],\n",
       "\n",
       "       [[0, 0, 0, ..., 0, 0, 0],\n",
       "        [0, 0, 0, ..., 0, 0, 0],\n",
       "        [0, 0, 0, ..., 0, 0, 0],\n",
       "        ...,\n",
       "        [0, 0, 0, ..., 0, 0, 0],\n",
       "        [0, 0, 0, ..., 0, 0, 0],\n",
       "        [0, 0, 0, ..., 0, 0, 0]],\n",
       "\n",
       "       ...,\n",
       "\n",
       "       [[0, 0, 0, ..., 0, 0, 0],\n",
       "        [0, 0, 0, ..., 0, 0, 0],\n",
       "        [0, 0, 0, ..., 0, 0, 0],\n",
       "        ...,\n",
       "        [0, 0, 0, ..., 0, 0, 0],\n",
       "        [0, 0, 0, ..., 0, 0, 0],\n",
       "        [0, 0, 0, ..., 0, 0, 0]],\n",
       "\n",
       "       [[0, 0, 0, ..., 0, 0, 0],\n",
       "        [0, 0, 0, ..., 0, 0, 0],\n",
       "        [0, 0, 0, ..., 0, 0, 0],\n",
       "        ...,\n",
       "        [0, 0, 0, ..., 0, 0, 0],\n",
       "        [0, 0, 0, ..., 0, 0, 0],\n",
       "        [0, 0, 0, ..., 0, 0, 0]],\n",
       "\n",
       "       [[0, 0, 0, ..., 0, 0, 0],\n",
       "        [0, 0, 0, ..., 0, 0, 0],\n",
       "        [0, 0, 0, ..., 0, 0, 0],\n",
       "        ...,\n",
       "        [0, 0, 0, ..., 0, 0, 0],\n",
       "        [0, 0, 0, ..., 0, 0, 0],\n",
       "        [0, 0, 0, ..., 0, 0, 0]]], dtype=uint8)"
      ]
     },
     "execution_count": 4,
     "metadata": {},
     "output_type": "execute_result"
    }
   ],
   "source": [
    "X_train"
   ]
  },
  {
   "cell_type": "code",
   "execution_count": 5,
   "metadata": {
    "colab": {
     "base_uri": "https://localhost:8080/"
    },
    "id": "aN-0IFTbbzEs",
    "outputId": "f0e8ab1e-37dd-4c52-82dd-2031d932eac7"
   },
   "outputs": [
    {
     "data": {
      "text/plain": [
       "784"
      ]
     },
     "execution_count": 5,
     "metadata": {},
     "output_type": "execute_result"
    }
   ],
   "source": [
    "28 * 28"
   ]
  },
  {
   "cell_type": "markdown",
   "metadata": {
    "id": "s4Avz8v0g_UT"
   },
   "source": [
    "### Reshaping the training data (X)\n",
    "> This must because CNN accept 4-Dimensional Numpy array as input\n",
    ">\n",
    "> **STRUCTURE** : (batch_size, height, width, channels)\n",
    ">\n",
    "> *Channels can RGB or GRAYSCALE*"
   ]
  },
  {
   "cell_type": "code",
   "execution_count": 6,
   "metadata": {
    "id": "Dim5cxTIbzim"
   },
   "outputs": [],
   "source": [
    "X_train = np.reshape(X_train, (60000, 28, 28, 1)).astype(\"float\")"
   ]
  },
  {
   "cell_type": "markdown",
   "metadata": {
    "id": "CHmG-5wvkSqx"
   },
   "source": [
    "### Scaling the data into range -1 to 1"
   ]
  },
  {
   "cell_type": "code",
   "execution_count": 7,
   "metadata": {
    "colab": {
     "base_uri": "https://localhost:8080/"
    },
    "id": "4nb3VXKmfh6F",
    "outputId": "e91c1830-411b-48f2-8051-20f3865ce477"
   },
   "outputs": [
    {
     "name": "stdout",
     "output_type": "stream",
     "text": [
      "max : 255.0 \t min : 0.0\n"
     ]
    }
   ],
   "source": [
    "print(\"max : {} \\t min : {}\".format(X_train[0].max(), X_train[0].min()))"
   ]
  },
  {
   "cell_type": "code",
   "execution_count": 8,
   "metadata": {
    "id": "D3OpuvJfixkV"
   },
   "outputs": [],
   "source": [
    "min_value = X_train[0].min()\n",
    "max_value = X_train[0].max()\n",
    "# using MinMaxScaler formula and modified it (range : -1 to 1)\n",
    "X_train = 2 * ((X_train - min_value) / (max_value - min_value)) - 1"
   ]
  },
  {
   "cell_type": "code",
   "execution_count": 9,
   "metadata": {
    "colab": {
     "base_uri": "https://localhost:8080/"
    },
    "id": "QAuoagUTjeIK",
    "outputId": "d048b4da-424a-41db-c72c-10102b484fb1"
   },
   "outputs": [
    {
     "name": "stdout",
     "output_type": "stream",
     "text": [
      "max : 1.0 \t min : -1.0\n"
     ]
    }
   ],
   "source": [
    "print(\"max : {} \\t min : {}\".format(X_train[0].max(), X_train[0].min()))"
   ]
  },
  {
   "cell_type": "markdown",
   "metadata": {
    "id": "dC6yG3JSmduT"
   },
   "source": [
    "### Change X_train to batch type variable"
   ]
  },
  {
   "cell_type": "code",
   "execution_count": 10,
   "metadata": {
    "id": "aM2vCcHxjjbQ"
   },
   "outputs": [],
   "source": [
    "buffer_size = X_train.shape[0]   # length of data 60.000 row\n",
    "batch_size = 256\n",
    "X_train = tf.data.Dataset.from_tensor_slices(X_train).shuffle(buffer_size).batch(batch_size)"
   ]
  },
  {
   "cell_type": "code",
   "execution_count": 11,
   "metadata": {
    "colab": {
     "base_uri": "https://localhost:8080/"
    },
    "id": "g_MfTdKBnA-k",
    "outputId": "a3a47dd1-c569-479b-9920-d4364f8de11f"
   },
   "outputs": [
    {
     "data": {
      "text/plain": [
       "tensorflow.python.data.ops.dataset_ops.BatchDataset"
      ]
     },
     "execution_count": 11,
     "metadata": {},
     "output_type": "execute_result"
    }
   ],
   "source": [
    "type(X_train)"
   ]
  },
  {
   "cell_type": "markdown",
   "metadata": {},
   "source": [
    "## PART 2 : Generator & Discriminator"
   ]
  },
  {
   "cell_type": "markdown",
   "metadata": {
    "id": "PqSj5g3zL5sB"
   },
   "source": [
    "### Creating build_generator() functions"
   ]
  },
  {
   "cell_type": "code",
   "execution_count": 12,
   "metadata": {
    "id": "D52lKuiAnDlX"
   },
   "outputs": [],
   "source": [
    "def build_generator():\n",
    "  net = tf.keras.Sequential()\n",
    "  net.add(layers.Dense(units = 7*7*256, use_bias = False, input_shape=(100,)))\n",
    "  net.add(layers.BatchNormalization())\n",
    "  net.add(layers.LeakyReLU())\n",
    "\n",
    "  net.add(layers.Reshape((7, 7, 256)))\n",
    "\n",
    "  # 7 x 7 x 128\n",
    "  net.add(layers.Conv2DTranspose(filters = 128, kernel_size = (5,5), padding = \"same\", use_bias = False))\n",
    "  net.add(layers.BatchNormalization())\n",
    "  net.add(layers.LeakyReLU())\n",
    "\n",
    "  # 14 x 14 x 64\n",
    "  net.add(layers.Conv2DTranspose(filters = 64, kernel_size = (5,5), strides = (2,2), padding = \"same\", use_bias = False))\n",
    "  net.add(layers.BatchNormalization())\n",
    "  net.add(layers.LeakyReLU())\n",
    "\n",
    "   # 28 x 28 x 1\n",
    "  net.add(layers.Conv2DTranspose(filters = 1, kernel_size = (5,5), strides = (2,2), padding = \"same\", use_bias = False, activation = \"tanh\"))\n",
    "\n",
    "  net.summary()\n",
    "  return net"
   ]
  },
  {
   "cell_type": "code",
   "execution_count": 13,
   "metadata": {
    "colab": {
     "base_uri": "https://localhost:8080/"
    },
    "id": "DOOhmwXxnJm6",
    "outputId": "e611d3b2-32c9-475f-aca3-f85f4ffcae91"
   },
   "outputs": [
    {
     "name": "stdout",
     "output_type": "stream",
     "text": [
      "Model: \"sequential\"\n",
      "_________________________________________________________________\n",
      " Layer (type)                Output Shape              Param #   \n",
      "=================================================================\n",
      " dense (Dense)               (None, 12544)             1254400   \n",
      "                                                                 \n",
      " batch_normalization (BatchN  (None, 12544)            50176     \n",
      " ormalization)                                                   \n",
      "                                                                 \n",
      " leaky_re_lu (LeakyReLU)     (None, 12544)             0         \n",
      "                                                                 \n",
      " reshape (Reshape)           (None, 7, 7, 256)         0         \n",
      "                                                                 \n",
      " conv2d_transpose (Conv2DTra  (None, 7, 7, 128)        819200    \n",
      " nspose)                                                         \n",
      "                                                                 \n",
      " batch_normalization_1 (Batc  (None, 7, 7, 128)        512       \n",
      " hNormalization)                                                 \n",
      "                                                                 \n",
      " leaky_re_lu_1 (LeakyReLU)   (None, 7, 7, 128)         0         \n",
      "                                                                 \n",
      " conv2d_transpose_1 (Conv2DT  (None, 14, 14, 64)       204800    \n",
      " ranspose)                                                       \n",
      "                                                                 \n",
      " batch_normalization_2 (Batc  (None, 14, 14, 64)       256       \n",
      " hNormalization)                                                 \n",
      "                                                                 \n",
      " leaky_re_lu_2 (LeakyReLU)   (None, 14, 14, 64)        0         \n",
      "                                                                 \n",
      " conv2d_transpose_2 (Conv2DT  (None, 28, 28, 1)        1600      \n",
      " ranspose)                                                       \n",
      "                                                                 \n",
      "=================================================================\n",
      "Total params: 2,330,944\n",
      "Trainable params: 2,305,472\n",
      "Non-trainable params: 25,472\n",
      "_________________________________________________________________\n"
     ]
    }
   ],
   "source": [
    "generator = build_generator()"
   ]
  },
  {
   "cell_type": "markdown",
   "metadata": {},
   "source": [
    "### Creating random noise vector"
   ]
  },
  {
   "cell_type": "code",
   "execution_count": 14,
   "metadata": {
    "colab": {
     "base_uri": "https://localhost:8080/"
    },
    "id": "L-dF2r2KnRot",
    "outputId": "53e218c6-65c2-47a7-8a6a-00846f0285d1"
   },
   "outputs": [
    {
     "data": {
      "text/plain": [
       "<tf.Tensor: shape=(1, 100), dtype=float32, numpy=\n",
       "array([[-1.0069184 , -0.16102263, -0.72600424,  0.20789844, -0.63772255,\n",
       "        -1.0659212 , -0.14042732,  0.49872246, -0.95532376, -0.5823781 ,\n",
       "         0.83624387, -0.5850028 , -0.23613784, -0.89135844,  1.8674994 ,\n",
       "         0.32691145,  0.8364948 , -0.13833733,  1.27057   , -0.8192222 ,\n",
       "        -0.62953335,  0.6530232 , -0.62709326,  0.88005984, -0.07567638,\n",
       "         0.19673333,  0.06633167,  0.88189375, -0.37588054,  1.4535233 ,\n",
       "         1.1959834 ,  0.8834244 , -0.4360591 ,  0.18956782,  1.4399118 ,\n",
       "        -0.7366036 ,  0.82220477, -1.1244183 ,  0.7855403 ,  0.4427558 ,\n",
       "        -0.38940284, -0.17569546, -0.49630424, -0.77926433, -0.44958723,\n",
       "        -2.0045261 , -0.45237884,  1.5963115 ,  1.2934761 ,  0.716046  ,\n",
       "         0.6486446 ,  0.8916136 , -0.27735114, -0.6321595 , -0.17338613,\n",
       "        -0.89849126, -0.69054085, -0.2250703 , -1.1904242 ,  0.21273609,\n",
       "        -1.7408764 ,  0.00248622, -0.53084064, -0.9706435 ,  1.7299806 ,\n",
       "         0.38579828,  0.5195923 ,  1.2067419 ,  0.4358146 ,  1.0976458 ,\n",
       "        -0.27785054,  0.37995812, -1.299579  ,  1.0285223 , -0.45976308,\n",
       "        -1.3437278 , -0.70852363, -0.97470766, -0.3930553 ,  0.5174809 ,\n",
       "         1.088854  , -0.31859303,  0.08880901, -0.10827888,  0.4817705 ,\n",
       "        -0.08114276, -0.99333006, -0.7101115 ,  0.6083228 , -2.0113409 ,\n",
       "         1.0984529 , -1.0617305 , -0.09018105, -0.3782647 ,  0.66599405,\n",
       "         0.46555975,  0.55091095,  0.2943572 ,  0.29321983, -0.31928572]],\n",
       "      dtype=float32)>"
      ]
     },
     "execution_count": 14,
     "metadata": {},
     "output_type": "execute_result"
    }
   ],
   "source": [
    "noise = tf.random.normal([1, 100])\n",
    "noise"
   ]
  },
  {
   "cell_type": "code",
   "execution_count": 15,
   "metadata": {
    "id": "vb_L3RM1nSlD"
   },
   "outputs": [],
   "source": [
    "generated_image = generator(noise, training = False)"
   ]
  },
  {
   "cell_type": "code",
   "execution_count": 16,
   "metadata": {
    "colab": {
     "base_uri": "https://localhost:8080/",
     "height": 447
    },
    "id": "q-5y7CA1nSo6",
    "outputId": "279b2b09-62e4-4e6a-8b28-1acfb14cbbd2"
   },
   "outputs": [
    {
     "data": {
      "text/plain": [
       "<matplotlib.image.AxesImage at 0x181b2e3a280>"
      ]
     },
     "execution_count": 16,
     "metadata": {},
     "output_type": "execute_result"
    },
    {
     "data": {
      "image/png": "[encoded data removed]",
      "text/plain": [
       "<Figure size 640x480 with 1 Axes>"
      ]
     },
     "metadata": {},
     "output_type": "display_data"
    }
   ],
   "source": [
    "plt.imshow(generated_image[0], cmap=\"gray\")"
   ]
  },
  {
   "cell_type": "markdown",
   "metadata": {
    "id": "e01KkldmQjl6"
   },
   "source": [
    "### Creating build_discriminator()"
   ]
  },
  {
   "cell_type": "code",
   "execution_count": 23,
   "metadata": {},
   "outputs": [],
   "source": [
    "def build_discriminator():\n",
    "    net = tf.keras.Sequential()\n",
    "    \n",
    "    # 14 x 14 x 64\n",
    "    net.add(layers.Conv2D(filters=64, strides=(2,2), kernel_size=(5,5), padding=\"same\", input_shape=(28,28,1)))\n",
    "    net.add(layers.LeakyReLU())\n",
    "    net.add(layers.Dropout(0.3))\n",
    "    \n",
    "    # 7 x 7 x 128\n",
    "    net.add(layers.Conv2D(filters=128, strides=(2,2), kernel_size=(5,5), padding=\"same\"))\n",
    "    net.add(layers.LeakyReLU())\n",
    "    net.add(layers.Dropout(0.3))\n",
    "    \n",
    "    # flatten\n",
    "    net.add(layers.Flatten())\n",
    "    net.add(layers.Dense(1, activation=\"sigmoid\"))\n",
    "    \n",
    "    net.summary()\n",
    "    return net"
   ]
  },
  {
   "cell_type": "code",
   "execution_count": 24,
   "metadata": {},
   "outputs": [
    {
     "name": "stdout",
     "output_type": "stream",
     "text": [
      "Model: \"sequential_3\"\n",
      "_________________________________________________________________\n",
      " Layer (type)                Output Shape              Param #   \n",
      "=================================================================\n",
      " conv2d_2 (Conv2D)           (None, 14, 14, 64)        1664      \n",
      "                                                                 \n",
      " leaky_re_lu_5 (LeakyReLU)   (None, 14, 14, 64)        0         \n",
      "                                                                 \n",
      " dropout_2 (Dropout)         (None, 14, 14, 64)        0         \n",
      "                                                                 \n",
      " conv2d_3 (Conv2D)           (None, 7, 7, 128)         204928    \n",
      "                                                                 \n",
      " leaky_re_lu_6 (LeakyReLU)   (None, 7, 7, 128)         0         \n",
      "                                                                 \n",
      " dropout_3 (Dropout)         (None, 7, 7, 128)         0         \n",
      "                                                                 \n",
      " flatten_1 (Flatten)         (None, 6272)              0         \n",
      "                                                                 \n",
      " dense_2 (Dense)             (None, 1)                 6273      \n",
      "                                                                 \n",
      "=================================================================\n",
      "Total params: 212,865\n",
      "Trainable params: 212,865\n",
      "Non-trainable params: 0\n",
      "_________________________________________________________________\n"
     ]
    }
   ],
   "source": [
    "discriminator = build_discriminator()"
   ]
  },
  {
   "cell_type": "markdown",
   "metadata": {},
   "source": [
    "### Testing the discriminator using the generated image\n",
    "> The result is 49.99% sure that is fake\n",
    ">\n",
    "> but this discriminator still confuse, which is real nor fake. **we must do training**"
   ]
  },
  {
   "cell_type": "code",
   "execution_count": 25,
   "metadata": {},
   "outputs": [
    {
     "data": {
      "text/plain": [
       "<tf.Tensor: shape=(1, 1), dtype=float32, numpy=array([[0.4999584]], dtype=float32)>"
      ]
     },
     "execution_count": 25,
     "metadata": {},
     "output_type": "execute_result"
    }
   ],
   "source": [
    "discriminator(generated_image, training=False)"
   ]
  },
  {
   "cell_type": "code",
   "execution_count": null,
   "metadata": {},
   "outputs": [],
   "source": []
  },
  {
   "cell_type": "code",
   "execution_count": null,
   "metadata": {},
   "outputs": [],
   "source": []
  },
  {
   "cell_type": "code",
   "execution_count": null,
   "metadata": {},
   "outputs": [],
   "source": []
  }
 ],
 "metadata": {
  "accelerator": "GPU",
  "colab": {
   "authorship_tag": "ABX9TyPN4iXLaNo8jIIGNoYwLCyH",
   "gpuType": "T4",
   "include_colab_link": true,
   "provenance": []
  },
  "kernelspec": {
   "display_name": "Python 3 (ipykernel)",
   "language": "python",
   "name": "python3"
  },
  "language_info": {
   "codemirror_mode": {
    "name": "ipython",
    "version": 3
   },
   "file_extension": ".py",
   "mimetype": "text/x-python",
   "name": "python",
   "nbconvert_exporter": "python",
   "pygments_lexer": "ipython3",
   "version": "3.9.13"
  }
 },
 "nbformat": 4,
 "nbformat_minor": 1
}
