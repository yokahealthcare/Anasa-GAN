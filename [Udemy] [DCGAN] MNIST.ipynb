{
 "cells": [
  {
   "cell_type": "markdown",
   "metadata": {
    "colab_type": "text",
    "id": "view-in-github"
   },
   "source": [
    "<a href=\"https://colab.research.google.com/github/yokahealthcare/Anasa-GAN/blob/master/%5BUdemy%5D%20%5BDCGAN%5D%20MNIST.ipynb\" target=\"_parent\"><img src=\"https://colab.research.google.com/assets/colab-badge.svg\" alt=\"Open In Colab\"/></a>"
   ]
  },
  {
   "cell_type": "markdown",
   "metadata": {
    "id": "qyGYPhHdfDbG"
   },
   "source": [
    "# DCGAN - MNIST\n",
    "## Deep Convolutional Generative Adversial Network"
   ]
  },
  {
   "cell_type": "markdown",
   "metadata": {
    "id": "kXcnh1rkfLYj"
   },
   "source": [
    "## PART 1 : Data Preparation"
   ]
  },
  {
   "cell_type": "markdown",
   "metadata": {
    "id": "4IIV0FB8fPYR"
   },
   "source": [
    "### Importing libraries"
   ]
  },
  {
   "cell_type": "code",
   "execution_count": 1,
   "metadata": {
    "colab": {
     "base_uri": "https://localhost:8080/",
     "height": 35
    },
    "id": "M9MuP7ppffIx",
    "outputId": "f85fd159-d60f-490a-8a9b-6a647c51da2f"
   },
   "outputs": [
    {
     "data": {
      "text/plain": [
       "'2.11.0'"
      ]
     },
     "execution_count": 1,
     "metadata": {},
     "output_type": "execute_result"
    }
   ],
   "source": [
    "import matplotlib.pyplot as plt\n",
    "import numpy as np\n",
    "import tensorflow as tf\n",
    "from tensorflow.keras import layers\n",
    "tf.__version__"
   ]
  },
  {
   "cell_type": "markdown",
   "metadata": {
    "id": "Sh9pLZHafcnr"
   },
   "source": [
    "### Loading dataset MNIST"
   ]
  },
  {
   "cell_type": "code",
   "execution_count": 8,
   "metadata": {},
   "outputs": [],
   "source": [
    "path = \"dataset\\mnist.npz\"\n",
    "with np.load(path) as data:\n",
    "  X_train = data['x_train']\n",
    "  Y_train = data['y_train']\n",
    "  X_test = data['x_test']\n",
    "  Y_test = data['y_test']"
   ]
  },
  {
   "cell_type": "code",
   "execution_count": 9,
   "metadata": {
    "colab": {
     "base_uri": "https://localhost:8080/"
    },
    "id": "jmkd81FVby7Z",
    "outputId": "0381a12d-7333-474f-e468-e747d9b92857"
   },
   "outputs": [
    {
     "data": {
      "text/plain": [
       "(60000, 28, 28)"
      ]
     },
     "execution_count": 9,
     "metadata": {},
     "output_type": "execute_result"
    }
   ],
   "source": [
    "X_train.shape"
   ]
  },
  {
   "cell_type": "code",
   "execution_count": 10,
   "metadata": {
    "colab": {
     "base_uri": "https://localhost:8080/"
    },
    "id": "r1GA7MDmha4f",
    "outputId": "24977ee9-a26b-42da-e589-ffb63918df1f"
   },
   "outputs": [
    {
     "data": {
      "text/plain": [
       "array([[[0, 0, 0, ..., 0, 0, 0],\n",
       "        [0, 0, 0, ..., 0, 0, 0],\n",
       "        [0, 0, 0, ..., 0, 0, 0],\n",
       "        ...,\n",
       "        [0, 0, 0, ..., 0, 0, 0],\n",
       "        [0, 0, 0, ..., 0, 0, 0],\n",
       "        [0, 0, 0, ..., 0, 0, 0]],\n",
       "\n",
       "       [[0, 0, 0, ..., 0, 0, 0],\n",
       "        [0, 0, 0, ..., 0, 0, 0],\n",
       "        [0, 0, 0, ..., 0, 0, 0],\n",
       "        ...,\n",
       "        [0, 0, 0, ..., 0, 0, 0],\n",
       "        [0, 0, 0, ..., 0, 0, 0],\n",
       "        [0, 0, 0, ..., 0, 0, 0]],\n",
       "\n",
       "       [[0, 0, 0, ..., 0, 0, 0],\n",
       "        [0, 0, 0, ..., 0, 0, 0],\n",
       "        [0, 0, 0, ..., 0, 0, 0],\n",
       "        ...,\n",
       "        [0, 0, 0, ..., 0, 0, 0],\n",
       "        [0, 0, 0, ..., 0, 0, 0],\n",
       "        [0, 0, 0, ..., 0, 0, 0]],\n",
       "\n",
       "       ...,\n",
       "\n",
       "       [[0, 0, 0, ..., 0, 0, 0],\n",
       "        [0, 0, 0, ..., 0, 0, 0],\n",
       "        [0, 0, 0, ..., 0, 0, 0],\n",
       "        ...,\n",
       "        [0, 0, 0, ..., 0, 0, 0],\n",
       "        [0, 0, 0, ..., 0, 0, 0],\n",
       "        [0, 0, 0, ..., 0, 0, 0]],\n",
       "\n",
       "       [[0, 0, 0, ..., 0, 0, 0],\n",
       "        [0, 0, 0, ..., 0, 0, 0],\n",
       "        [0, 0, 0, ..., 0, 0, 0],\n",
       "        ...,\n",
       "        [0, 0, 0, ..., 0, 0, 0],\n",
       "        [0, 0, 0, ..., 0, 0, 0],\n",
       "        [0, 0, 0, ..., 0, 0, 0]],\n",
       "\n",
       "       [[0, 0, 0, ..., 0, 0, 0],\n",
       "        [0, 0, 0, ..., 0, 0, 0],\n",
       "        [0, 0, 0, ..., 0, 0, 0],\n",
       "        ...,\n",
       "        [0, 0, 0, ..., 0, 0, 0],\n",
       "        [0, 0, 0, ..., 0, 0, 0],\n",
       "        [0, 0, 0, ..., 0, 0, 0]]], dtype=uint8)"
      ]
     },
     "execution_count": 10,
     "metadata": {},
     "output_type": "execute_result"
    }
   ],
   "source": [
    "X_train"
   ]
  },
  {
   "cell_type": "code",
   "execution_count": 11,
   "metadata": {
    "colab": {
     "base_uri": "https://localhost:8080/"
    },
    "id": "aN-0IFTbbzEs",
    "outputId": "f0e8ab1e-37dd-4c52-82dd-2031d932eac7"
   },
   "outputs": [
    {
     "data": {
      "text/plain": [
       "784"
      ]
     },
     "execution_count": 11,
     "metadata": {},
     "output_type": "execute_result"
    }
   ],
   "source": [
    "28 * 28"
   ]
  },
  {
   "cell_type": "markdown",
   "metadata": {
    "id": "s4Avz8v0g_UT"
   },
   "source": [
    "### Reshaping the training data (X)\n",
    "> This must because CNN accept 4-Dimensional Numpy array as input\n",
    ">\n",
    "> **STRUCTURE** : (batch_size, height, width, channels)\n",
    ">\n",
    "> *Channels can RGB or GRAYSCALE*"
   ]
  },
  {
   "cell_type": "code",
   "execution_count": 12,
   "metadata": {
    "id": "Dim5cxTIbzim"
   },
   "outputs": [],
   "source": [
    "X_train = np.reshape(X_train, (60000, 28, 28, 1)).astype(\"float\")"
   ]
  },
  {
   "cell_type": "markdown",
   "metadata": {
    "id": "CHmG-5wvkSqx"
   },
   "source": [
    "### Scaling the data into range -1 to 1"
   ]
  },
  {
   "cell_type": "code",
   "execution_count": 13,
   "metadata": {
    "colab": {
     "base_uri": "https://localhost:8080/"
    },
    "id": "4nb3VXKmfh6F",
    "outputId": "e91c1830-411b-48f2-8051-20f3865ce477"
   },
   "outputs": [
    {
     "name": "stdout",
     "output_type": "stream",
     "text": [
      "max : 255.0 \t min : 0.0\n"
     ]
    }
   ],
   "source": [
    "print(\"max : {} \\t min : {}\".format(X_train[0].max(), X_train[0].min()))"
   ]
  },
  {
   "cell_type": "code",
   "execution_count": 14,
   "metadata": {
    "id": "D3OpuvJfixkV"
   },
   "outputs": [],
   "source": [
    "min_value = X_train[0].min()\n",
    "max_value = X_train[0].max()\n",
    "# using MinMaxScaler formula and modified it (range : -1 to 1)\n",
    "X_train = 2 * ((X_train - min_value) / (max_value - min_value)) - 1"
   ]
  },
  {
   "cell_type": "code",
   "execution_count": 15,
   "metadata": {
    "colab": {
     "base_uri": "https://localhost:8080/"
    },
    "id": "QAuoagUTjeIK",
    "outputId": "d048b4da-424a-41db-c72c-10102b484fb1"
   },
   "outputs": [
    {
     "name": "stdout",
     "output_type": "stream",
     "text": [
      "max : 1.0 \t min : -1.0\n"
     ]
    }
   ],
   "source": [
    "print(\"max : {} \\t min : {}\".format(X_train[0].max(), X_train[0].min()))"
   ]
  },
  {
   "cell_type": "markdown",
   "metadata": {
    "id": "dC6yG3JSmduT"
   },
   "source": [
    "### Change X_train to batch type variable"
   ]
  },
  {
   "cell_type": "code",
   "execution_count": 16,
   "metadata": {
    "id": "aM2vCcHxjjbQ"
   },
   "outputs": [],
   "source": [
    "buffer_size = X_train.shape[0]   # length of data 60.000 row\n",
    "batch_size = 256\n",
    "X_train = tf.data.Dataset.from_tensor_slices(X_train).shuffle(buffer_size).batch(batch_size)"
   ]
  },
  {
   "cell_type": "code",
   "execution_count": 17,
   "metadata": {
    "colab": {
     "base_uri": "https://localhost:8080/"
    },
    "id": "g_MfTdKBnA-k",
    "outputId": "a3a47dd1-c569-479b-9920-d4364f8de11f"
   },
   "outputs": [
    {
     "data": {
      "text/plain": [
       "tensorflow.python.data.ops.dataset_ops.BatchDataset"
      ]
     },
     "execution_count": 17,
     "metadata": {},
     "output_type": "execute_result"
    }
   ],
   "source": [
    "type(X_train)"
   ]
  },
  {
   "cell_type": "markdown",
   "metadata": {
    "id": "PqSj5g3zL5sB"
   },
   "source": [
    "### Creating build_generator() functions"
   ]
  },
  {
   "cell_type": "code",
   "execution_count": 18,
   "metadata": {
    "id": "D52lKuiAnDlX"
   },
   "outputs": [],
   "source": [
    "def build_generator():\n",
    "  net = tf.keras.Sequential()\n",
    "  net.add(layers.Dense(units = 7*7*256, use_bias = False, input_shape=(100,)))\n",
    "  net.add(layers.BatchNormalization())\n",
    "  net.add(layers.LeakyReLU())\n",
    "\n",
    "  net.add(layers.Reshape((7, 7, 256)))\n",
    "\n",
    "  # 7 x 7 x 128\n",
    "  net.add(layers.Conv2DTranspose(filters = 128, kernel_size = (5,5), padding = \"same\", use_bias = False))\n",
    "  net.add(layers.BatchNormalization())\n",
    "  net.add(layers.LeakyReLU())\n",
    "\n",
    "  # 14 x 14 x 64\n",
    "  net.add(layers.Conv2DTranspose(filters = 64, kernel_size = (5,5), strides = (2,2), padding = \"same\", use_bias = False))\n",
    "  net.add(layers.BatchNormalization())\n",
    "  net.add(layers.LeakyReLU())\n",
    "\n",
    "   # 28 x 28 x 1\n",
    "  net.add(layers.Conv2DTranspose(filters = 1, kernel_size = (5,5), strides = (2,2), padding = \"same\", use_bias = False, activation = \"tanh\"))\n",
    "\n",
    "  net.summary()\n",
    "  return net"
   ]
  },
  {
   "cell_type": "code",
   "execution_count": 19,
   "metadata": {
    "colab": {
     "base_uri": "https://localhost:8080/"
    },
    "id": "DOOhmwXxnJm6",
    "outputId": "e611d3b2-32c9-475f-aca3-f85f4ffcae91"
   },
   "outputs": [
    {
     "name": "stdout",
     "output_type": "stream",
     "text": [
      "Model: \"sequential\"\n",
      "_________________________________________________________________\n",
      " Layer (type)                Output Shape              Param #   \n",
      "=================================================================\n",
      " dense (Dense)               (None, 12544)             1254400   \n",
      "                                                                 \n",
      " batch_normalization (BatchN  (None, 12544)            50176     \n",
      " ormalization)                                                   \n",
      "                                                                 \n",
      " leaky_re_lu (LeakyReLU)     (None, 12544)             0         \n",
      "                                                                 \n",
      " reshape (Reshape)           (None, 7, 7, 256)         0         \n",
      "                                                                 \n",
      " conv2d_transpose (Conv2DTra  (None, 7, 7, 128)        819200    \n",
      " nspose)                                                         \n",
      "                                                                 \n",
      " batch_normalization_1 (Batc  (None, 7, 7, 128)        512       \n",
      " hNormalization)                                                 \n",
      "                                                                 \n",
      " leaky_re_lu_1 (LeakyReLU)   (None, 7, 7, 128)         0         \n",
      "                                                                 \n",
      " conv2d_transpose_1 (Conv2DT  (None, 14, 14, 64)       204800    \n",
      " ranspose)                                                       \n",
      "                                                                 \n",
      " batch_normalization_2 (Batc  (None, 14, 14, 64)       256       \n",
      " hNormalization)                                                 \n",
      "                                                                 \n",
      " leaky_re_lu_2 (LeakyReLU)   (None, 14, 14, 64)        0         \n",
      "                                                                 \n",
      " conv2d_transpose_2 (Conv2DT  (None, 28, 28, 1)        1600      \n",
      " ranspose)                                                       \n",
      "                                                                 \n",
      "=================================================================\n",
      "Total params: 2,330,944\n",
      "Trainable params: 2,305,472\n",
      "Non-trainable params: 25,472\n",
      "_________________________________________________________________\n"
     ]
    }
   ],
   "source": [
    "generator = build_generator()"
   ]
  },
  {
   "cell_type": "code",
   "execution_count": 20,
   "metadata": {
    "colab": {
     "base_uri": "https://localhost:8080/"
    },
    "id": "L-dF2r2KnRot",
    "outputId": "53e218c6-65c2-47a7-8a6a-00846f0285d1"
   },
   "outputs": [
    {
     "data": {
      "text/plain": [
       "<tf.Tensor: shape=(1, 100), dtype=float32, numpy=\n",
       "array([[-1.1551683 ,  0.94351023,  0.23539849,  0.7496959 , -0.22569647,\n",
       "         1.9522024 ,  0.4371608 , -0.5623063 ,  0.00940024, -0.18455957,\n",
       "        -0.31602752, -0.5984106 , -0.067983  , -0.91577125, -0.41173387,\n",
       "        -0.62312686, -0.988458  ,  0.53712416, -0.07424751,  0.8438718 ,\n",
       "         1.2245054 ,  0.30763614, -1.34423   , -1.3430405 ,  2.146876  ,\n",
       "         0.56098205, -0.01138401,  0.54234314,  1.216191  ,  0.5284426 ,\n",
       "         0.7377062 , -0.7120964 , -1.2125777 ,  0.6225832 ,  0.9178841 ,\n",
       "         2.2955012 ,  0.03528455, -0.6297673 , -0.04885906, -0.24800299,\n",
       "         0.9686493 , -0.04109482, -1.2459509 ,  0.37166792, -0.9789435 ,\n",
       "         2.3008854 ,  1.1304427 , -1.0766438 ,  2.145348  ,  1.0154055 ,\n",
       "        -0.15769857,  0.6221579 , -1.1844363 ,  0.5610869 ,  0.9452597 ,\n",
       "        -0.53269774,  0.61262846,  0.9291125 ,  0.7448429 , -0.08231516,\n",
       "        -0.3511573 ,  0.05782053, -0.12156405, -1.3342437 , -0.01797786,\n",
       "         1.0949239 ,  1.228379  , -3.0986683 ,  0.46733367,  0.02147354,\n",
       "        -1.2167565 , -0.26931405, -0.71228135, -1.1103213 , -0.34251642,\n",
       "         1.095359  ,  0.24264553,  2.0064585 ,  0.50637835, -1.1956004 ,\n",
       "         0.22698733,  0.20543902, -0.43391854, -0.6232094 ,  0.8612246 ,\n",
       "        -0.18830596, -0.8141781 , -1.7338978 , -1.354173  , -1.4509797 ,\n",
       "        -0.0270553 , -2.767849  ,  0.5017479 , -0.3904396 , -0.54611266,\n",
       "        -1.2671715 , -1.4710317 , -0.5435987 ,  0.4915752 ,  2.7971091 ]],\n",
       "      dtype=float32)>"
      ]
     },
     "execution_count": 20,
     "metadata": {},
     "output_type": "execute_result"
    }
   ],
   "source": [
    "noise = tf.random.normal([1, 100])\n",
    "noise"
   ]
  },
  {
   "cell_type": "code",
   "execution_count": 21,
   "metadata": {
    "id": "vb_L3RM1nSlD"
   },
   "outputs": [],
   "source": [
    "generated_image = generator(noise, training = False)"
   ]
  },
  {
   "cell_type": "code",
   "execution_count": 22,
   "metadata": {
    "colab": {
     "base_uri": "https://localhost:8080/",
     "height": 447
    },
    "id": "q-5y7CA1nSo6",
    "outputId": "279b2b09-62e4-4e6a-8b28-1acfb14cbbd2"
   },
   "outputs": [
    {
     "data": {
      "text/plain": [
       "<matplotlib.image.AxesImage at 0x23a0016d160>"
      ]
     },
     "execution_count": 22,
     "metadata": {},
     "output_type": "execute_result"
    },
    {
     "data": {
      "image/png": "[encoded data removed]",
      "text/plain": [
       "<Figure size 640x480 with 1 Axes>"
      ]
     },
     "metadata": {},
     "output_type": "display_data"
    }
   ],
   "source": [
    "plt.imshow(generated_image[0], cmap=\"gray\")"
   ]
  },
  {
   "cell_type": "code",
   "execution_count": null,
   "metadata": {
    "id": "e01KkldmQjl6"
   },
   "outputs": [],
   "source": []
  }
 ],
 "metadata": {
  "accelerator": "GPU",
  "colab": {
   "authorship_tag": "ABX9TyPN4iXLaNo8jIIGNoYwLCyH",
   "gpuType": "T4",
   "include_colab_link": true,
   "provenance": []
  },
  "kernelspec": {
   "display_name": "Python 3 (ipykernel)",
   "language": "python",
   "name": "python3"
  },
  "language_info": {
   "codemirror_mode": {
    "name": "ipython",
    "version": 3
   },
   "file_extension": ".py",
   "mimetype": "text/x-python",
   "name": "python",
   "nbconvert_exporter": "python",
   "pygments_lexer": "ipython3",
   "version": "3.9.13"
  }
 },
 "nbformat": 4,
 "nbformat_minor": 1
}
