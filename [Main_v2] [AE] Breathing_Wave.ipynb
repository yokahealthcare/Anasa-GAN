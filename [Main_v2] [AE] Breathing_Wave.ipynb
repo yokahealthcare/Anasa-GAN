{
  "nbformat": 4,
  "nbformat_minor": 0,
  "metadata": {
    "colab": {
      "provenance": [],
      "authorship_tag": "ABX9TyPurlIVRnaXdyQlSmsHT1Tr",
      "include_colab_link": true
    },
    "kernelspec": {
      "name": "python3",
      "display_name": "Python 3"
    },
    "language_info": {
      "name": "python"
    }
  },
  "cells": [
    {
      "cell_type": "markdown",
      "metadata": {
        "id": "view-in-github",
        "colab_type": "text"
      },
      "source": [
        "<a href=\"https://colab.research.google.com/github/yokahealthcare/Anasa-GAN/blob/master/%5BMain_v2%5D%20%5BAE%5D%20Breathing_Wave.ipynb\" target=\"_parent\"><img src=\"https://colab.research.google.com/assets/colab-badge.svg\" alt=\"Open In Colab\"/></a>"
      ]
    },
    {
      "cell_type": "markdown",
      "source": [
        "# AE - AutoEncoder"
      ],
      "metadata": {
        "id": "mglGdAa9EXAw"
      }
    },
    {
      "cell_type": "markdown",
      "source": [
        "## PART 1 : Data Preprocessing"
      ],
      "metadata": {
        "id": "w4fC_XBf2xQ-"
      }
    },
    {
      "cell_type": "markdown",
      "source": [
        "### Importing Libraries"
      ],
      "metadata": {
        "id": "edJESBph21is"
      }
    },
    {
      "cell_type": "code",
      "execution_count": null,
      "metadata": {
        "id": "Lwywzl6DDrXp"
      },
      "outputs": [],
      "source": [
        "import matplotlib.pyplot as plt\n",
        "import numpy as np\n",
        "import pandas as pd\n",
        "import tensorflow as tf\n",
        "\n",
        "from sklearn.metrics import accuracy_score, precision_score, recall_score\n",
        "from sklearn.model_selection import train_test_split"
      ]
    },
    {
      "cell_type": "markdown",
      "source": [
        "### Download the dataset"
      ],
      "metadata": {
        "id": "OMT_LXPvEXVd"
      }
    },
    {
      "cell_type": "code",
      "source": [
        "df = pd.read_csv(\"https://raw.githubusercontent.com/yokahealthcare/Anasa-GAN/master/dataset/breathing_waveform_data.csv\").iloc[:, :-1] # get rid of last column (\"notes\")"
      ],
      "metadata": {
        "id": "akXNy_TDEUth"
      },
      "execution_count": null,
      "outputs": []
    },
    {
      "cell_type": "markdown",
      "source": [
        "### Filter the zeros values\n",
        "> This will filtered the zeros value from all column (except first column)\n",
        ">\n",
        "> CAUSE : I think is natural for the first column to be 0.0 (because the time(X) still on 0 second)"
      ],
      "metadata": {
        "id": "lJHNMI1EEeNh"
      }
    },
    {
      "cell_type": "code",
      "source": [
        "zeros_val = df[df.iloc[:, 1:].eq(0).any(axis=1)]"
      ],
      "metadata": {
        "id": "G3GgDl0dEYOt"
      },
      "execution_count": null,
      "outputs": []
    },
    {
      "cell_type": "code",
      "source": [
        "zeros_val"
      ],
      "metadata": {
        "colab": {
          "base_uri": "https://localhost:8080/",
          "height": 423
        },
        "id": "eIsb07EEEYMi",
        "outputId": "3e98a8a3-01ef-4be1-d518-9bef34a6294c"
      },
      "execution_count": null,
      "outputs": [
        {
          "output_type": "execute_result",
          "data": {
            "text/plain": [
              "        0    1    2    3    4    5    6    7    8    9  ...   76   77   78  \\\n",
              "5473  0.0  0.0  0.0  0.0  0.0  0.0  0.0  0.0  0.0  0.0  ...  0.0  0.0  0.0   \n",
              "5474  0.0  0.0  0.0  0.0  0.0  0.0  0.0  0.0  0.0  0.0  ...  0.0  0.0  0.0   \n",
              "5475  0.0  0.0  0.0  0.0  0.0  0.0  0.0  0.0  0.0  0.0  ...  0.0  0.0  0.0   \n",
              "5476  0.0  0.0  0.0  0.0  0.0  0.0  0.0  0.0  0.0  0.0  ...  0.0  0.0  0.0   \n",
              "5477  0.0  0.0  0.0  0.0  0.0  0.0  0.0  0.0  0.0  0.0  ...  0.0  0.0  0.0   \n",
              "...   ...  ...  ...  ...  ...  ...  ...  ...  ...  ...  ...  ...  ...  ...   \n",
              "6142  0.0  0.0  0.0  0.0  0.0  0.0  0.0  0.0  0.0  0.0  ...  0.0  0.0  0.0   \n",
              "6143  0.0  0.0  0.0  0.0  0.0  0.0  0.0  0.0  0.0  0.0  ...  0.0  0.0  0.0   \n",
              "6144  0.0  0.0  0.0  0.0  0.0  0.0  0.0  0.0  0.0  0.0  ...  0.0  0.0  0.0   \n",
              "6145  0.0  0.0  0.0  0.0  0.0  0.0  0.0  0.0  0.0  0.0  ...  0.0  0.0  0.0   \n",
              "6146  0.0  0.0  0.0  0.0  0.0  0.0  0.0  0.0  0.0  0.0  ...  0.0  0.0  0.0   \n",
              "\n",
              "       79   80   81   82   83   84  labels  \n",
              "5473  0.0  0.0  0.0  0.0  0.0  0.0  normal  \n",
              "5474  0.0  0.0  0.0  0.0  0.0  0.0  normal  \n",
              "5475  0.0  0.0  0.0  0.0  0.0  0.0  normal  \n",
              "5476  0.0  0.0  0.0  0.0  0.0  0.0  normal  \n",
              "5477  0.0  0.0  0.0  0.0  0.0  0.0  normal  \n",
              "...   ...  ...  ...  ...  ...  ...     ...  \n",
              "6142  0.0  0.0  0.0  0.0  0.0  0.0  normal  \n",
              "6143  0.0  0.0  0.0  0.0  0.0  0.0  normal  \n",
              "6144  0.0  0.0  0.0  0.0  0.0  0.0  normal  \n",
              "6145  0.0  0.0  0.0  0.0  0.0  0.0  normal  \n",
              "6146  0.0  0.0  0.0  0.0  0.0  0.0  normal  \n",
              "\n",
              "[674 rows x 86 columns]"
            ],
            "text/html": [
              "\n",
              "  <div id=\"df-b79e0354-d36e-4a3b-a93d-a8505b521140\">\n",
              "    <div class=\"colab-df-container\">\n",
              "      <div>\n",
              "<style scoped>\n",
              "    .dataframe tbody tr th:only-of-type {\n",
              "        vertical-align: middle;\n",
              "    }\n",
              "\n",
              "    .dataframe tbody tr th {\n",
              "        vertical-align: top;\n",
              "    }\n",
              "\n",
              "    .dataframe thead th {\n",
              "        text-align: right;\n",
              "    }\n",
              "</style>\n",
              "<table border=\"1\" class=\"dataframe\">\n",
              "  <thead>\n",
              "    <tr style=\"text-align: right;\">\n",
              "      <th></th>\n",
              "      <th>0</th>\n",
              "      <th>1</th>\n",
              "      <th>2</th>\n",
              "      <th>3</th>\n",
              "      <th>4</th>\n",
              "      <th>5</th>\n",
              "      <th>6</th>\n",
              "      <th>7</th>\n",
              "      <th>8</th>\n",
              "      <th>9</th>\n",
              "      <th>...</th>\n",
              "      <th>76</th>\n",
              "      <th>77</th>\n",
              "      <th>78</th>\n",
              "      <th>79</th>\n",
              "      <th>80</th>\n",
              "      <th>81</th>\n",
              "      <th>82</th>\n",
              "      <th>83</th>\n",
              "      <th>84</th>\n",
              "      <th>labels</th>\n",
              "    </tr>\n",
              "  </thead>\n",
              "  <tbody>\n",
              "    <tr>\n",
              "      <th>5473</th>\n",
              "      <td>0.0</td>\n",
              "      <td>0.0</td>\n",
              "      <td>0.0</td>\n",
              "      <td>0.0</td>\n",
              "      <td>0.0</td>\n",
              "      <td>0.0</td>\n",
              "      <td>0.0</td>\n",
              "      <td>0.0</td>\n",
              "      <td>0.0</td>\n",
              "      <td>0.0</td>\n",
              "      <td>...</td>\n",
              "      <td>0.0</td>\n",
              "      <td>0.0</td>\n",
              "      <td>0.0</td>\n",
              "      <td>0.0</td>\n",
              "      <td>0.0</td>\n",
              "      <td>0.0</td>\n",
              "      <td>0.0</td>\n",
              "      <td>0.0</td>\n",
              "      <td>0.0</td>\n",
              "      <td>normal</td>\n",
              "    </tr>\n",
              "    <tr>\n",
              "      <th>5474</th>\n",
              "      <td>0.0</td>\n",
              "      <td>0.0</td>\n",
              "      <td>0.0</td>\n",
              "      <td>0.0</td>\n",
              "      <td>0.0</td>\n",
              "      <td>0.0</td>\n",
              "      <td>0.0</td>\n",
              "      <td>0.0</td>\n",
              "      <td>0.0</td>\n",
              "      <td>0.0</td>\n",
              "      <td>...</td>\n",
              "      <td>0.0</td>\n",
              "      <td>0.0</td>\n",
              "      <td>0.0</td>\n",
              "      <td>0.0</td>\n",
              "      <td>0.0</td>\n",
              "      <td>0.0</td>\n",
              "      <td>0.0</td>\n",
              "      <td>0.0</td>\n",
              "      <td>0.0</td>\n",
              "      <td>normal</td>\n",
              "    </tr>\n",
              "    <tr>\n",
              "      <th>5475</th>\n",
              "      <td>0.0</td>\n",
              "      <td>0.0</td>\n",
              "      <td>0.0</td>\n",
              "      <td>0.0</td>\n",
              "      <td>0.0</td>\n",
              "      <td>0.0</td>\n",
              "      <td>0.0</td>\n",
              "      <td>0.0</td>\n",
              "      <td>0.0</td>\n",
              "      <td>0.0</td>\n",
              "      <td>...</td>\n",
              "      <td>0.0</td>\n",
              "      <td>0.0</td>\n",
              "      <td>0.0</td>\n",
              "      <td>0.0</td>\n",
              "      <td>0.0</td>\n",
              "      <td>0.0</td>\n",
              "      <td>0.0</td>\n",
              "      <td>0.0</td>\n",
              "      <td>0.0</td>\n",
              "      <td>normal</td>\n",
              "    </tr>\n",
              "    <tr>\n",
              "      <th>5476</th>\n",
              "      <td>0.0</td>\n",
              "      <td>0.0</td>\n",
              "      <td>0.0</td>\n",
              "      <td>0.0</td>\n",
              "      <td>0.0</td>\n",
              "      <td>0.0</td>\n",
              "      <td>0.0</td>\n",
              "      <td>0.0</td>\n",
              "      <td>0.0</td>\n",
              "      <td>0.0</td>\n",
              "      <td>...</td>\n",
              "      <td>0.0</td>\n",
              "      <td>0.0</td>\n",
              "      <td>0.0</td>\n",
              "      <td>0.0</td>\n",
              "      <td>0.0</td>\n",
              "      <td>0.0</td>\n",
              "      <td>0.0</td>\n",
              "      <td>0.0</td>\n",
              "      <td>0.0</td>\n",
              "      <td>normal</td>\n",
              "    </tr>\n",
              "    <tr>\n",
              "      <th>5477</th>\n",
              "      <td>0.0</td>\n",
              "      <td>0.0</td>\n",
              "      <td>0.0</td>\n",
              "      <td>0.0</td>\n",
              "      <td>0.0</td>\n",
              "      <td>0.0</td>\n",
              "      <td>0.0</td>\n",
              "      <td>0.0</td>\n",
              "      <td>0.0</td>\n",
              "      <td>0.0</td>\n",
              "      <td>...</td>\n",
              "      <td>0.0</td>\n",
              "      <td>0.0</td>\n",
              "      <td>0.0</td>\n",
              "      <td>0.0</td>\n",
              "      <td>0.0</td>\n",
              "      <td>0.0</td>\n",
              "      <td>0.0</td>\n",
              "      <td>0.0</td>\n",
              "      <td>0.0</td>\n",
              "      <td>normal</td>\n",
              "    </tr>\n",
              "    <tr>\n",
              "      <th>...</th>\n",
              "      <td>...</td>\n",
              "      <td>...</td>\n",
              "      <td>...</td>\n",
              "      <td>...</td>\n",
              "      <td>...</td>\n",
              "      <td>...</td>\n",
              "      <td>...</td>\n",
              "      <td>...</td>\n",
              "      <td>...</td>\n",
              "      <td>...</td>\n",
              "      <td>...</td>\n",
              "      <td>...</td>\n",
              "      <td>...</td>\n",
              "      <td>...</td>\n",
              "      <td>...</td>\n",
              "      <td>...</td>\n",
              "      <td>...</td>\n",
              "      <td>...</td>\n",
              "      <td>...</td>\n",
              "      <td>...</td>\n",
              "      <td>...</td>\n",
              "    </tr>\n",
              "    <tr>\n",
              "      <th>6142</th>\n",
              "      <td>0.0</td>\n",
              "      <td>0.0</td>\n",
              "      <td>0.0</td>\n",
              "      <td>0.0</td>\n",
              "      <td>0.0</td>\n",
              "      <td>0.0</td>\n",
              "      <td>0.0</td>\n",
              "      <td>0.0</td>\n",
              "      <td>0.0</td>\n",
              "      <td>0.0</td>\n",
              "      <td>...</td>\n",
              "      <td>0.0</td>\n",
              "      <td>0.0</td>\n",
              "      <td>0.0</td>\n",
              "      <td>0.0</td>\n",
              "      <td>0.0</td>\n",
              "      <td>0.0</td>\n",
              "      <td>0.0</td>\n",
              "      <td>0.0</td>\n",
              "      <td>0.0</td>\n",
              "      <td>normal</td>\n",
              "    </tr>\n",
              "    <tr>\n",
              "      <th>6143</th>\n",
              "      <td>0.0</td>\n",
              "      <td>0.0</td>\n",
              "      <td>0.0</td>\n",
              "      <td>0.0</td>\n",
              "      <td>0.0</td>\n",
              "      <td>0.0</td>\n",
              "      <td>0.0</td>\n",
              "      <td>0.0</td>\n",
              "      <td>0.0</td>\n",
              "      <td>0.0</td>\n",
              "      <td>...</td>\n",
              "      <td>0.0</td>\n",
              "      <td>0.0</td>\n",
              "      <td>0.0</td>\n",
              "      <td>0.0</td>\n",
              "      <td>0.0</td>\n",
              "      <td>0.0</td>\n",
              "      <td>0.0</td>\n",
              "      <td>0.0</td>\n",
              "      <td>0.0</td>\n",
              "      <td>normal</td>\n",
              "    </tr>\n",
              "    <tr>\n",
              "      <th>6144</th>\n",
              "      <td>0.0</td>\n",
              "      <td>0.0</td>\n",
              "      <td>0.0</td>\n",
              "      <td>0.0</td>\n",
              "      <td>0.0</td>\n",
              "      <td>0.0</td>\n",
              "      <td>0.0</td>\n",
              "      <td>0.0</td>\n",
              "      <td>0.0</td>\n",
              "      <td>0.0</td>\n",
              "      <td>...</td>\n",
              "      <td>0.0</td>\n",
              "      <td>0.0</td>\n",
              "      <td>0.0</td>\n",
              "      <td>0.0</td>\n",
              "      <td>0.0</td>\n",
              "      <td>0.0</td>\n",
              "      <td>0.0</td>\n",
              "      <td>0.0</td>\n",
              "      <td>0.0</td>\n",
              "      <td>normal</td>\n",
              "    </tr>\n",
              "    <tr>\n",
              "      <th>6145</th>\n",
              "      <td>0.0</td>\n",
              "      <td>0.0</td>\n",
              "      <td>0.0</td>\n",
              "      <td>0.0</td>\n",
              "      <td>0.0</td>\n",
              "      <td>0.0</td>\n",
              "      <td>0.0</td>\n",
              "      <td>0.0</td>\n",
              "      <td>0.0</td>\n",
              "      <td>0.0</td>\n",
              "      <td>...</td>\n",
              "      <td>0.0</td>\n",
              "      <td>0.0</td>\n",
              "      <td>0.0</td>\n",
              "      <td>0.0</td>\n",
              "      <td>0.0</td>\n",
              "      <td>0.0</td>\n",
              "      <td>0.0</td>\n",
              "      <td>0.0</td>\n",
              "      <td>0.0</td>\n",
              "      <td>normal</td>\n",
              "    </tr>\n",
              "    <tr>\n",
              "      <th>6146</th>\n",
              "      <td>0.0</td>\n",
              "      <td>0.0</td>\n",
              "      <td>0.0</td>\n",
              "      <td>0.0</td>\n",
              "      <td>0.0</td>\n",
              "      <td>0.0</td>\n",
              "      <td>0.0</td>\n",
              "      <td>0.0</td>\n",
              "      <td>0.0</td>\n",
              "      <td>0.0</td>\n",
              "      <td>...</td>\n",
              "      <td>0.0</td>\n",
              "      <td>0.0</td>\n",
              "      <td>0.0</td>\n",
              "      <td>0.0</td>\n",
              "      <td>0.0</td>\n",
              "      <td>0.0</td>\n",
              "      <td>0.0</td>\n",
              "      <td>0.0</td>\n",
              "      <td>0.0</td>\n",
              "      <td>normal</td>\n",
              "    </tr>\n",
              "  </tbody>\n",
              "</table>\n",
              "<p>674 rows × 86 columns</p>\n",
              "</div>\n",
              "      <button class=\"colab-df-convert\" onclick=\"convertToInteractive('df-b79e0354-d36e-4a3b-a93d-a8505b521140')\"\n",
              "              title=\"Convert this dataframe to an interactive table.\"\n",
              "              style=\"display:none;\">\n",
              "        \n",
              "  <svg xmlns=\"http://www.w3.org/2000/svg\" height=\"24px\"viewBox=\"0 0 24 24\"\n",
              "       width=\"24px\">\n",
              "    <path d=\"M0 0h24v24H0V0z\" fill=\"none\"/>\n",
              "    <path d=\"M18.56 5.44l.94 2.06.94-2.06 2.06-.94-2.06-.94-.94-2.06-.94 2.06-2.06.94zm-11 1L8.5 8.5l.94-2.06 2.06-.94-2.06-.94L8.5 2.5l-.94 2.06-2.06.94zm10 10l.94 2.06.94-2.06 2.06-.94-2.06-.94-.94-2.06-.94 2.06-2.06.94z\"/><path d=\"M17.41 7.96l-1.37-1.37c-.4-.4-.92-.59-1.43-.59-.52 0-1.04.2-1.43.59L10.3 9.45l-7.72 7.72c-.78.78-.78 2.05 0 2.83L4 21.41c.39.39.9.59 1.41.59.51 0 1.02-.2 1.41-.59l7.78-7.78 2.81-2.81c.8-.78.8-2.07 0-2.86zM5.41 20L4 18.59l7.72-7.72 1.47 1.35L5.41 20z\"/>\n",
              "  </svg>\n",
              "      </button>\n",
              "      \n",
              "  <style>\n",
              "    .colab-df-container {\n",
              "      display:flex;\n",
              "      flex-wrap:wrap;\n",
              "      gap: 12px;\n",
              "    }\n",
              "\n",
              "    .colab-df-convert {\n",
              "      background-color: #E8F0FE;\n",
              "      border: none;\n",
              "      border-radius: 50%;\n",
              "      cursor: pointer;\n",
              "      display: none;\n",
              "      fill: #1967D2;\n",
              "      height: 32px;\n",
              "      padding: 0 0 0 0;\n",
              "      width: 32px;\n",
              "    }\n",
              "\n",
              "    .colab-df-convert:hover {\n",
              "      background-color: #E2EBFA;\n",
              "      box-shadow: 0px 1px 2px rgba(60, 64, 67, 0.3), 0px 1px 3px 1px rgba(60, 64, 67, 0.15);\n",
              "      fill: #174EA6;\n",
              "    }\n",
              "\n",
              "    [theme=dark] .colab-df-convert {\n",
              "      background-color: #3B4455;\n",
              "      fill: #D2E3FC;\n",
              "    }\n",
              "\n",
              "    [theme=dark] .colab-df-convert:hover {\n",
              "      background-color: #434B5C;\n",
              "      box-shadow: 0px 1px 3px 1px rgba(0, 0, 0, 0.15);\n",
              "      filter: drop-shadow(0px 1px 2px rgba(0, 0, 0, 0.3));\n",
              "      fill: #FFFFFF;\n",
              "    }\n",
              "  </style>\n",
              "\n",
              "      <script>\n",
              "        const buttonEl =\n",
              "          document.querySelector('#df-b79e0354-d36e-4a3b-a93d-a8505b521140 button.colab-df-convert');\n",
              "        buttonEl.style.display =\n",
              "          google.colab.kernel.accessAllowed ? 'block' : 'none';\n",
              "\n",
              "        async function convertToInteractive(key) {\n",
              "          const element = document.querySelector('#df-b79e0354-d36e-4a3b-a93d-a8505b521140');\n",
              "          const dataTable =\n",
              "            await google.colab.kernel.invokeFunction('convertToInteractive',\n",
              "                                                     [key], {});\n",
              "          if (!dataTable) return;\n",
              "\n",
              "          const docLinkHtml = 'Like what you see? Visit the ' +\n",
              "            '<a target=\"_blank\" href=https://colab.research.google.com/notebooks/data_table.ipynb>data table notebook</a>'\n",
              "            + ' to learn more about interactive tables.';\n",
              "          element.innerHTML = '';\n",
              "          dataTable['output_type'] = 'display_data';\n",
              "          await google.colab.output.renderOutput(dataTable, element);\n",
              "          const docLink = document.createElement('div');\n",
              "          docLink.innerHTML = docLinkHtml;\n",
              "          element.appendChild(docLink);\n",
              "        }\n",
              "      </script>\n",
              "    </div>\n",
              "  </div>\n",
              "  "
            ]
          },
          "metadata": {},
          "execution_count": 4
        }
      ]
    },
    {
      "cell_type": "markdown",
      "source": [
        "### Drop the table that has value zeros on it"
      ],
      "metadata": {
        "id": "YeZBn2KeEneR"
      }
    },
    {
      "cell_type": "code",
      "source": [
        "df = df[~df.isin(zeros_val)].dropna()"
      ],
      "metadata": {
        "id": "sxdQlahIEYKT"
      },
      "execution_count": null,
      "outputs": []
    },
    {
      "cell_type": "code",
      "source": [
        "df"
      ],
      "metadata": {
        "colab": {
          "base_uri": "https://localhost:8080/",
          "height": 487
        },
        "id": "_kSRDlSgEYG_",
        "outputId": "4d7f48ab-3971-4eeb-a96e-8bfe0b89d348"
      },
      "execution_count": null,
      "outputs": [
        {
          "output_type": "execute_result",
          "data": {
            "text/plain": [
              "              0         1         2         3         4         5         6  \\\n",
              "0      0.483309  0.459790  0.431024  0.376565  0.295734  0.193290  0.066060   \n",
              "1     -2.044518 -1.935588 -1.808629 -1.667919 -1.513497 -1.348760 -1.171044   \n",
              "2     -1.213535 -1.269056 -1.323306 -1.375251 -1.430062 -1.485479 -1.529200   \n",
              "3     -0.914806 -0.887726 -0.856065 -0.823527 -0.794551 -0.768074 -0.740895   \n",
              "4     -1.547469 -1.458818 -1.362120 -1.264829 -1.164948 -1.060064 -0.954496   \n",
              "...         ...       ...       ...       ...       ...       ...       ...   \n",
              "26395 -0.152463 -0.164723 -0.165409 -0.152623 -0.118115 -0.066218 -0.010253   \n",
              "26396 -0.164723 -0.165409 -0.152623 -0.118115 -0.066218 -0.010253  0.041637   \n",
              "26397 -0.165409 -0.152623 -0.118115 -0.066218 -0.010253  0.041637  0.092217   \n",
              "26398 -0.152623 -0.118115 -0.066218 -0.010253  0.041637  0.092217  0.140510   \n",
              "26399 -0.118115 -0.066218 -0.010253  0.041637  0.092217  0.140510  0.188025   \n",
              "\n",
              "              7         8         9  ...        76        77        78  \\\n",
              "0     -0.083445 -0.247221 -0.409374  ...  0.391514  0.452677  0.521407   \n",
              "1     -0.972509 -0.759554 -0.547793  ...  0.138731 -0.053860 -0.241691   \n",
              "2     -1.557172 -1.574662 -1.575457  ...  0.947940  0.996154  1.035743   \n",
              "3     -0.713364 -0.685445 -0.652020  ... -0.478218 -0.571465 -0.684115   \n",
              "4     -0.849448 -0.742812 -0.636614  ...  0.227050  0.130983  0.041438   \n",
              "...         ...       ...       ...  ...       ...       ...       ...   \n",
              "26395  0.041637  0.092217  0.140510  ... -0.336787 -0.306774 -0.280607   \n",
              "26396  0.092217  0.140510  0.188025  ... -0.306774 -0.280607 -0.269843   \n",
              "26397  0.140510  0.188025  0.240939  ... -0.280607 -0.269843 -0.260062   \n",
              "26398  0.188025  0.240939  0.294399  ... -0.269843 -0.260062 -0.229981   \n",
              "26399  0.240939  0.294399  0.340346  ... -0.260062 -0.229981 -0.167654   \n",
              "\n",
              "             79        80        81        82        83        84  labels  \n",
              "0      0.595845  0.661691  0.702932  0.708613  0.682564  0.637765    deep  \n",
              "1     -0.417603 -0.582320 -0.738485 -0.889731 -1.037066 -1.174654    deep  \n",
              "2      1.049543  1.024204  0.954716  0.844505  0.702445  0.541555    deep  \n",
              "3     -0.817078 -0.966231 -1.122537 -1.264759 -1.376908 -1.461059    deep  \n",
              "4     -0.038034 -0.106152 -0.163048 -0.210926 -0.253102 -0.290270    deep  \n",
              "...         ...       ...       ...       ...       ...       ...     ...  \n",
              "26395 -0.269843 -0.260062 -0.229981 -0.167654 -0.082300  0.004372   quick  \n",
              "26396 -0.260062 -0.229981 -0.167654 -0.082300  0.004372  0.089958   quick  \n",
              "26397 -0.229981 -0.167654 -0.082300  0.004372  0.089958  0.179209   quick  \n",
              "26398 -0.167654 -0.082300  0.004372  0.089958  0.179209  0.264014   quick  \n",
              "26399 -0.082300  0.004372  0.089958  0.179209  0.264014  0.343418   quick  \n",
              "\n",
              "[25726 rows x 86 columns]"
            ],
            "text/html": [
              "\n",
              "  <div id=\"df-2329295a-757e-49e6-bb06-b7287690ad9e\">\n",
              "    <div class=\"colab-df-container\">\n",
              "      <div>\n",
              "<style scoped>\n",
              "    .dataframe tbody tr th:only-of-type {\n",
              "        vertical-align: middle;\n",
              "    }\n",
              "\n",
              "    .dataframe tbody tr th {\n",
              "        vertical-align: top;\n",
              "    }\n",
              "\n",
              "    .dataframe thead th {\n",
              "        text-align: right;\n",
              "    }\n",
              "</style>\n",
              "<table border=\"1\" class=\"dataframe\">\n",
              "  <thead>\n",
              "    <tr style=\"text-align: right;\">\n",
              "      <th></th>\n",
              "      <th>0</th>\n",
              "      <th>1</th>\n",
              "      <th>2</th>\n",
              "      <th>3</th>\n",
              "      <th>4</th>\n",
              "      <th>5</th>\n",
              "      <th>6</th>\n",
              "      <th>7</th>\n",
              "      <th>8</th>\n",
              "      <th>9</th>\n",
              "      <th>...</th>\n",
              "      <th>76</th>\n",
              "      <th>77</th>\n",
              "      <th>78</th>\n",
              "      <th>79</th>\n",
              "      <th>80</th>\n",
              "      <th>81</th>\n",
              "      <th>82</th>\n",
              "      <th>83</th>\n",
              "      <th>84</th>\n",
              "      <th>labels</th>\n",
              "    </tr>\n",
              "  </thead>\n",
              "  <tbody>\n",
              "    <tr>\n",
              "      <th>0</th>\n",
              "      <td>0.483309</td>\n",
              "      <td>0.459790</td>\n",
              "      <td>0.431024</td>\n",
              "      <td>0.376565</td>\n",
              "      <td>0.295734</td>\n",
              "      <td>0.193290</td>\n",
              "      <td>0.066060</td>\n",
              "      <td>-0.083445</td>\n",
              "      <td>-0.247221</td>\n",
              "      <td>-0.409374</td>\n",
              "      <td>...</td>\n",
              "      <td>0.391514</td>\n",
              "      <td>0.452677</td>\n",
              "      <td>0.521407</td>\n",
              "      <td>0.595845</td>\n",
              "      <td>0.661691</td>\n",
              "      <td>0.702932</td>\n",
              "      <td>0.708613</td>\n",
              "      <td>0.682564</td>\n",
              "      <td>0.637765</td>\n",
              "      <td>deep</td>\n",
              "    </tr>\n",
              "    <tr>\n",
              "      <th>1</th>\n",
              "      <td>-2.044518</td>\n",
              "      <td>-1.935588</td>\n",
              "      <td>-1.808629</td>\n",
              "      <td>-1.667919</td>\n",
              "      <td>-1.513497</td>\n",
              "      <td>-1.348760</td>\n",
              "      <td>-1.171044</td>\n",
              "      <td>-0.972509</td>\n",
              "      <td>-0.759554</td>\n",
              "      <td>-0.547793</td>\n",
              "      <td>...</td>\n",
              "      <td>0.138731</td>\n",
              "      <td>-0.053860</td>\n",
              "      <td>-0.241691</td>\n",
              "      <td>-0.417603</td>\n",
              "      <td>-0.582320</td>\n",
              "      <td>-0.738485</td>\n",
              "      <td>-0.889731</td>\n",
              "      <td>-1.037066</td>\n",
              "      <td>-1.174654</td>\n",
              "      <td>deep</td>\n",
              "    </tr>\n",
              "    <tr>\n",
              "      <th>2</th>\n",
              "      <td>-1.213535</td>\n",
              "      <td>-1.269056</td>\n",
              "      <td>-1.323306</td>\n",
              "      <td>-1.375251</td>\n",
              "      <td>-1.430062</td>\n",
              "      <td>-1.485479</td>\n",
              "      <td>-1.529200</td>\n",
              "      <td>-1.557172</td>\n",
              "      <td>-1.574662</td>\n",
              "      <td>-1.575457</td>\n",
              "      <td>...</td>\n",
              "      <td>0.947940</td>\n",
              "      <td>0.996154</td>\n",
              "      <td>1.035743</td>\n",
              "      <td>1.049543</td>\n",
              "      <td>1.024204</td>\n",
              "      <td>0.954716</td>\n",
              "      <td>0.844505</td>\n",
              "      <td>0.702445</td>\n",
              "      <td>0.541555</td>\n",
              "      <td>deep</td>\n",
              "    </tr>\n",
              "    <tr>\n",
              "      <th>3</th>\n",
              "      <td>-0.914806</td>\n",
              "      <td>-0.887726</td>\n",
              "      <td>-0.856065</td>\n",
              "      <td>-0.823527</td>\n",
              "      <td>-0.794551</td>\n",
              "      <td>-0.768074</td>\n",
              "      <td>-0.740895</td>\n",
              "      <td>-0.713364</td>\n",
              "      <td>-0.685445</td>\n",
              "      <td>-0.652020</td>\n",
              "      <td>...</td>\n",
              "      <td>-0.478218</td>\n",
              "      <td>-0.571465</td>\n",
              "      <td>-0.684115</td>\n",
              "      <td>-0.817078</td>\n",
              "      <td>-0.966231</td>\n",
              "      <td>-1.122537</td>\n",
              "      <td>-1.264759</td>\n",
              "      <td>-1.376908</td>\n",
              "      <td>-1.461059</td>\n",
              "      <td>deep</td>\n",
              "    </tr>\n",
              "    <tr>\n",
              "      <th>4</th>\n",
              "      <td>-1.547469</td>\n",
              "      <td>-1.458818</td>\n",
              "      <td>-1.362120</td>\n",
              "      <td>-1.264829</td>\n",
              "      <td>-1.164948</td>\n",
              "      <td>-1.060064</td>\n",
              "      <td>-0.954496</td>\n",
              "      <td>-0.849448</td>\n",
              "      <td>-0.742812</td>\n",
              "      <td>-0.636614</td>\n",
              "      <td>...</td>\n",
              "      <td>0.227050</td>\n",
              "      <td>0.130983</td>\n",
              "      <td>0.041438</td>\n",
              "      <td>-0.038034</td>\n",
              "      <td>-0.106152</td>\n",
              "      <td>-0.163048</td>\n",
              "      <td>-0.210926</td>\n",
              "      <td>-0.253102</td>\n",
              "      <td>-0.290270</td>\n",
              "      <td>deep</td>\n",
              "    </tr>\n",
              "    <tr>\n",
              "      <th>...</th>\n",
              "      <td>...</td>\n",
              "      <td>...</td>\n",
              "      <td>...</td>\n",
              "      <td>...</td>\n",
              "      <td>...</td>\n",
              "      <td>...</td>\n",
              "      <td>...</td>\n",
              "      <td>...</td>\n",
              "      <td>...</td>\n",
              "      <td>...</td>\n",
              "      <td>...</td>\n",
              "      <td>...</td>\n",
              "      <td>...</td>\n",
              "      <td>...</td>\n",
              "      <td>...</td>\n",
              "      <td>...</td>\n",
              "      <td>...</td>\n",
              "      <td>...</td>\n",
              "      <td>...</td>\n",
              "      <td>...</td>\n",
              "      <td>...</td>\n",
              "    </tr>\n",
              "    <tr>\n",
              "      <th>26395</th>\n",
              "      <td>-0.152463</td>\n",
              "      <td>-0.164723</td>\n",
              "      <td>-0.165409</td>\n",
              "      <td>-0.152623</td>\n",
              "      <td>-0.118115</td>\n",
              "      <td>-0.066218</td>\n",
              "      <td>-0.010253</td>\n",
              "      <td>0.041637</td>\n",
              "      <td>0.092217</td>\n",
              "      <td>0.140510</td>\n",
              "      <td>...</td>\n",
              "      <td>-0.336787</td>\n",
              "      <td>-0.306774</td>\n",
              "      <td>-0.280607</td>\n",
              "      <td>-0.269843</td>\n",
              "      <td>-0.260062</td>\n",
              "      <td>-0.229981</td>\n",
              "      <td>-0.167654</td>\n",
              "      <td>-0.082300</td>\n",
              "      <td>0.004372</td>\n",
              "      <td>quick</td>\n",
              "    </tr>\n",
              "    <tr>\n",
              "      <th>26396</th>\n",
              "      <td>-0.164723</td>\n",
              "      <td>-0.165409</td>\n",
              "      <td>-0.152623</td>\n",
              "      <td>-0.118115</td>\n",
              "      <td>-0.066218</td>\n",
              "      <td>-0.010253</td>\n",
              "      <td>0.041637</td>\n",
              "      <td>0.092217</td>\n",
              "      <td>0.140510</td>\n",
              "      <td>0.188025</td>\n",
              "      <td>...</td>\n",
              "      <td>-0.306774</td>\n",
              "      <td>-0.280607</td>\n",
              "      <td>-0.269843</td>\n",
              "      <td>-0.260062</td>\n",
              "      <td>-0.229981</td>\n",
              "      <td>-0.167654</td>\n",
              "      <td>-0.082300</td>\n",
              "      <td>0.004372</td>\n",
              "      <td>0.089958</td>\n",
              "      <td>quick</td>\n",
              "    </tr>\n",
              "    <tr>\n",
              "      <th>26397</th>\n",
              "      <td>-0.165409</td>\n",
              "      <td>-0.152623</td>\n",
              "      <td>-0.118115</td>\n",
              "      <td>-0.066218</td>\n",
              "      <td>-0.010253</td>\n",
              "      <td>0.041637</td>\n",
              "      <td>0.092217</td>\n",
              "      <td>0.140510</td>\n",
              "      <td>0.188025</td>\n",
              "      <td>0.240939</td>\n",
              "      <td>...</td>\n",
              "      <td>-0.280607</td>\n",
              "      <td>-0.269843</td>\n",
              "      <td>-0.260062</td>\n",
              "      <td>-0.229981</td>\n",
              "      <td>-0.167654</td>\n",
              "      <td>-0.082300</td>\n",
              "      <td>0.004372</td>\n",
              "      <td>0.089958</td>\n",
              "      <td>0.179209</td>\n",
              "      <td>quick</td>\n",
              "    </tr>\n",
              "    <tr>\n",
              "      <th>26398</th>\n",
              "      <td>-0.152623</td>\n",
              "      <td>-0.118115</td>\n",
              "      <td>-0.066218</td>\n",
              "      <td>-0.010253</td>\n",
              "      <td>0.041637</td>\n",
              "      <td>0.092217</td>\n",
              "      <td>0.140510</td>\n",
              "      <td>0.188025</td>\n",
              "      <td>0.240939</td>\n",
              "      <td>0.294399</td>\n",
              "      <td>...</td>\n",
              "      <td>-0.269843</td>\n",
              "      <td>-0.260062</td>\n",
              "      <td>-0.229981</td>\n",
              "      <td>-0.167654</td>\n",
              "      <td>-0.082300</td>\n",
              "      <td>0.004372</td>\n",
              "      <td>0.089958</td>\n",
              "      <td>0.179209</td>\n",
              "      <td>0.264014</td>\n",
              "      <td>quick</td>\n",
              "    </tr>\n",
              "    <tr>\n",
              "      <th>26399</th>\n",
              "      <td>-0.118115</td>\n",
              "      <td>-0.066218</td>\n",
              "      <td>-0.010253</td>\n",
              "      <td>0.041637</td>\n",
              "      <td>0.092217</td>\n",
              "      <td>0.140510</td>\n",
              "      <td>0.188025</td>\n",
              "      <td>0.240939</td>\n",
              "      <td>0.294399</td>\n",
              "      <td>0.340346</td>\n",
              "      <td>...</td>\n",
              "      <td>-0.260062</td>\n",
              "      <td>-0.229981</td>\n",
              "      <td>-0.167654</td>\n",
              "      <td>-0.082300</td>\n",
              "      <td>0.004372</td>\n",
              "      <td>0.089958</td>\n",
              "      <td>0.179209</td>\n",
              "      <td>0.264014</td>\n",
              "      <td>0.343418</td>\n",
              "      <td>quick</td>\n",
              "    </tr>\n",
              "  </tbody>\n",
              "</table>\n",
              "<p>25726 rows × 86 columns</p>\n",
              "</div>\n",
              "      <button class=\"colab-df-convert\" onclick=\"convertToInteractive('df-2329295a-757e-49e6-bb06-b7287690ad9e')\"\n",
              "              title=\"Convert this dataframe to an interactive table.\"\n",
              "              style=\"display:none;\">\n",
              "        \n",
              "  <svg xmlns=\"http://www.w3.org/2000/svg\" height=\"24px\"viewBox=\"0 0 24 24\"\n",
              "       width=\"24px\">\n",
              "    <path d=\"M0 0h24v24H0V0z\" fill=\"none\"/>\n",
              "    <path d=\"M18.56 5.44l.94 2.06.94-2.06 2.06-.94-2.06-.94-.94-2.06-.94 2.06-2.06.94zm-11 1L8.5 8.5l.94-2.06 2.06-.94-2.06-.94L8.5 2.5l-.94 2.06-2.06.94zm10 10l.94 2.06.94-2.06 2.06-.94-2.06-.94-.94-2.06-.94 2.06-2.06.94z\"/><path d=\"M17.41 7.96l-1.37-1.37c-.4-.4-.92-.59-1.43-.59-.52 0-1.04.2-1.43.59L10.3 9.45l-7.72 7.72c-.78.78-.78 2.05 0 2.83L4 21.41c.39.39.9.59 1.41.59.51 0 1.02-.2 1.41-.59l7.78-7.78 2.81-2.81c.8-.78.8-2.07 0-2.86zM5.41 20L4 18.59l7.72-7.72 1.47 1.35L5.41 20z\"/>\n",
              "  </svg>\n",
              "      </button>\n",
              "      \n",
              "  <style>\n",
              "    .colab-df-container {\n",
              "      display:flex;\n",
              "      flex-wrap:wrap;\n",
              "      gap: 12px;\n",
              "    }\n",
              "\n",
              "    .colab-df-convert {\n",
              "      background-color: #E8F0FE;\n",
              "      border: none;\n",
              "      border-radius: 50%;\n",
              "      cursor: pointer;\n",
              "      display: none;\n",
              "      fill: #1967D2;\n",
              "      height: 32px;\n",
              "      padding: 0 0 0 0;\n",
              "      width: 32px;\n",
              "    }\n",
              "\n",
              "    .colab-df-convert:hover {\n",
              "      background-color: #E2EBFA;\n",
              "      box-shadow: 0px 1px 2px rgba(60, 64, 67, 0.3), 0px 1px 3px 1px rgba(60, 64, 67, 0.15);\n",
              "      fill: #174EA6;\n",
              "    }\n",
              "\n",
              "    [theme=dark] .colab-df-convert {\n",
              "      background-color: #3B4455;\n",
              "      fill: #D2E3FC;\n",
              "    }\n",
              "\n",
              "    [theme=dark] .colab-df-convert:hover {\n",
              "      background-color: #434B5C;\n",
              "      box-shadow: 0px 1px 3px 1px rgba(0, 0, 0, 0.15);\n",
              "      filter: drop-shadow(0px 1px 2px rgba(0, 0, 0, 0.3));\n",
              "      fill: #FFFFFF;\n",
              "    }\n",
              "  </style>\n",
              "\n",
              "      <script>\n",
              "        const buttonEl =\n",
              "          document.querySelector('#df-2329295a-757e-49e6-bb06-b7287690ad9e button.colab-df-convert');\n",
              "        buttonEl.style.display =\n",
              "          google.colab.kernel.accessAllowed ? 'block' : 'none';\n",
              "\n",
              "        async function convertToInteractive(key) {\n",
              "          const element = document.querySelector('#df-2329295a-757e-49e6-bb06-b7287690ad9e');\n",
              "          const dataTable =\n",
              "            await google.colab.kernel.invokeFunction('convertToInteractive',\n",
              "                                                     [key], {});\n",
              "          if (!dataTable) return;\n",
              "\n",
              "          const docLinkHtml = 'Like what you see? Visit the ' +\n",
              "            '<a target=\"_blank\" href=https://colab.research.google.com/notebooks/data_table.ipynb>data table notebook</a>'\n",
              "            + ' to learn more about interactive tables.';\n",
              "          element.innerHTML = '';\n",
              "          dataTable['output_type'] = 'display_data';\n",
              "          await google.colab.output.renderOutput(dataTable, element);\n",
              "          const docLink = document.createElement('div');\n",
              "          docLink.innerHTML = docLinkHtml;\n",
              "          element.appendChild(docLink);\n",
              "        }\n",
              "      </script>\n",
              "    </div>\n",
              "  </div>\n",
              "  "
            ]
          },
          "metadata": {},
          "execution_count": 6
        }
      ]
    },
    {
      "cell_type": "code",
      "source": [
        "df['labels'].value_counts()"
      ],
      "metadata": {
        "colab": {
          "base_uri": "https://localhost:8080/"
        },
        "id": "Yslyj_2KFzxZ",
        "outputId": "a48d0682-5dfc-48bf-cc9e-6193e32cbbc2"
      },
      "execution_count": null,
      "outputs": [
        {
          "output_type": "execute_result",
          "data": {
            "text/plain": [
              "normal        19060\n",
              "quick          2667\n",
              "hold           2133\n",
              "deep           1066\n",
              "deep_quick      800\n",
              "Name: labels, dtype: int64"
            ]
          },
          "metadata": {},
          "execution_count": 7
        }
      ]
    },
    {
      "cell_type": "markdown",
      "source": [
        "### Separate the data according to their labels"
      ],
      "metadata": {
        "id": "1DarVtTeFfd_"
      }
    },
    {
      "cell_type": "code",
      "source": [
        "normal_df = df[df['labels'] == \"normal\"]\n",
        "quick_df = df[df['labels'] == \"quick\"]\n",
        "hold_df = df[df['labels'] == \"hold\"]\n",
        "deep_df = df[df['labels'] == \"deep\"]\n",
        "deep_quick_df = df[df['labels'] == \"deep_quick\"]"
      ],
      "metadata": {
        "id": "Y_4XvpfzEYBR"
      },
      "execution_count": null,
      "outputs": []
    },
    {
      "cell_type": "markdown",
      "source": [
        "### Seperate the data (X) and the label (Y)"
      ],
      "metadata": {
        "id": "g9hk--KOJNNx"
      }
    },
    {
      "cell_type": "code",
      "source": [
        "X = normal_df.iloc[:, :-1]\n",
        "Y = normal_df.iloc[:, -1]"
      ],
      "metadata": {
        "id": "qi5q4DpoJLgr"
      },
      "execution_count": null,
      "outputs": []
    },
    {
      "cell_type": "markdown",
      "source": [
        "### Normalize the data"
      ],
      "metadata": {
        "id": "qYs6rxwqJESP"
      }
    },
    {
      "cell_type": "code",
      "source": [
        "# Data (X)\n",
        "from sklearn.preprocessing import MinMaxScaler\n",
        "scaler = MinMaxScaler()\n",
        "X = scaler.fit_transform(X)"
      ],
      "metadata": {
        "id": "HGMMQAxIJCbM"
      },
      "execution_count": null,
      "outputs": []
    },
    {
      "cell_type": "code",
      "source": [
        "# Label (Y)\n",
        "from sklearn.preprocessing import LabelEncoder\n",
        "from keras.utils import np_utils\n",
        "\n",
        "# encode class values as integers [0,0,0,0,0,0,0,1,1,1,1,1,2,2,2,2]\n",
        "encoder = LabelEncoder()\n",
        "encoder.fit(Y)\n",
        "encoded_Y = encoder.transform(Y)\n",
        "\n",
        "# convert integers to dummy variables (i.e. one hot encoded)\n",
        "hot_y = np_utils.to_categorical(encoded_Y)"
      ],
      "metadata": {
        "id": "YsPhN1DHJl0q"
      },
      "execution_count": null,
      "outputs": []
    },
    {
      "cell_type": "markdown",
      "source": [
        "# PART 2 : Setup The Neural Network"
      ],
      "metadata": {
        "id": "0ytoRT3LGmye"
      }
    },
    {
      "cell_type": "markdown",
      "source": [
        "### Importing Neural Network Libraries"
      ],
      "metadata": {
        "id": "2DN95tLX5Gue"
      }
    },
    {
      "cell_type": "code",
      "source": [
        "from keras.models import Sequential\n",
        "### from keras.layers import LSTM\n",
        "from keras.layers import Dense\n",
        "from keras.layers import Dropout\n",
        "from keras.layers import LeakyReLU\n",
        "from keras.layers import Activation\n",
        "from tensorflow.keras import activations"
      ],
      "metadata": {
        "id": "fdpxkFBm5GOO"
      },
      "execution_count": null,
      "outputs": []
    },
    {
      "cell_type": "code",
      "source": [
        "class AE(Model):\n",
        "  def __init__(self):\n",
        "    super(AE, self).__init__()\n",
        "\n",
        "    ### Encoder ###\n",
        "    self.encoder = Sequential()\n",
        "    # First Layer\n",
        "    self.encoder.add(Dense(64, input_shape=(85,)))\n",
        "    self.encoder.add(LeakyReLU())\n",
        "    # Second Layer\n",
        "    self.encoder.add(Dense(32))\n",
        "    self.encoder.add(LeakyReLU())\n",
        "    # Third Layer\n",
        "    self.encoder.add(Dense(16))\n",
        "    self.encoder.add(LeakyReLU())\n",
        "    # Fourth Layer\n",
        "    # It Has Latent Space Dimension of 8\n",
        "    self.encoder.add(Dense(8))\n",
        "    self.encoder.add(LeakyReLU())\n",
        "\n",
        "    ### Decoder ###\n",
        "    self.decoder = Sequential()\n",
        "    # First Layer\n",
        "    self.decoder.add(Dense(16, input_shape=(8, )))\n",
        "    self.encoder.add(LeakyReLU())\n",
        "    # Second Layer\n",
        "    self.decoder.add(Dense(32))\n",
        "    self.decoder.add(LeakyReLU())\n",
        "    # Third Layer\n",
        "    self.decoder.add(Dense(85))\n",
        "    self.decoder.add(Activation(activations.sigmoid))\n",
        "\n",
        "  def call(self, x):\n",
        "    encoded = self.encoder(x)\n",
        "    decoded = self.decoder(encoded)\n",
        "    return decoded"
      ],
      "metadata": {
        "id": "ylMMa6IhGC5L"
      },
      "execution_count": null,
      "outputs": []
    },
    {
      "cell_type": "code",
      "source": [
        "from keras.optimizers import Adam\n",
        "\n",
        "# Create new autoencoder object\n",
        "autoencoder = AE()\n",
        "autoencoder.compile(optimizer=Adam(learning_rate=0.001), loss='mae')"
      ],
      "metadata": {
        "colab": {
          "base_uri": "https://localhost:8080/"
        },
        "id": "Y5tlVknLHDxE",
        "outputId": "23c96b49-2700-4ca2-89cd-4ee665b6f598"
      },
      "execution_count": null,
      "outputs": [
        {
          "output_type": "stream",
          "name": "stderr",
          "text": [
            "/usr/local/lib/python3.10/dist-packages/keras/optimizers/legacy/adam.py:117: UserWarning: The `lr` argument is deprecated, use `learning_rate` instead.\n",
            "  super().__init__(name, **kwargs)\n"
          ]
        }
      ]
    },
    {
      "cell_type": "markdown",
      "source": [
        "## PART 3 : Training"
      ],
      "metadata": {
        "id": "qzoHxtnb8CU-"
      }
    },
    {
      "cell_type": "code",
      "source": [
        "# Fit the Model\n",
        "model = autoencoder.fit(X, X,\n",
        "          epochs=20,\n",
        "          batch_size=16,\n",
        "          shuffle=True, verbose=1)"
      ],
      "metadata": {
        "colab": {
          "base_uri": "https://localhost:8080/"
        },
        "id": "K-xmwYeUNRgH",
        "outputId": "98cd702a-e206-4766-bdb7-b80cf668d1e1"
      },
      "execution_count": null,
      "outputs": [
        {
          "output_type": "stream",
          "name": "stdout",
          "text": [
            "Epoch 1/20\n",
            "1192/1192 [==============================] - 7s 5ms/step - loss: 0.0362\n",
            "Epoch 2/20\n",
            "1192/1192 [==============================] - 5s 4ms/step - loss: 0.0253\n",
            "Epoch 3/20\n",
            "1192/1192 [==============================] - 6s 5ms/step - loss: 0.0219\n",
            "Epoch 4/20\n",
            "1192/1192 [==============================] - 5s 4ms/step - loss: 0.0210\n",
            "Epoch 5/20\n",
            "1192/1192 [==============================] - 6s 5ms/step - loss: 0.0191\n",
            "Epoch 6/20\n",
            "1192/1192 [==============================] - 4s 4ms/step - loss: 0.0179\n",
            "Epoch 7/20\n",
            "1192/1192 [==============================] - 2s 2ms/step - loss: 0.0174\n",
            "Epoch 8/20\n",
            "1192/1192 [==============================] - 2s 2ms/step - loss: 0.0172\n",
            "Epoch 9/20\n",
            "1192/1192 [==============================] - 2s 2ms/step - loss: 0.0170\n",
            "Epoch 10/20\n",
            "1192/1192 [==============================] - 4s 3ms/step - loss: 0.0169\n",
            "Epoch 11/20\n",
            "1192/1192 [==============================] - 2s 2ms/step - loss: 0.0168\n",
            "Epoch 12/20\n",
            "1192/1192 [==============================] - 2s 2ms/step - loss: 0.0166\n",
            "Epoch 13/20\n",
            "1192/1192 [==============================] - 2s 2ms/step - loss: 0.0150\n",
            "Epoch 14/20\n",
            "1192/1192 [==============================] - 3s 2ms/step - loss: 0.0137\n",
            "Epoch 15/20\n",
            "1192/1192 [==============================] - 3s 3ms/step - loss: 0.0133\n",
            "Epoch 16/20\n",
            "1192/1192 [==============================] - 2s 2ms/step - loss: 0.0131\n",
            "Epoch 17/20\n",
            "1192/1192 [==============================] - 2s 2ms/step - loss: 0.0130\n",
            "Epoch 18/20\n",
            "1192/1192 [==============================] - 2s 2ms/step - loss: 0.0129\n",
            "Epoch 19/20\n",
            "1192/1192 [==============================] - 3s 2ms/step - loss: 0.0128\n",
            "Epoch 20/20\n",
            "1192/1192 [==============================] - 3s 3ms/step - loss: 0.0128\n"
          ]
        }
      ]
    },
    {
      "cell_type": "markdown",
      "source": [
        "### Plot the training loss graph"
      ],
      "metadata": {
        "id": "r8VW_0go9FMV"
      }
    },
    {
      "cell_type": "code",
      "source": [
        "plt.plot(model.history[\"loss\"], label=\"Training Loss\")\n",
        "plt.legend()"
      ],
      "metadata": {
        "colab": {
          "base_uri": "https://localhost:8080/",
          "height": 448
        },
        "id": "xBc394dYNfGI",
        "outputId": "649634ba-ad48-4c93-dd9f-212220f4db12"
      },
      "execution_count": null,
      "outputs": [
        {
          "output_type": "execute_result",
          "data": {
            "text/plain": [
              "<matplotlib.legend.Legend at 0x7f5d7930ab60>"
            ]
          },
          "metadata": {},
          "execution_count": 16
        },
        {
          "output_type": "display_data",
          "data": {
            "text/plain": [
              "<Figure size 640x480 with 1 Axes>"
            ],
            "image/png": "[encoded data removed]"
          },
          "metadata": {}
        }
      ]
    },
    {
      "cell_type": "markdown",
      "source": [
        "### Define a function to smoothing the wave curve"
      ],
      "metadata": {
        "id": "zCtO12xs8f_1"
      }
    },
    {
      "cell_type": "code",
      "source": [
        "# smoothing the wave of decoded_data\n",
        "from scipy.signal import savgol_filter\n",
        "\n",
        "def smooth_wave(wave):\n",
        "  # Define the parameters for the Savitzky-Golay filter\n",
        "  window_length = 10  # The length of the window (odd number)\n",
        "  polyorder = 2  # The order of the polynomial fit\n",
        "\n",
        "  return savgol_filter(wave, window_length, polyorder)"
      ],
      "metadata": {
        "id": "pptqXcSN8a-l"
      },
      "execution_count": null,
      "outputs": []
    },
    {
      "cell_type": "markdown",
      "source": [
        "### Testing the model"
      ],
      "metadata": {
        "id": "XFCQHzRs9H1F"
      }
    },
    {
      "cell_type": "code",
      "source": [
        "encoded_data = autoencoder.encoder(X).numpy()\n",
        "decoded_data = autoencoder.decoder(encoded_data).numpy()\n",
        "\n",
        "# Apply the Savitzky-Golay filter\n",
        "decoded_data = smooth_wave(decoded_data)"
      ],
      "metadata": {
        "id": "8Uu_aBhlOulH"
      },
      "execution_count": null,
      "outputs": []
    },
    {
      "cell_type": "markdown",
      "source": [
        "### Calculate the Mean Average Error (MAE) from all data"
      ],
      "metadata": {
        "id": "UIImf_wE9eZQ"
      }
    },
    {
      "cell_type": "code",
      "source": [
        "loss = tf.keras.losses.mae(decoded_data, X)\n",
        "print(\"Mean Average Error : {}\".format(np.mean(loss * 100)))"
      ],
      "metadata": {
        "colab": {
          "base_uri": "https://localhost:8080/"
        },
        "id": "29Ixn4SR_ZDd",
        "outputId": "e20aeb14-f127-4505-86a5-ed940b2a5f13"
      },
      "execution_count": null,
      "outputs": [
        {
          "output_type": "execute_result",
          "data": {
            "text/plain": [
              "1.3469677987160895"
            ]
          },
          "metadata": {},
          "execution_count": 18
        }
      ]
    },
    {
      "cell_type": "code",
      "source": [
        "idx = 100\n",
        "plt.plot(X[idx], 'b')\n",
        "plt.plot(decoded_data[idx], 'g')\n",
        "plt.fill_between(np.arange(X.shape[1]), decoded_data[idx], X[idx], color='lightcoral')\n",
        "plt.legend(labels=[\"Input\", \"Reconstruction\", \"Error\"])\n",
        "\n",
        "plt.show()"
      ],
      "metadata": {
        "colab": {
          "base_uri": "https://localhost:8080/",
          "height": 430
        },
        "id": "XYUR6BUj--wM",
        "outputId": "9e04fe5a-cf73-4f18-a1de-36db4c751544"
      },
      "execution_count": null,
      "outputs": [
        {
          "output_type": "display_data",
          "data": {
            "text/plain": [
              "<Figure size 640x480 with 1 Axes>"
            ],
            "image/png": "[encoded data removed]"
          },
          "metadata": {}
        }
      ]
    },
    {
      "cell_type": "code",
      "source": [
        "# Create figure and axis objects\n",
        "fig, ax = plt.subplots(10)\n",
        "\n",
        "for idx in range(10):\n",
        "  # Plot each time series\n",
        "  ax[idx].plot(X[idx], 'b')\n",
        "  ax[idx].plot(decoded_data[idx], 'g')\n",
        "  ax[idx].fill_between(np.arange(X.shape[1]), decoded_data[idx], X[idx], color='lightcoral')\n",
        "  ax[idx].set_title(\"Data {}\".format(idx))\n",
        "  ax[idx].legend(labels=[\"Input\", \"Reconstruction\", \"Error\"])\n",
        "\n",
        "# Customize the overall layout\n",
        "plt.tight_layout()\n",
        "\n",
        "# Show\n",
        "plt.show()"
      ],
      "metadata": {
        "id": "dAdFN4B2-ER6"
      },
      "execution_count": null,
      "outputs": []
    },
    {
      "cell_type": "markdown",
      "source": [
        "## PART 4 : Generating New Data"
      ],
      "metadata": {
        "id": "1BH6mnrbz4jI"
      }
    },
    {
      "cell_type": "code",
      "source": [
        "# Set the number of data points to generate\n",
        "num_samples = 10\n",
        "\n",
        "# Randomly sample latent vectors from a predefined range\n",
        "latent_dim = 85\n",
        "latent_vectors = np.random.rand(*(num_samples, latent_dim))\n",
        "\n",
        "# Generate new data by decoding the latent vectors\n",
        "generated_data = autoencoder.predict(latent_vectors)"
      ],
      "metadata": {
        "colab": {
          "base_uri": "https://localhost:8080/"
        },
        "id": "ob4C1KuQPIOR",
        "outputId": "092570ff-9ca8-4e04-bff9-fd8c806fa220"
      },
      "execution_count": null,
      "outputs": [
        {
          "output_type": "stream",
          "name": "stdout",
          "text": [
            "1/1 [==============================] - 0s 22ms/step\n"
          ]
        }
      ]
    },
    {
      "cell_type": "code",
      "source": [
        "plt.plot(generated_data[6])"
      ],
      "metadata": {
        "colab": {
          "base_uri": "https://localhost:8080/",
          "height": 448
        },
        "id": "yEVgCWga0GHF",
        "outputId": "02c9358f-1d83-497a-8e23-2eabb3ea13ac"
      },
      "execution_count": null,
      "outputs": [
        {
          "output_type": "execute_result",
          "data": {
            "text/plain": [
              "[<matplotlib.lines.Line2D at 0x7f5d78a06dd0>]"
            ]
          },
          "metadata": {},
          "execution_count": 34
        },
        {
          "output_type": "display_data",
          "data": {
            "text/plain": [
              "<Figure size 640x480 with 1 Axes>"
            ],
            "image/png": "[encoded data removed]"
          },
          "metadata": {}
        }
      ]
    },
    {
      "cell_type": "markdown",
      "source": [
        "## Smoothing it"
      ],
      "metadata": {
        "id": "eFGqIT4_87kE"
      }
    },
    {
      "cell_type": "code",
      "source": [
        "# Apply the Savitzky-Golay filter\n",
        "generated_data = savgol_filter(generated_data, window_length, polyorder)"
      ],
      "metadata": {
        "id": "Uvs6rFeV0eO7"
      },
      "execution_count": null,
      "outputs": []
    },
    {
      "cell_type": "code",
      "source": [
        "plt.plot(generated_data[9])"
      ],
      "metadata": {
        "colab": {
          "base_uri": "https://localhost:8080/",
          "height": 448
        },
        "id": "gSIuhXB-9B69",
        "outputId": "4f681c34-282b-4709-838f-babdcd1158e3"
      },
      "execution_count": null,
      "outputs": [
        {
          "output_type": "execute_result",
          "data": {
            "text/plain": [
              "[<matplotlib.lines.Line2D at 0x7f5d74cca230>]"
            ]
          },
          "metadata": {},
          "execution_count": 31
        },
        {
          "output_type": "display_data",
          "data": {
            "text/plain": [
              "<Figure size 640x480 with 1 Axes>"
            ],
            "image/png": "[encoded data removed]"
          },
          "metadata": {}
        }
      ]
    },
    {
      "cell_type": "code",
      "source": [],
      "metadata": {
        "id": "ojR_Pn5q9EJI"
      },
      "execution_count": null,
      "outputs": []
    }
  ]
}